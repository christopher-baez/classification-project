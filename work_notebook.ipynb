{
 "cells": [
  {
   "cell_type": "code",
   "execution_count": 2,
   "id": "initial_id",
   "metadata": {
    "collapsed": true,
    "ExecuteTime": {
     "end_time": "2023-12-05T21:50:29.535121Z",
     "start_time": "2023-12-05T21:50:29.003628Z"
    }
   },
   "outputs": [],
   "source": [
    "# importing all the imports needed for this phase\n",
    "# data manipulation\n",
    "import pandas as pd\n",
    "import numpy as np\n",
    "\n",
    "# visuals\n",
    "import matplotlib.pyplot as plt\n",
    "import seaborn as sns\n",
    "\n",
    "# personal import\n",
    "import acquire as a\n",
    "import prepare as p\n",
    "import explore as e\n",
    "import env\n",
    "import MODEL as m\n",
    "\n",
    "\n",
    "#stats import\n",
    "from scipy import stats\n",
    "\n",
    "# ML stuff:\n",
    "from sklearn.metrics import accuracy_score, classification_report\n",
    "from sklearn.tree import DecisionTreeClassifier, \\\n",
    "export_text, plot_tree\n",
    "from sklearn.model_selection import train_test_split\n",
    "from sklearn.ensemble import RandomForestClassifier"
   ]
  },
  {
   "cell_type": "markdown",
   "source": [
    "> ACQUIRE"
   ],
   "metadata": {
    "collapsed": false
   },
   "id": "84fc1162f184c315"
  },
  {
   "cell_type": "code",
   "execution_count": null,
   "outputs": [],
   "source": [],
   "metadata": {
    "collapsed": false
   },
   "id": "fea182c6c7b0d6e9"
  },
  {
   "cell_type": "code",
   "execution_count": 8,
   "outputs": [],
   "source": [
    "# creating the url and creating SQL query to pull data\n",
    "url = env.get_db_url('telco_churn')\n",
    "query = \"select * from customers join contract_types using(contract_type_id) join internet_service_types using(internet_service_type_id) join payment_types using(payment_type_id)\""
   ],
   "metadata": {
    "collapsed": false,
    "ExecuteTime": {
     "end_time": "2023-12-05T20:45:08.795115Z",
     "start_time": "2023-12-05T20:45:08.679867Z"
    }
   },
   "id": "5521654dd4ed55d7"
  },
  {
   "cell_type": "code",
   "execution_count": 12,
   "outputs": [
    {
     "name": "stdout",
     "output_type": "stream",
     "text": [
      "this file exists, reading csv\n"
     ]
    }
   ],
   "source": [
    "# pulling database using read sql function\n",
    "df = a.get_telco_data()"
   ],
   "metadata": {
    "collapsed": false,
    "ExecuteTime": {
     "end_time": "2023-12-05T20:45:57.207291Z",
     "start_time": "2023-12-05T20:45:57.070016Z"
    }
   },
   "id": "22c13e0435ae9ad7"
  },
  {
   "cell_type": "code",
   "execution_count": 13,
   "outputs": [
    {
     "data": {
      "text/plain": "(7043, 24)"
     },
     "execution_count": 13,
     "metadata": {},
     "output_type": "execute_result"
    }
   ],
   "source": [
    "# checking the size of the data\n",
    "df.shape"
   ],
   "metadata": {
    "collapsed": false,
    "ExecuteTime": {
     "end_time": "2023-12-05T20:46:01.763898Z",
     "start_time": "2023-12-05T20:46:01.135379Z"
    }
   },
   "id": "3977ee524aef35cb"
  },
  {
   "cell_type": "markdown",
   "source": [
    ">there are 7043 rows and 24 columns"
   ],
   "metadata": {
    "collapsed": false
   },
   "id": "bc7ceb82b7a88388"
  },
  {
   "cell_type": "markdown",
   "source": [
    "from this data i can initially see what are some columns that can be important and some that are not"
   ],
   "metadata": {
    "collapsed": false
   },
   "id": "9279c06dbd2a1773"
  },
  {
   "cell_type": "markdown",
   "source": [
    "important\n",
    "> gender\n",
    "> tenure\n",
    "> senior\n",
    "> monthly"
   ],
   "metadata": {
    "collapsed": false
   },
   "id": "af8705b4180b34a7"
  },
  {
   "cell_type": "markdown",
   "source": [
    "unimportant\n",
    "> payment_type_id\n",
    "> internet_service_type\n",
    "> contract_type_id\n",
    "> customer_id ( theres already an index)  "
   ],
   "metadata": {
    "collapsed": false
   },
   "id": "ad4f9411a1abedd6"
  },
  {
   "cell_type": "markdown",
   "source": [
    ">PREPARE"
   ],
   "metadata": {
    "collapsed": false
   },
   "id": "f7749cd7cc929ed7"
  },
  {
   "cell_type": "code",
   "execution_count": 14,
   "outputs": [],
   "source": [
    "# using prep telco to clan data\n",
    "df =p.prep_telco(df)"
   ],
   "metadata": {
    "collapsed": false,
    "ExecuteTime": {
     "end_time": "2023-12-05T20:46:04.691732Z",
     "start_time": "2023-12-05T20:46:04.645987Z"
    }
   },
   "id": "511222478af8d3b1"
  },
  {
   "cell_type": "code",
   "execution_count": 15,
   "outputs": [
    {
     "data": {
      "text/plain": "(7032, 16)"
     },
     "execution_count": 15,
     "metadata": {},
     "output_type": "execute_result"
    }
   ],
   "source": [
    "df.shape"
   ],
   "metadata": {
    "collapsed": false,
    "ExecuteTime": {
     "end_time": "2023-12-05T20:46:06.861392Z",
     "start_time": "2023-12-05T20:46:06.810497Z"
    }
   },
   "id": "8994faac48ece35"
  },
  {
   "cell_type": "code",
   "execution_count": 15,
   "outputs": [],
   "source": [],
   "metadata": {
    "collapsed": false,
    "ExecuteTime": {
     "end_time": "2023-12-05T20:46:07.212148Z",
     "start_time": "2023-12-05T20:46:07.172391Z"
    }
   },
   "id": "51d83a093385950a"
  },
  {
   "cell_type": "code",
   "execution_count": 16,
   "outputs": [],
   "source": [
    "encoded_df = p.preprocess_data(df)"
   ],
   "metadata": {
    "collapsed": false,
    "ExecuteTime": {
     "end_time": "2023-12-05T20:46:16.292098Z",
     "start_time": "2023-12-05T20:46:16.196301Z"
    }
   },
   "id": "c30cc2d8010391b5"
  },
  {
   "cell_type": "markdown",
   "source": [
    "now split the data"
   ],
   "metadata": {
    "collapsed": false
   },
   "id": "3803bf7c92541daa"
  },
  {
   "cell_type": "code",
   "execution_count": 17,
   "outputs": [],
   "source": [
    "# splitting the data\n",
    "train, validate, test = p.splitting_data(encoded_df, 'churn')"
   ],
   "metadata": {
    "collapsed": false,
    "ExecuteTime": {
     "end_time": "2023-12-05T20:46:26.935496Z",
     "start_time": "2023-12-05T20:46:25.163045Z"
    }
   },
   "id": "412f5ea93fb96365"
  },
  {
   "cell_type": "code",
   "execution_count": 18,
   "outputs": [
    {
     "data": {
      "text/plain": "((4219, 16), (1406, 16), (1407, 16))"
     },
     "execution_count": 18,
     "metadata": {},
     "output_type": "execute_result"
    }
   ],
   "source": [
    "train.shape, validate.shape, test.shape"
   ],
   "metadata": {
    "collapsed": false,
    "ExecuteTime": {
     "end_time": "2023-12-05T20:46:29.596905Z",
     "start_time": "2023-12-05T20:46:29.444332Z"
    }
   },
   "id": "dde48572cdfba8dd"
  },
  {
   "cell_type": "markdown",
   "source": [
    "### preprocess"
   ],
   "metadata": {
    "collapsed": false
   },
   "id": "e2af3adee99cd6d3"
  },
  {
   "cell_type": "code",
   "execution_count": 10,
   "outputs": [],
   "source": [],
   "metadata": {
    "collapsed": false,
    "ExecuteTime": {
     "end_time": "2023-12-04T21:38:17.470202Z",
     "start_time": "2023-12-04T21:38:17.242671Z"
    }
   },
   "id": "3c7c6d4aacda8fb4"
  },
  {
   "cell_type": "code",
   "execution_count": 11,
   "outputs": [
    {
     "data": {
      "text/plain": "      senior_citizen  partner  dependents  tenure  phone_service  \\\n5671               1        0           0      54              1   \n6843               0        0           0       2              1   \n2325               0        1           1      71              1   \n6323               0        0           0       1              1   \n3081               1        1           0      12              1   \n\n      multiple_lines  streaming_tv  streaming_movies  monthly_charges  \\\n5671               0             0                 1            65.25   \n6843               0             0                 0            70.30   \n2325               0             1                 1           104.65   \n6323               0             0                 0            44.95   \n3081               0             1                 1            79.20   \n\n      total_charges  churn  has_add_ons  has_internet  monthly_contract  \\\n5671        3529.95      0            1             1                 0   \n6843         144.00      0            0             1                 1   \n2325        7288.40      0            1             1                 0   \n6323          44.95      0            0             1                 1   \n3081         943.85      0            1             1                 0   \n\n      automatic_payment  is_male  \n5671                  1        1  \n6843                  0        1  \n2325                  1        1  \n6323                  0        1  \n3081                  0        0  ",
      "text/html": "<div>\n<style scoped>\n    .dataframe tbody tr th:only-of-type {\n        vertical-align: middle;\n    }\n\n    .dataframe tbody tr th {\n        vertical-align: top;\n    }\n\n    .dataframe thead th {\n        text-align: right;\n    }\n</style>\n<table border=\"1\" class=\"dataframe\">\n  <thead>\n    <tr style=\"text-align: right;\">\n      <th></th>\n      <th>senior_citizen</th>\n      <th>partner</th>\n      <th>dependents</th>\n      <th>tenure</th>\n      <th>phone_service</th>\n      <th>multiple_lines</th>\n      <th>streaming_tv</th>\n      <th>streaming_movies</th>\n      <th>monthly_charges</th>\n      <th>total_charges</th>\n      <th>churn</th>\n      <th>has_add_ons</th>\n      <th>has_internet</th>\n      <th>monthly_contract</th>\n      <th>automatic_payment</th>\n      <th>is_male</th>\n    </tr>\n  </thead>\n  <tbody>\n    <tr>\n      <th>5671</th>\n      <td>1</td>\n      <td>0</td>\n      <td>0</td>\n      <td>54</td>\n      <td>1</td>\n      <td>0</td>\n      <td>0</td>\n      <td>1</td>\n      <td>65.25</td>\n      <td>3529.95</td>\n      <td>0</td>\n      <td>1</td>\n      <td>1</td>\n      <td>0</td>\n      <td>1</td>\n      <td>1</td>\n    </tr>\n    <tr>\n      <th>6843</th>\n      <td>0</td>\n      <td>0</td>\n      <td>0</td>\n      <td>2</td>\n      <td>1</td>\n      <td>0</td>\n      <td>0</td>\n      <td>0</td>\n      <td>70.30</td>\n      <td>144.00</td>\n      <td>0</td>\n      <td>0</td>\n      <td>1</td>\n      <td>1</td>\n      <td>0</td>\n      <td>1</td>\n    </tr>\n    <tr>\n      <th>2325</th>\n      <td>0</td>\n      <td>1</td>\n      <td>1</td>\n      <td>71</td>\n      <td>1</td>\n      <td>0</td>\n      <td>1</td>\n      <td>1</td>\n      <td>104.65</td>\n      <td>7288.40</td>\n      <td>0</td>\n      <td>1</td>\n      <td>1</td>\n      <td>0</td>\n      <td>1</td>\n      <td>1</td>\n    </tr>\n    <tr>\n      <th>6323</th>\n      <td>0</td>\n      <td>0</td>\n      <td>0</td>\n      <td>1</td>\n      <td>1</td>\n      <td>0</td>\n      <td>0</td>\n      <td>0</td>\n      <td>44.95</td>\n      <td>44.95</td>\n      <td>0</td>\n      <td>0</td>\n      <td>1</td>\n      <td>1</td>\n      <td>0</td>\n      <td>1</td>\n    </tr>\n    <tr>\n      <th>3081</th>\n      <td>1</td>\n      <td>1</td>\n      <td>0</td>\n      <td>12</td>\n      <td>1</td>\n      <td>0</td>\n      <td>1</td>\n      <td>1</td>\n      <td>79.20</td>\n      <td>943.85</td>\n      <td>0</td>\n      <td>1</td>\n      <td>1</td>\n      <td>0</td>\n      <td>0</td>\n      <td>0</td>\n    </tr>\n  </tbody>\n</table>\n</div>"
     },
     "execution_count": 11,
     "metadata": {},
     "output_type": "execute_result"
    }
   ],
   "source": [
    "train.head()"
   ],
   "metadata": {
    "collapsed": false,
    "ExecuteTime": {
     "end_time": "2023-12-04T21:38:20.722018Z",
     "start_time": "2023-12-04T21:38:20.036876Z"
    }
   },
   "id": "c878046ae3a3af1e"
  },
  {
   "cell_type": "code",
   "execution_count": 19,
   "outputs": [
    {
     "name": "stdout",
     "output_type": "stream",
     "text": [
      "senior_citizen': [1 0]\n",
      "partner': [0 1]\n",
      "dependents': [0 1]\n",
      "tenure': [54  2 71  1 12 46 70 16 56 17  5 29 52 21 25 27 66  9  4 13 65  8 20 28\n",
      " 61 10 26 11 50 34 55 59 45 60 53 31 69 18 68 72 38 36 37 22 42  6 32 57\n",
      " 67 19  3 43 14 49  7 35 44 15 47 24 33 62 23 64 30 63 48 39 41 51 58 40]\n",
      "phone_service': [1 0]\n",
      "multiple_lines': [0 1]\n",
      "streaming_tv': [0 1]\n",
      "streaming_movies': [1 0]\n",
      "monthly_charges': [ 65.25  70.3  104.65 ...  36.05  96.25 112.35]\n",
      "total_charges': [3529.95  144.   7288.4  ...  595.05 5485.5   514.75]\n",
      "churn': [0 1]\n",
      "has_add_ons': [1 0]\n",
      "has_internet': [1]\n",
      "monthly_contract': [0 1]\n",
      "automatic_payment': [1 0]\n",
      "is_male': [1 0]\n"
     ]
    }
   ],
   "source": [
    "# created a for loop to visualy see the unique values in each columns \n",
    "# and added to binary if 2 and multiclass if more\n",
    "cat_var=[]\n",
    "cont_var= []\n",
    "for column in train.columns:\n",
    "    unique_values = train[column].unique()\n",
    "    print(f\"{column}': {unique_values}\")\n",
    "    if train[column].nunique() == 2:\n",
    "        cat_var.append(column)\n",
    "    elif train[column].nunique() > 2:\n",
    "        cont_var.append(column)"
   ],
   "metadata": {
    "collapsed": false,
    "ExecuteTime": {
     "end_time": "2023-12-05T20:46:43.864172Z",
     "start_time": "2023-12-05T20:46:43.369876Z"
    }
   },
   "id": "4b803991c2580bc0"
  },
  {
   "cell_type": "code",
   "execution_count": 11,
   "outputs": [],
   "source": [
    "yn=['partner','dependents','phone_service']"
   ],
   "metadata": {
    "collapsed": false,
    "ExecuteTime": {
     "end_time": "2023-12-04T18:09:22.277500Z",
     "start_time": "2023-12-04T18:09:22.009873Z"
    }
   },
   "id": "e25dd36d532326d9"
  },
  {
   "cell_type": "markdown",
   "source": [
    "now that i got a see which columns are what going to start seperating them to encod"
   ],
   "metadata": {
    "collapsed": false
   },
   "id": "b23b41596245c67d"
  },
  {
   "cell_type": "code",
   "execution_count": 12,
   "outputs": [
    {
     "data": {
      "text/plain": "['tenure', 'monthly_charges', 'total_charges']"
     },
     "execution_count": 12,
     "metadata": {},
     "output_type": "execute_result"
    }
   ],
   "source": [
    "cont_var"
   ],
   "metadata": {
    "collapsed": false,
    "ExecuteTime": {
     "end_time": "2023-12-04T18:09:23.570589Z",
     "start_time": "2023-12-04T18:09:23.551741Z"
    }
   },
   "id": "19cbc839ccdb59a8"
  },
  {
   "cell_type": "code",
   "execution_count": 13,
   "outputs": [
    {
     "data": {
      "text/plain": "['senior_citizen',\n 'partner',\n 'dependents',\n 'phone_service',\n 'multiple_lines',\n 'streaming_tv',\n 'streaming_movies',\n 'churn',\n 'has_add_ons',\n 'has_internet',\n 'monthly_contract',\n 'automatic_payment',\n 'is_male']"
     },
     "execution_count": 13,
     "metadata": {},
     "output_type": "execute_result"
    }
   ],
   "source": [
    "cat_var"
   ],
   "metadata": {
    "collapsed": false,
    "ExecuteTime": {
     "end_time": "2023-12-04T18:09:24.742756Z",
     "start_time": "2023-12-04T18:09:24.665086Z"
    }
   },
   "id": "320fc2a2fbcb87d8"
  },
  {
   "cell_type": "markdown",
   "source": [
    "> working on the multiclass right now"
   ],
   "metadata": {
    "collapsed": false
   },
   "id": "d6e3753244e73e63"
  },
  {
   "cell_type": "code",
   "execution_count": 44,
   "outputs": [
    {
     "ename": "KeyError",
     "evalue": "'internet_service_type'",
     "output_type": "error",
     "traceback": [
      "\u001B[0;31m---------------------------------------------------------------------------\u001B[0m",
      "\u001B[0;31mKeyError\u001B[0m                                  Traceback (most recent call last)",
      "File \u001B[0;32m~/codeup-data-science/venv/lib/python3.11/site-packages/pandas/core/indexes/base.py:3790\u001B[0m, in \u001B[0;36mIndex.get_loc\u001B[0;34m(self, key)\u001B[0m\n\u001B[1;32m   3789\u001B[0m \u001B[38;5;28;01mtry\u001B[39;00m:\n\u001B[0;32m-> 3790\u001B[0m     \u001B[38;5;28;01mreturn\u001B[39;00m \u001B[38;5;28;43mself\u001B[39;49m\u001B[38;5;241;43m.\u001B[39;49m\u001B[43m_engine\u001B[49m\u001B[38;5;241;43m.\u001B[39;49m\u001B[43mget_loc\u001B[49m\u001B[43m(\u001B[49m\u001B[43mcasted_key\u001B[49m\u001B[43m)\u001B[49m\n\u001B[1;32m   3791\u001B[0m \u001B[38;5;28;01mexcept\u001B[39;00m \u001B[38;5;167;01mKeyError\u001B[39;00m \u001B[38;5;28;01mas\u001B[39;00m err:\n",
      "File \u001B[0;32mindex.pyx:152\u001B[0m, in \u001B[0;36mpandas._libs.index.IndexEngine.get_loc\u001B[0;34m()\u001B[0m\n",
      "File \u001B[0;32mindex.pyx:181\u001B[0m, in \u001B[0;36mpandas._libs.index.IndexEngine.get_loc\u001B[0;34m()\u001B[0m\n",
      "File \u001B[0;32mpandas/_libs/hashtable_class_helper.pxi:7080\u001B[0m, in \u001B[0;36mpandas._libs.hashtable.PyObjectHashTable.get_item\u001B[0;34m()\u001B[0m\n",
      "File \u001B[0;32mpandas/_libs/hashtable_class_helper.pxi:7088\u001B[0m, in \u001B[0;36mpandas._libs.hashtable.PyObjectHashTable.get_item\u001B[0;34m()\u001B[0m\n",
      "\u001B[0;31mKeyError\u001B[0m: 'internet_service_type'",
      "\nThe above exception was the direct cause of the following exception:\n",
      "\u001B[0;31mKeyError\u001B[0m                                  Traceback (most recent call last)",
      "Cell \u001B[0;32mIn[44], line 2\u001B[0m\n\u001B[1;32m      1\u001B[0m \u001B[38;5;66;03m# switching internet to 1 or 0\u001B[39;00m\n\u001B[0;32m----> 2\u001B[0m train[\u001B[38;5;124m'\u001B[39m\u001B[38;5;124mhas_internet\u001B[39m\u001B[38;5;124m'\u001B[39m] \u001B[38;5;241m=\u001B[39m \u001B[43mtrain\u001B[49m\u001B[43m[\u001B[49m\u001B[38;5;124;43m'\u001B[39;49m\u001B[38;5;124;43minternet_service_type\u001B[39;49m\u001B[38;5;124;43m'\u001B[39;49m\u001B[43m]\u001B[49m\u001B[38;5;241m.\u001B[39mapply(\u001B[38;5;28;01mlambda\u001B[39;00m x: \u001B[38;5;241m0\u001B[39m \u001B[38;5;28;01mif\u001B[39;00m x \u001B[38;5;241m==\u001B[39m \u001B[38;5;124m'\u001B[39m\u001B[38;5;124mNone\u001B[39m\u001B[38;5;124m'\u001B[39m \u001B[38;5;28;01melse\u001B[39;00m \u001B[38;5;241m1\u001B[39m)\n",
      "File \u001B[0;32m~/codeup-data-science/venv/lib/python3.11/site-packages/pandas/core/frame.py:3893\u001B[0m, in \u001B[0;36mDataFrame.__getitem__\u001B[0;34m(self, key)\u001B[0m\n\u001B[1;32m   3891\u001B[0m \u001B[38;5;28;01mif\u001B[39;00m \u001B[38;5;28mself\u001B[39m\u001B[38;5;241m.\u001B[39mcolumns\u001B[38;5;241m.\u001B[39mnlevels \u001B[38;5;241m>\u001B[39m \u001B[38;5;241m1\u001B[39m:\n\u001B[1;32m   3892\u001B[0m     \u001B[38;5;28;01mreturn\u001B[39;00m \u001B[38;5;28mself\u001B[39m\u001B[38;5;241m.\u001B[39m_getitem_multilevel(key)\n\u001B[0;32m-> 3893\u001B[0m indexer \u001B[38;5;241m=\u001B[39m \u001B[38;5;28;43mself\u001B[39;49m\u001B[38;5;241;43m.\u001B[39;49m\u001B[43mcolumns\u001B[49m\u001B[38;5;241;43m.\u001B[39;49m\u001B[43mget_loc\u001B[49m\u001B[43m(\u001B[49m\u001B[43mkey\u001B[49m\u001B[43m)\u001B[49m\n\u001B[1;32m   3894\u001B[0m \u001B[38;5;28;01mif\u001B[39;00m is_integer(indexer):\n\u001B[1;32m   3895\u001B[0m     indexer \u001B[38;5;241m=\u001B[39m [indexer]\n",
      "File \u001B[0;32m~/codeup-data-science/venv/lib/python3.11/site-packages/pandas/core/indexes/base.py:3797\u001B[0m, in \u001B[0;36mIndex.get_loc\u001B[0;34m(self, key)\u001B[0m\n\u001B[1;32m   3792\u001B[0m     \u001B[38;5;28;01mif\u001B[39;00m \u001B[38;5;28misinstance\u001B[39m(casted_key, \u001B[38;5;28mslice\u001B[39m) \u001B[38;5;129;01mor\u001B[39;00m (\n\u001B[1;32m   3793\u001B[0m         \u001B[38;5;28misinstance\u001B[39m(casted_key, abc\u001B[38;5;241m.\u001B[39mIterable)\n\u001B[1;32m   3794\u001B[0m         \u001B[38;5;129;01mand\u001B[39;00m \u001B[38;5;28many\u001B[39m(\u001B[38;5;28misinstance\u001B[39m(x, \u001B[38;5;28mslice\u001B[39m) \u001B[38;5;28;01mfor\u001B[39;00m x \u001B[38;5;129;01min\u001B[39;00m casted_key)\n\u001B[1;32m   3795\u001B[0m     ):\n\u001B[1;32m   3796\u001B[0m         \u001B[38;5;28;01mraise\u001B[39;00m InvalidIndexError(key)\n\u001B[0;32m-> 3797\u001B[0m     \u001B[38;5;28;01mraise\u001B[39;00m \u001B[38;5;167;01mKeyError\u001B[39;00m(key) \u001B[38;5;28;01mfrom\u001B[39;00m \u001B[38;5;21;01merr\u001B[39;00m\n\u001B[1;32m   3798\u001B[0m \u001B[38;5;28;01mexcept\u001B[39;00m \u001B[38;5;167;01mTypeError\u001B[39;00m:\n\u001B[1;32m   3799\u001B[0m     \u001B[38;5;66;03m# If we have a listlike key, _check_indexing_error will raise\u001B[39;00m\n\u001B[1;32m   3800\u001B[0m     \u001B[38;5;66;03m#  InvalidIndexError. Otherwise we fall through and re-raise\u001B[39;00m\n\u001B[1;32m   3801\u001B[0m     \u001B[38;5;66;03m#  the TypeError.\u001B[39;00m\n\u001B[1;32m   3802\u001B[0m     \u001B[38;5;28mself\u001B[39m\u001B[38;5;241m.\u001B[39m_check_indexing_error(key)\n",
      "\u001B[0;31mKeyError\u001B[0m: 'internet_service_type'"
     ]
    }
   ],
   "source": [
    "# switching internet to 1 or 0\n",
    "train['has_internet'] = train['internet_service_type'].apply(lambda x: 0 if x == 'None' else 1)"
   ],
   "metadata": {
    "collapsed": false,
    "ExecuteTime": {
     "end_time": "2023-12-04T16:49:23.281699Z",
     "start_time": "2023-12-04T16:49:23.263923Z"
    }
   },
   "id": "841c0571e850918c"
  },
  {
   "cell_type": "code",
   "execution_count": 45,
   "outputs": [
    {
     "data": {
      "text/plain": "      senior_citizen  partner  dependents  tenure  phone_service  \\\n5671               1        0           0      54              1   \n6843               0        0           0       2              1   \n2325               0        1           1      71              1   \n6323               0        0           0       1              1   \n3081               1        1           0      12              1   \n\n      multiple_lines  streaming_tv  streaming_movies  monthly_charges  \\\n5671               0             0                 1            65.25   \n6843               0             0                 0            70.30   \n2325               0             1                 1           104.65   \n6323               0             0                 0            44.95   \n3081               0             1                 1            79.20   \n\n      total_charges  churn  has_add_ons  has_internet  monthly_contract  \\\n5671        3529.95      0            1             1                 0   \n6843         144.00      0            0             1                 1   \n2325        7288.40      0            1             1                 0   \n6323          44.95      0            0             1                 1   \n3081         943.85      0            1             1                 0   \n\n      automatic_payment  is_male  \n5671                  1        1  \n6843                  0        1  \n2325                  1        1  \n6323                  0        1  \n3081                  0        0  ",
      "text/html": "<div>\n<style scoped>\n    .dataframe tbody tr th:only-of-type {\n        vertical-align: middle;\n    }\n\n    .dataframe tbody tr th {\n        vertical-align: top;\n    }\n\n    .dataframe thead th {\n        text-align: right;\n    }\n</style>\n<table border=\"1\" class=\"dataframe\">\n  <thead>\n    <tr style=\"text-align: right;\">\n      <th></th>\n      <th>senior_citizen</th>\n      <th>partner</th>\n      <th>dependents</th>\n      <th>tenure</th>\n      <th>phone_service</th>\n      <th>multiple_lines</th>\n      <th>streaming_tv</th>\n      <th>streaming_movies</th>\n      <th>monthly_charges</th>\n      <th>total_charges</th>\n      <th>churn</th>\n      <th>has_add_ons</th>\n      <th>has_internet</th>\n      <th>monthly_contract</th>\n      <th>automatic_payment</th>\n      <th>is_male</th>\n    </tr>\n  </thead>\n  <tbody>\n    <tr>\n      <th>5671</th>\n      <td>1</td>\n      <td>0</td>\n      <td>0</td>\n      <td>54</td>\n      <td>1</td>\n      <td>0</td>\n      <td>0</td>\n      <td>1</td>\n      <td>65.25</td>\n      <td>3529.95</td>\n      <td>0</td>\n      <td>1</td>\n      <td>1</td>\n      <td>0</td>\n      <td>1</td>\n      <td>1</td>\n    </tr>\n    <tr>\n      <th>6843</th>\n      <td>0</td>\n      <td>0</td>\n      <td>0</td>\n      <td>2</td>\n      <td>1</td>\n      <td>0</td>\n      <td>0</td>\n      <td>0</td>\n      <td>70.30</td>\n      <td>144.00</td>\n      <td>0</td>\n      <td>0</td>\n      <td>1</td>\n      <td>1</td>\n      <td>0</td>\n      <td>1</td>\n    </tr>\n    <tr>\n      <th>2325</th>\n      <td>0</td>\n      <td>1</td>\n      <td>1</td>\n      <td>71</td>\n      <td>1</td>\n      <td>0</td>\n      <td>1</td>\n      <td>1</td>\n      <td>104.65</td>\n      <td>7288.40</td>\n      <td>0</td>\n      <td>1</td>\n      <td>1</td>\n      <td>0</td>\n      <td>1</td>\n      <td>1</td>\n    </tr>\n    <tr>\n      <th>6323</th>\n      <td>0</td>\n      <td>0</td>\n      <td>0</td>\n      <td>1</td>\n      <td>1</td>\n      <td>0</td>\n      <td>0</td>\n      <td>0</td>\n      <td>44.95</td>\n      <td>44.95</td>\n      <td>0</td>\n      <td>0</td>\n      <td>1</td>\n      <td>1</td>\n      <td>0</td>\n      <td>1</td>\n    </tr>\n    <tr>\n      <th>3081</th>\n      <td>1</td>\n      <td>1</td>\n      <td>0</td>\n      <td>12</td>\n      <td>1</td>\n      <td>0</td>\n      <td>1</td>\n      <td>1</td>\n      <td>79.20</td>\n      <td>943.85</td>\n      <td>0</td>\n      <td>1</td>\n      <td>1</td>\n      <td>0</td>\n      <td>0</td>\n      <td>0</td>\n    </tr>\n  </tbody>\n</table>\n</div>"
     },
     "execution_count": 45,
     "metadata": {},
     "output_type": "execute_result"
    }
   ],
   "source": [
    "train.head()"
   ],
   "metadata": {
    "collapsed": false,
    "ExecuteTime": {
     "end_time": "2023-12-04T16:49:23.729735Z",
     "start_time": "2023-12-04T16:49:23.397474Z"
    }
   },
   "id": "66f1d3d6e327680"
  },
  {
   "cell_type": "code",
   "execution_count": 46,
   "outputs": [
    {
     "ename": "KeyError",
     "evalue": "'internet_service_type'",
     "output_type": "error",
     "traceback": [
      "\u001B[0;31m---------------------------------------------------------------------------\u001B[0m",
      "\u001B[0;31mKeyError\u001B[0m                                  Traceback (most recent call last)",
      "File \u001B[0;32m~/codeup-data-science/venv/lib/python3.11/site-packages/pandas/core/indexes/base.py:3790\u001B[0m, in \u001B[0;36mIndex.get_loc\u001B[0;34m(self, key)\u001B[0m\n\u001B[1;32m   3789\u001B[0m \u001B[38;5;28;01mtry\u001B[39;00m:\n\u001B[0;32m-> 3790\u001B[0m     \u001B[38;5;28;01mreturn\u001B[39;00m \u001B[38;5;28;43mself\u001B[39;49m\u001B[38;5;241;43m.\u001B[39;49m\u001B[43m_engine\u001B[49m\u001B[38;5;241;43m.\u001B[39;49m\u001B[43mget_loc\u001B[49m\u001B[43m(\u001B[49m\u001B[43mcasted_key\u001B[49m\u001B[43m)\u001B[49m\n\u001B[1;32m   3791\u001B[0m \u001B[38;5;28;01mexcept\u001B[39;00m \u001B[38;5;167;01mKeyError\u001B[39;00m \u001B[38;5;28;01mas\u001B[39;00m err:\n",
      "File \u001B[0;32mindex.pyx:152\u001B[0m, in \u001B[0;36mpandas._libs.index.IndexEngine.get_loc\u001B[0;34m()\u001B[0m\n",
      "File \u001B[0;32mindex.pyx:181\u001B[0m, in \u001B[0;36mpandas._libs.index.IndexEngine.get_loc\u001B[0;34m()\u001B[0m\n",
      "File \u001B[0;32mpandas/_libs/hashtable_class_helper.pxi:7080\u001B[0m, in \u001B[0;36mpandas._libs.hashtable.PyObjectHashTable.get_item\u001B[0;34m()\u001B[0m\n",
      "File \u001B[0;32mpandas/_libs/hashtable_class_helper.pxi:7088\u001B[0m, in \u001B[0;36mpandas._libs.hashtable.PyObjectHashTable.get_item\u001B[0;34m()\u001B[0m\n",
      "\u001B[0;31mKeyError\u001B[0m: 'internet_service_type'",
      "\nThe above exception was the direct cause of the following exception:\n",
      "\u001B[0;31mKeyError\u001B[0m                                  Traceback (most recent call last)",
      "Cell \u001B[0;32mIn[46], line 2\u001B[0m\n\u001B[1;32m      1\u001B[0m \u001B[38;5;66;03m# deleting the internet service\u001B[39;00m\n\u001B[0;32m----> 2\u001B[0m \u001B[43mtrain\u001B[49m\u001B[38;5;241;43m.\u001B[39;49m\u001B[43mpop\u001B[49m\u001B[43m(\u001B[49m\u001B[38;5;124;43m'\u001B[39;49m\u001B[38;5;124;43minternet_service_type\u001B[39;49m\u001B[38;5;124;43m'\u001B[39;49m\u001B[43m)\u001B[49m\n",
      "File \u001B[0;32m~/codeup-data-science/venv/lib/python3.11/site-packages/pandas/core/frame.py:5570\u001B[0m, in \u001B[0;36mDataFrame.pop\u001B[0;34m(self, item)\u001B[0m\n\u001B[1;32m   5529\u001B[0m \u001B[38;5;28;01mdef\u001B[39;00m \u001B[38;5;21mpop\u001B[39m(\u001B[38;5;28mself\u001B[39m, item: Hashable) \u001B[38;5;241m-\u001B[39m\u001B[38;5;241m>\u001B[39m Series:\n\u001B[1;32m   5530\u001B[0m \u001B[38;5;250m    \u001B[39m\u001B[38;5;124;03m\"\"\"\u001B[39;00m\n\u001B[1;32m   5531\u001B[0m \u001B[38;5;124;03m    Return item and drop from frame. Raise KeyError if not found.\u001B[39;00m\n\u001B[1;32m   5532\u001B[0m \n\u001B[0;32m   (...)\u001B[0m\n\u001B[1;32m   5568\u001B[0m \u001B[38;5;124;03m    3  monkey        NaN\u001B[39;00m\n\u001B[1;32m   5569\u001B[0m \u001B[38;5;124;03m    \"\"\"\u001B[39;00m\n\u001B[0;32m-> 5570\u001B[0m     \u001B[38;5;28;01mreturn\u001B[39;00m \u001B[38;5;28;43msuper\u001B[39;49m\u001B[43m(\u001B[49m\u001B[43m)\u001B[49m\u001B[38;5;241;43m.\u001B[39;49m\u001B[43mpop\u001B[49m\u001B[43m(\u001B[49m\u001B[43mitem\u001B[49m\u001B[38;5;241;43m=\u001B[39;49m\u001B[43mitem\u001B[49m\u001B[43m)\u001B[49m\n",
      "File \u001B[0;32m~/codeup-data-science/venv/lib/python3.11/site-packages/pandas/core/generic.py:901\u001B[0m, in \u001B[0;36mNDFrame.pop\u001B[0;34m(self, item)\u001B[0m\n\u001B[1;32m    900\u001B[0m \u001B[38;5;28;01mdef\u001B[39;00m \u001B[38;5;21mpop\u001B[39m(\u001B[38;5;28mself\u001B[39m, item: Hashable) \u001B[38;5;241m-\u001B[39m\u001B[38;5;241m>\u001B[39m Series \u001B[38;5;241m|\u001B[39m Any:\n\u001B[0;32m--> 901\u001B[0m     result \u001B[38;5;241m=\u001B[39m \u001B[38;5;28;43mself\u001B[39;49m\u001B[43m[\u001B[49m\u001B[43mitem\u001B[49m\u001B[43m]\u001B[49m\n\u001B[1;32m    902\u001B[0m     \u001B[38;5;28;01mdel\u001B[39;00m \u001B[38;5;28mself\u001B[39m[item]\n\u001B[1;32m    904\u001B[0m     \u001B[38;5;28;01mreturn\u001B[39;00m result\n",
      "File \u001B[0;32m~/codeup-data-science/venv/lib/python3.11/site-packages/pandas/core/frame.py:3893\u001B[0m, in \u001B[0;36mDataFrame.__getitem__\u001B[0;34m(self, key)\u001B[0m\n\u001B[1;32m   3891\u001B[0m \u001B[38;5;28;01mif\u001B[39;00m \u001B[38;5;28mself\u001B[39m\u001B[38;5;241m.\u001B[39mcolumns\u001B[38;5;241m.\u001B[39mnlevels \u001B[38;5;241m>\u001B[39m \u001B[38;5;241m1\u001B[39m:\n\u001B[1;32m   3892\u001B[0m     \u001B[38;5;28;01mreturn\u001B[39;00m \u001B[38;5;28mself\u001B[39m\u001B[38;5;241m.\u001B[39m_getitem_multilevel(key)\n\u001B[0;32m-> 3893\u001B[0m indexer \u001B[38;5;241m=\u001B[39m \u001B[38;5;28;43mself\u001B[39;49m\u001B[38;5;241;43m.\u001B[39;49m\u001B[43mcolumns\u001B[49m\u001B[38;5;241;43m.\u001B[39;49m\u001B[43mget_loc\u001B[49m\u001B[43m(\u001B[49m\u001B[43mkey\u001B[49m\u001B[43m)\u001B[49m\n\u001B[1;32m   3894\u001B[0m \u001B[38;5;28;01mif\u001B[39;00m is_integer(indexer):\n\u001B[1;32m   3895\u001B[0m     indexer \u001B[38;5;241m=\u001B[39m [indexer]\n",
      "File \u001B[0;32m~/codeup-data-science/venv/lib/python3.11/site-packages/pandas/core/indexes/base.py:3797\u001B[0m, in \u001B[0;36mIndex.get_loc\u001B[0;34m(self, key)\u001B[0m\n\u001B[1;32m   3792\u001B[0m     \u001B[38;5;28;01mif\u001B[39;00m \u001B[38;5;28misinstance\u001B[39m(casted_key, \u001B[38;5;28mslice\u001B[39m) \u001B[38;5;129;01mor\u001B[39;00m (\n\u001B[1;32m   3793\u001B[0m         \u001B[38;5;28misinstance\u001B[39m(casted_key, abc\u001B[38;5;241m.\u001B[39mIterable)\n\u001B[1;32m   3794\u001B[0m         \u001B[38;5;129;01mand\u001B[39;00m \u001B[38;5;28many\u001B[39m(\u001B[38;5;28misinstance\u001B[39m(x, \u001B[38;5;28mslice\u001B[39m) \u001B[38;5;28;01mfor\u001B[39;00m x \u001B[38;5;129;01min\u001B[39;00m casted_key)\n\u001B[1;32m   3795\u001B[0m     ):\n\u001B[1;32m   3796\u001B[0m         \u001B[38;5;28;01mraise\u001B[39;00m InvalidIndexError(key)\n\u001B[0;32m-> 3797\u001B[0m     \u001B[38;5;28;01mraise\u001B[39;00m \u001B[38;5;167;01mKeyError\u001B[39;00m(key) \u001B[38;5;28;01mfrom\u001B[39;00m \u001B[38;5;21;01merr\u001B[39;00m\n\u001B[1;32m   3798\u001B[0m \u001B[38;5;28;01mexcept\u001B[39;00m \u001B[38;5;167;01mTypeError\u001B[39;00m:\n\u001B[1;32m   3799\u001B[0m     \u001B[38;5;66;03m# If we have a listlike key, _check_indexing_error will raise\u001B[39;00m\n\u001B[1;32m   3800\u001B[0m     \u001B[38;5;66;03m#  InvalidIndexError. Otherwise we fall through and re-raise\u001B[39;00m\n\u001B[1;32m   3801\u001B[0m     \u001B[38;5;66;03m#  the TypeError.\u001B[39;00m\n\u001B[1;32m   3802\u001B[0m     \u001B[38;5;28mself\u001B[39m\u001B[38;5;241m.\u001B[39m_check_indexing_error(key)\n",
      "\u001B[0;31mKeyError\u001B[0m: 'internet_service_type'"
     ]
    }
   ],
   "source": [
    "# deleting the internet service\n",
    "train.pop('internet_service_type')\n"
   ],
   "metadata": {
    "collapsed": false,
    "ExecuteTime": {
     "end_time": "2023-12-04T16:49:23.935567Z",
     "start_time": "2023-12-04T16:49:23.754134Z"
    }
   },
   "id": "70b3113663f63953"
  },
  {
   "cell_type": "code",
   "execution_count": 47,
   "outputs": [],
   "source": [
    "# for lines, streaming make them only yes and no to become binary\n",
    "lines = ['multiple_lines', 'streaming_tv', 'streaming_movies']"
   ],
   "metadata": {
    "collapsed": false,
    "ExecuteTime": {
     "end_time": "2023-12-04T16:49:23.965356Z",
     "start_time": "2023-12-04T16:49:23.786993Z"
    }
   },
   "id": "d315c37851ca514e"
  },
  {
   "cell_type": "code",
   "execution_count": 48,
   "outputs": [],
   "source": [
    "# loop to change all 3 at to 1 and 0\n",
    "for x in lines:\n",
    "    train[x] = train[x].apply(lambda x: 1 if x == 'Yes' else 0)"
   ],
   "metadata": {
    "collapsed": false,
    "ExecuteTime": {
     "end_time": "2023-12-04T16:49:24.028686Z",
     "start_time": "2023-12-04T16:49:23.852693Z"
    }
   },
   "id": "d50cf9b012e69da5"
  },
  {
   "cell_type": "code",
   "execution_count": 49,
   "outputs": [
    {
     "ename": "KeyError",
     "evalue": "'contract_type'",
     "output_type": "error",
     "traceback": [
      "\u001B[0;31m---------------------------------------------------------------------------\u001B[0m",
      "\u001B[0;31mKeyError\u001B[0m                                  Traceback (most recent call last)",
      "File \u001B[0;32m~/codeup-data-science/venv/lib/python3.11/site-packages/pandas/core/indexes/base.py:3790\u001B[0m, in \u001B[0;36mIndex.get_loc\u001B[0;34m(self, key)\u001B[0m\n\u001B[1;32m   3789\u001B[0m \u001B[38;5;28;01mtry\u001B[39;00m:\n\u001B[0;32m-> 3790\u001B[0m     \u001B[38;5;28;01mreturn\u001B[39;00m \u001B[38;5;28;43mself\u001B[39;49m\u001B[38;5;241;43m.\u001B[39;49m\u001B[43m_engine\u001B[49m\u001B[38;5;241;43m.\u001B[39;49m\u001B[43mget_loc\u001B[49m\u001B[43m(\u001B[49m\u001B[43mcasted_key\u001B[49m\u001B[43m)\u001B[49m\n\u001B[1;32m   3791\u001B[0m \u001B[38;5;28;01mexcept\u001B[39;00m \u001B[38;5;167;01mKeyError\u001B[39;00m \u001B[38;5;28;01mas\u001B[39;00m err:\n",
      "File \u001B[0;32mindex.pyx:152\u001B[0m, in \u001B[0;36mpandas._libs.index.IndexEngine.get_loc\u001B[0;34m()\u001B[0m\n",
      "File \u001B[0;32mindex.pyx:181\u001B[0m, in \u001B[0;36mpandas._libs.index.IndexEngine.get_loc\u001B[0;34m()\u001B[0m\n",
      "File \u001B[0;32mpandas/_libs/hashtable_class_helper.pxi:7080\u001B[0m, in \u001B[0;36mpandas._libs.hashtable.PyObjectHashTable.get_item\u001B[0;34m()\u001B[0m\n",
      "File \u001B[0;32mpandas/_libs/hashtable_class_helper.pxi:7088\u001B[0m, in \u001B[0;36mpandas._libs.hashtable.PyObjectHashTable.get_item\u001B[0;34m()\u001B[0m\n",
      "\u001B[0;31mKeyError\u001B[0m: 'contract_type'",
      "\nThe above exception was the direct cause of the following exception:\n",
      "\u001B[0;31mKeyError\u001B[0m                                  Traceback (most recent call last)",
      "Cell \u001B[0;32mIn[49], line 2\u001B[0m\n\u001B[1;32m      1\u001B[0m \u001B[38;5;66;03m# switching contract type to monthly or not\u001B[39;00m\n\u001B[0;32m----> 2\u001B[0m train[\u001B[38;5;124m'\u001B[39m\u001B[38;5;124mmonthly_contract\u001B[39m\u001B[38;5;124m'\u001B[39m] \u001B[38;5;241m=\u001B[39m \u001B[43mtrain\u001B[49m\u001B[43m[\u001B[49m\u001B[38;5;124;43m'\u001B[39;49m\u001B[38;5;124;43mcontract_type\u001B[39;49m\u001B[38;5;124;43m'\u001B[39;49m\u001B[43m]\u001B[49m\u001B[38;5;241m.\u001B[39mapply(\u001B[38;5;28;01mlambda\u001B[39;00m x: \u001B[38;5;241m1\u001B[39m \u001B[38;5;28;01mif\u001B[39;00m x \u001B[38;5;241m==\u001B[39m \u001B[38;5;124m'\u001B[39m\u001B[38;5;124mMonth-to-month\u001B[39m\u001B[38;5;124m'\u001B[39m \u001B[38;5;28;01melse\u001B[39;00m \u001B[38;5;241m0\u001B[39m)\n",
      "File \u001B[0;32m~/codeup-data-science/venv/lib/python3.11/site-packages/pandas/core/frame.py:3893\u001B[0m, in \u001B[0;36mDataFrame.__getitem__\u001B[0;34m(self, key)\u001B[0m\n\u001B[1;32m   3891\u001B[0m \u001B[38;5;28;01mif\u001B[39;00m \u001B[38;5;28mself\u001B[39m\u001B[38;5;241m.\u001B[39mcolumns\u001B[38;5;241m.\u001B[39mnlevels \u001B[38;5;241m>\u001B[39m \u001B[38;5;241m1\u001B[39m:\n\u001B[1;32m   3892\u001B[0m     \u001B[38;5;28;01mreturn\u001B[39;00m \u001B[38;5;28mself\u001B[39m\u001B[38;5;241m.\u001B[39m_getitem_multilevel(key)\n\u001B[0;32m-> 3893\u001B[0m indexer \u001B[38;5;241m=\u001B[39m \u001B[38;5;28;43mself\u001B[39;49m\u001B[38;5;241;43m.\u001B[39;49m\u001B[43mcolumns\u001B[49m\u001B[38;5;241;43m.\u001B[39;49m\u001B[43mget_loc\u001B[49m\u001B[43m(\u001B[49m\u001B[43mkey\u001B[49m\u001B[43m)\u001B[49m\n\u001B[1;32m   3894\u001B[0m \u001B[38;5;28;01mif\u001B[39;00m is_integer(indexer):\n\u001B[1;32m   3895\u001B[0m     indexer \u001B[38;5;241m=\u001B[39m [indexer]\n",
      "File \u001B[0;32m~/codeup-data-science/venv/lib/python3.11/site-packages/pandas/core/indexes/base.py:3797\u001B[0m, in \u001B[0;36mIndex.get_loc\u001B[0;34m(self, key)\u001B[0m\n\u001B[1;32m   3792\u001B[0m     \u001B[38;5;28;01mif\u001B[39;00m \u001B[38;5;28misinstance\u001B[39m(casted_key, \u001B[38;5;28mslice\u001B[39m) \u001B[38;5;129;01mor\u001B[39;00m (\n\u001B[1;32m   3793\u001B[0m         \u001B[38;5;28misinstance\u001B[39m(casted_key, abc\u001B[38;5;241m.\u001B[39mIterable)\n\u001B[1;32m   3794\u001B[0m         \u001B[38;5;129;01mand\u001B[39;00m \u001B[38;5;28many\u001B[39m(\u001B[38;5;28misinstance\u001B[39m(x, \u001B[38;5;28mslice\u001B[39m) \u001B[38;5;28;01mfor\u001B[39;00m x \u001B[38;5;129;01min\u001B[39;00m casted_key)\n\u001B[1;32m   3795\u001B[0m     ):\n\u001B[1;32m   3796\u001B[0m         \u001B[38;5;28;01mraise\u001B[39;00m InvalidIndexError(key)\n\u001B[0;32m-> 3797\u001B[0m     \u001B[38;5;28;01mraise\u001B[39;00m \u001B[38;5;167;01mKeyError\u001B[39;00m(key) \u001B[38;5;28;01mfrom\u001B[39;00m \u001B[38;5;21;01merr\u001B[39;00m\n\u001B[1;32m   3798\u001B[0m \u001B[38;5;28;01mexcept\u001B[39;00m \u001B[38;5;167;01mTypeError\u001B[39;00m:\n\u001B[1;32m   3799\u001B[0m     \u001B[38;5;66;03m# If we have a listlike key, _check_indexing_error will raise\u001B[39;00m\n\u001B[1;32m   3800\u001B[0m     \u001B[38;5;66;03m#  InvalidIndexError. Otherwise we fall through and re-raise\u001B[39;00m\n\u001B[1;32m   3801\u001B[0m     \u001B[38;5;66;03m#  the TypeError.\u001B[39;00m\n\u001B[1;32m   3802\u001B[0m     \u001B[38;5;28mself\u001B[39m\u001B[38;5;241m.\u001B[39m_check_indexing_error(key)\n",
      "\u001B[0;31mKeyError\u001B[0m: 'contract_type'"
     ]
    }
   ],
   "source": [
    "# switching contract type to monthly or not\n",
    "train['monthly_contract'] = train['contract_type'].apply(lambda x: 1 if x == 'Month-to-month' else 0)"
   ],
   "metadata": {
    "collapsed": false,
    "ExecuteTime": {
     "end_time": "2023-12-04T16:49:24.199881Z",
     "start_time": "2023-12-04T16:49:24.054433Z"
    }
   },
   "id": "f8c92f97b82a582"
  },
  {
   "cell_type": "code",
   "execution_count": 50,
   "outputs": [
    {
     "ename": "KeyError",
     "evalue": "'contract_type'",
     "output_type": "error",
     "traceback": [
      "\u001B[0;31m---------------------------------------------------------------------------\u001B[0m",
      "\u001B[0;31mKeyError\u001B[0m                                  Traceback (most recent call last)",
      "File \u001B[0;32m~/codeup-data-science/venv/lib/python3.11/site-packages/pandas/core/indexes/base.py:3790\u001B[0m, in \u001B[0;36mIndex.get_loc\u001B[0;34m(self, key)\u001B[0m\n\u001B[1;32m   3789\u001B[0m \u001B[38;5;28;01mtry\u001B[39;00m:\n\u001B[0;32m-> 3790\u001B[0m     \u001B[38;5;28;01mreturn\u001B[39;00m \u001B[38;5;28;43mself\u001B[39;49m\u001B[38;5;241;43m.\u001B[39;49m\u001B[43m_engine\u001B[49m\u001B[38;5;241;43m.\u001B[39;49m\u001B[43mget_loc\u001B[49m\u001B[43m(\u001B[49m\u001B[43mcasted_key\u001B[49m\u001B[43m)\u001B[49m\n\u001B[1;32m   3791\u001B[0m \u001B[38;5;28;01mexcept\u001B[39;00m \u001B[38;5;167;01mKeyError\u001B[39;00m \u001B[38;5;28;01mas\u001B[39;00m err:\n",
      "File \u001B[0;32mindex.pyx:152\u001B[0m, in \u001B[0;36mpandas._libs.index.IndexEngine.get_loc\u001B[0;34m()\u001B[0m\n",
      "File \u001B[0;32mindex.pyx:181\u001B[0m, in \u001B[0;36mpandas._libs.index.IndexEngine.get_loc\u001B[0;34m()\u001B[0m\n",
      "File \u001B[0;32mpandas/_libs/hashtable_class_helper.pxi:7080\u001B[0m, in \u001B[0;36mpandas._libs.hashtable.PyObjectHashTable.get_item\u001B[0;34m()\u001B[0m\n",
      "File \u001B[0;32mpandas/_libs/hashtable_class_helper.pxi:7088\u001B[0m, in \u001B[0;36mpandas._libs.hashtable.PyObjectHashTable.get_item\u001B[0;34m()\u001B[0m\n",
      "\u001B[0;31mKeyError\u001B[0m: 'contract_type'",
      "\nThe above exception was the direct cause of the following exception:\n",
      "\u001B[0;31mKeyError\u001B[0m                                  Traceback (most recent call last)",
      "Cell \u001B[0;32mIn[50], line 2\u001B[0m\n\u001B[1;32m      1\u001B[0m \u001B[38;5;66;03m# deleting the contract type col\u001B[39;00m\n\u001B[0;32m----> 2\u001B[0m \u001B[43mtrain\u001B[49m\u001B[38;5;241;43m.\u001B[39;49m\u001B[43mpop\u001B[49m\u001B[43m(\u001B[49m\u001B[38;5;124;43m'\u001B[39;49m\u001B[38;5;124;43mcontract_type\u001B[39;49m\u001B[38;5;124;43m'\u001B[39;49m\u001B[43m)\u001B[49m\n",
      "File \u001B[0;32m~/codeup-data-science/venv/lib/python3.11/site-packages/pandas/core/frame.py:5570\u001B[0m, in \u001B[0;36mDataFrame.pop\u001B[0;34m(self, item)\u001B[0m\n\u001B[1;32m   5529\u001B[0m \u001B[38;5;28;01mdef\u001B[39;00m \u001B[38;5;21mpop\u001B[39m(\u001B[38;5;28mself\u001B[39m, item: Hashable) \u001B[38;5;241m-\u001B[39m\u001B[38;5;241m>\u001B[39m Series:\n\u001B[1;32m   5530\u001B[0m \u001B[38;5;250m    \u001B[39m\u001B[38;5;124;03m\"\"\"\u001B[39;00m\n\u001B[1;32m   5531\u001B[0m \u001B[38;5;124;03m    Return item and drop from frame. Raise KeyError if not found.\u001B[39;00m\n\u001B[1;32m   5532\u001B[0m \n\u001B[0;32m   (...)\u001B[0m\n\u001B[1;32m   5568\u001B[0m \u001B[38;5;124;03m    3  monkey        NaN\u001B[39;00m\n\u001B[1;32m   5569\u001B[0m \u001B[38;5;124;03m    \"\"\"\u001B[39;00m\n\u001B[0;32m-> 5570\u001B[0m     \u001B[38;5;28;01mreturn\u001B[39;00m \u001B[38;5;28;43msuper\u001B[39;49m\u001B[43m(\u001B[49m\u001B[43m)\u001B[49m\u001B[38;5;241;43m.\u001B[39;49m\u001B[43mpop\u001B[49m\u001B[43m(\u001B[49m\u001B[43mitem\u001B[49m\u001B[38;5;241;43m=\u001B[39;49m\u001B[43mitem\u001B[49m\u001B[43m)\u001B[49m\n",
      "File \u001B[0;32m~/codeup-data-science/venv/lib/python3.11/site-packages/pandas/core/generic.py:901\u001B[0m, in \u001B[0;36mNDFrame.pop\u001B[0;34m(self, item)\u001B[0m\n\u001B[1;32m    900\u001B[0m \u001B[38;5;28;01mdef\u001B[39;00m \u001B[38;5;21mpop\u001B[39m(\u001B[38;5;28mself\u001B[39m, item: Hashable) \u001B[38;5;241m-\u001B[39m\u001B[38;5;241m>\u001B[39m Series \u001B[38;5;241m|\u001B[39m Any:\n\u001B[0;32m--> 901\u001B[0m     result \u001B[38;5;241m=\u001B[39m \u001B[38;5;28;43mself\u001B[39;49m\u001B[43m[\u001B[49m\u001B[43mitem\u001B[49m\u001B[43m]\u001B[49m\n\u001B[1;32m    902\u001B[0m     \u001B[38;5;28;01mdel\u001B[39;00m \u001B[38;5;28mself\u001B[39m[item]\n\u001B[1;32m    904\u001B[0m     \u001B[38;5;28;01mreturn\u001B[39;00m result\n",
      "File \u001B[0;32m~/codeup-data-science/venv/lib/python3.11/site-packages/pandas/core/frame.py:3893\u001B[0m, in \u001B[0;36mDataFrame.__getitem__\u001B[0;34m(self, key)\u001B[0m\n\u001B[1;32m   3891\u001B[0m \u001B[38;5;28;01mif\u001B[39;00m \u001B[38;5;28mself\u001B[39m\u001B[38;5;241m.\u001B[39mcolumns\u001B[38;5;241m.\u001B[39mnlevels \u001B[38;5;241m>\u001B[39m \u001B[38;5;241m1\u001B[39m:\n\u001B[1;32m   3892\u001B[0m     \u001B[38;5;28;01mreturn\u001B[39;00m \u001B[38;5;28mself\u001B[39m\u001B[38;5;241m.\u001B[39m_getitem_multilevel(key)\n\u001B[0;32m-> 3893\u001B[0m indexer \u001B[38;5;241m=\u001B[39m \u001B[38;5;28;43mself\u001B[39;49m\u001B[38;5;241;43m.\u001B[39;49m\u001B[43mcolumns\u001B[49m\u001B[38;5;241;43m.\u001B[39;49m\u001B[43mget_loc\u001B[49m\u001B[43m(\u001B[49m\u001B[43mkey\u001B[49m\u001B[43m)\u001B[49m\n\u001B[1;32m   3894\u001B[0m \u001B[38;5;28;01mif\u001B[39;00m is_integer(indexer):\n\u001B[1;32m   3895\u001B[0m     indexer \u001B[38;5;241m=\u001B[39m [indexer]\n",
      "File \u001B[0;32m~/codeup-data-science/venv/lib/python3.11/site-packages/pandas/core/indexes/base.py:3797\u001B[0m, in \u001B[0;36mIndex.get_loc\u001B[0;34m(self, key)\u001B[0m\n\u001B[1;32m   3792\u001B[0m     \u001B[38;5;28;01mif\u001B[39;00m \u001B[38;5;28misinstance\u001B[39m(casted_key, \u001B[38;5;28mslice\u001B[39m) \u001B[38;5;129;01mor\u001B[39;00m (\n\u001B[1;32m   3793\u001B[0m         \u001B[38;5;28misinstance\u001B[39m(casted_key, abc\u001B[38;5;241m.\u001B[39mIterable)\n\u001B[1;32m   3794\u001B[0m         \u001B[38;5;129;01mand\u001B[39;00m \u001B[38;5;28many\u001B[39m(\u001B[38;5;28misinstance\u001B[39m(x, \u001B[38;5;28mslice\u001B[39m) \u001B[38;5;28;01mfor\u001B[39;00m x \u001B[38;5;129;01min\u001B[39;00m casted_key)\n\u001B[1;32m   3795\u001B[0m     ):\n\u001B[1;32m   3796\u001B[0m         \u001B[38;5;28;01mraise\u001B[39;00m InvalidIndexError(key)\n\u001B[0;32m-> 3797\u001B[0m     \u001B[38;5;28;01mraise\u001B[39;00m \u001B[38;5;167;01mKeyError\u001B[39;00m(key) \u001B[38;5;28;01mfrom\u001B[39;00m \u001B[38;5;21;01merr\u001B[39;00m\n\u001B[1;32m   3798\u001B[0m \u001B[38;5;28;01mexcept\u001B[39;00m \u001B[38;5;167;01mTypeError\u001B[39;00m:\n\u001B[1;32m   3799\u001B[0m     \u001B[38;5;66;03m# If we have a listlike key, _check_indexing_error will raise\u001B[39;00m\n\u001B[1;32m   3800\u001B[0m     \u001B[38;5;66;03m#  InvalidIndexError. Otherwise we fall through and re-raise\u001B[39;00m\n\u001B[1;32m   3801\u001B[0m     \u001B[38;5;66;03m#  the TypeError.\u001B[39;00m\n\u001B[1;32m   3802\u001B[0m     \u001B[38;5;28mself\u001B[39m\u001B[38;5;241m.\u001B[39m_check_indexing_error(key)\n",
      "\u001B[0;31mKeyError\u001B[0m: 'contract_type'"
     ]
    }
   ],
   "source": [
    "# deleting the contract type col\n",
    "train.pop('contract_type')"
   ],
   "metadata": {
    "collapsed": false,
    "ExecuteTime": {
     "end_time": "2023-12-04T16:49:24.360217Z",
     "start_time": "2023-12-04T16:49:24.234088Z"
    }
   },
   "id": "f6a6e8c3bbca6a7e"
  },
  {
   "cell_type": "markdown",
   "source": [
    "now turning oayment type to 1 or 0 if its automatic"
   ],
   "metadata": {
    "collapsed": false
   },
   "id": "83eed01820959e17"
  },
  {
   "cell_type": "code",
   "execution_count": 51,
   "outputs": [
    {
     "ename": "KeyError",
     "evalue": "'payment_type'",
     "output_type": "error",
     "traceback": [
      "\u001B[0;31m---------------------------------------------------------------------------\u001B[0m",
      "\u001B[0;31mKeyError\u001B[0m                                  Traceback (most recent call last)",
      "File \u001B[0;32m~/codeup-data-science/venv/lib/python3.11/site-packages/pandas/core/indexes/base.py:3790\u001B[0m, in \u001B[0;36mIndex.get_loc\u001B[0;34m(self, key)\u001B[0m\n\u001B[1;32m   3789\u001B[0m \u001B[38;5;28;01mtry\u001B[39;00m:\n\u001B[0;32m-> 3790\u001B[0m     \u001B[38;5;28;01mreturn\u001B[39;00m \u001B[38;5;28;43mself\u001B[39;49m\u001B[38;5;241;43m.\u001B[39;49m\u001B[43m_engine\u001B[49m\u001B[38;5;241;43m.\u001B[39;49m\u001B[43mget_loc\u001B[49m\u001B[43m(\u001B[49m\u001B[43mcasted_key\u001B[49m\u001B[43m)\u001B[49m\n\u001B[1;32m   3791\u001B[0m \u001B[38;5;28;01mexcept\u001B[39;00m \u001B[38;5;167;01mKeyError\u001B[39;00m \u001B[38;5;28;01mas\u001B[39;00m err:\n",
      "File \u001B[0;32mindex.pyx:152\u001B[0m, in \u001B[0;36mpandas._libs.index.IndexEngine.get_loc\u001B[0;34m()\u001B[0m\n",
      "File \u001B[0;32mindex.pyx:181\u001B[0m, in \u001B[0;36mpandas._libs.index.IndexEngine.get_loc\u001B[0;34m()\u001B[0m\n",
      "File \u001B[0;32mpandas/_libs/hashtable_class_helper.pxi:7080\u001B[0m, in \u001B[0;36mpandas._libs.hashtable.PyObjectHashTable.get_item\u001B[0;34m()\u001B[0m\n",
      "File \u001B[0;32mpandas/_libs/hashtable_class_helper.pxi:7088\u001B[0m, in \u001B[0;36mpandas._libs.hashtable.PyObjectHashTable.get_item\u001B[0;34m()\u001B[0m\n",
      "\u001B[0;31mKeyError\u001B[0m: 'payment_type'",
      "\nThe above exception was the direct cause of the following exception:\n",
      "\u001B[0;31mKeyError\u001B[0m                                  Traceback (most recent call last)",
      "Cell \u001B[0;32mIn[51], line 1\u001B[0m\n\u001B[0;32m----> 1\u001B[0m train[\u001B[38;5;124m'\u001B[39m\u001B[38;5;124mautomatic_payment\u001B[39m\u001B[38;5;124m'\u001B[39m] \u001B[38;5;241m=\u001B[39m \u001B[43mtrain\u001B[49m\u001B[43m[\u001B[49m\u001B[38;5;124;43m'\u001B[39;49m\u001B[38;5;124;43mpayment_type\u001B[39;49m\u001B[38;5;124;43m'\u001B[39;49m\u001B[43m]\u001B[49m\u001B[38;5;241m.\u001B[39mapply(\u001B[38;5;28;01mlambda\u001B[39;00m x: \u001B[38;5;241m1\u001B[39m \u001B[38;5;28;01mif\u001B[39;00m \u001B[38;5;124m'\u001B[39m\u001B[38;5;124mautomatic\u001B[39m\u001B[38;5;124m'\u001B[39m \u001B[38;5;129;01min\u001B[39;00m x \u001B[38;5;28;01melse\u001B[39;00m \u001B[38;5;241m0\u001B[39m)\n",
      "File \u001B[0;32m~/codeup-data-science/venv/lib/python3.11/site-packages/pandas/core/frame.py:3893\u001B[0m, in \u001B[0;36mDataFrame.__getitem__\u001B[0;34m(self, key)\u001B[0m\n\u001B[1;32m   3891\u001B[0m \u001B[38;5;28;01mif\u001B[39;00m \u001B[38;5;28mself\u001B[39m\u001B[38;5;241m.\u001B[39mcolumns\u001B[38;5;241m.\u001B[39mnlevels \u001B[38;5;241m>\u001B[39m \u001B[38;5;241m1\u001B[39m:\n\u001B[1;32m   3892\u001B[0m     \u001B[38;5;28;01mreturn\u001B[39;00m \u001B[38;5;28mself\u001B[39m\u001B[38;5;241m.\u001B[39m_getitem_multilevel(key)\n\u001B[0;32m-> 3893\u001B[0m indexer \u001B[38;5;241m=\u001B[39m \u001B[38;5;28;43mself\u001B[39;49m\u001B[38;5;241;43m.\u001B[39;49m\u001B[43mcolumns\u001B[49m\u001B[38;5;241;43m.\u001B[39;49m\u001B[43mget_loc\u001B[49m\u001B[43m(\u001B[49m\u001B[43mkey\u001B[49m\u001B[43m)\u001B[49m\n\u001B[1;32m   3894\u001B[0m \u001B[38;5;28;01mif\u001B[39;00m is_integer(indexer):\n\u001B[1;32m   3895\u001B[0m     indexer \u001B[38;5;241m=\u001B[39m [indexer]\n",
      "File \u001B[0;32m~/codeup-data-science/venv/lib/python3.11/site-packages/pandas/core/indexes/base.py:3797\u001B[0m, in \u001B[0;36mIndex.get_loc\u001B[0;34m(self, key)\u001B[0m\n\u001B[1;32m   3792\u001B[0m     \u001B[38;5;28;01mif\u001B[39;00m \u001B[38;5;28misinstance\u001B[39m(casted_key, \u001B[38;5;28mslice\u001B[39m) \u001B[38;5;129;01mor\u001B[39;00m (\n\u001B[1;32m   3793\u001B[0m         \u001B[38;5;28misinstance\u001B[39m(casted_key, abc\u001B[38;5;241m.\u001B[39mIterable)\n\u001B[1;32m   3794\u001B[0m         \u001B[38;5;129;01mand\u001B[39;00m \u001B[38;5;28many\u001B[39m(\u001B[38;5;28misinstance\u001B[39m(x, \u001B[38;5;28mslice\u001B[39m) \u001B[38;5;28;01mfor\u001B[39;00m x \u001B[38;5;129;01min\u001B[39;00m casted_key)\n\u001B[1;32m   3795\u001B[0m     ):\n\u001B[1;32m   3796\u001B[0m         \u001B[38;5;28;01mraise\u001B[39;00m InvalidIndexError(key)\n\u001B[0;32m-> 3797\u001B[0m     \u001B[38;5;28;01mraise\u001B[39;00m \u001B[38;5;167;01mKeyError\u001B[39;00m(key) \u001B[38;5;28;01mfrom\u001B[39;00m \u001B[38;5;21;01merr\u001B[39;00m\n\u001B[1;32m   3798\u001B[0m \u001B[38;5;28;01mexcept\u001B[39;00m \u001B[38;5;167;01mTypeError\u001B[39;00m:\n\u001B[1;32m   3799\u001B[0m     \u001B[38;5;66;03m# If we have a listlike key, _check_indexing_error will raise\u001B[39;00m\n\u001B[1;32m   3800\u001B[0m     \u001B[38;5;66;03m#  InvalidIndexError. Otherwise we fall through and re-raise\u001B[39;00m\n\u001B[1;32m   3801\u001B[0m     \u001B[38;5;66;03m#  the TypeError.\u001B[39;00m\n\u001B[1;32m   3802\u001B[0m     \u001B[38;5;28mself\u001B[39m\u001B[38;5;241m.\u001B[39m_check_indexing_error(key)\n",
      "\u001B[0;31mKeyError\u001B[0m: 'payment_type'"
     ]
    }
   ],
   "source": [
    "train['automatic_payment'] = train['payment_type'].apply(lambda x: 1 if 'automatic' in x else 0)\n"
   ],
   "metadata": {
    "collapsed": false,
    "ExecuteTime": {
     "end_time": "2023-12-04T16:49:24.592241Z",
     "start_time": "2023-12-04T16:49:24.540320Z"
    }
   },
   "id": "cd2dc1b63b101bdd"
  },
  {
   "cell_type": "code",
   "execution_count": 52,
   "outputs": [
    {
     "ename": "KeyError",
     "evalue": "'payment_type'",
     "output_type": "error",
     "traceback": [
      "\u001B[0;31m---------------------------------------------------------------------------\u001B[0m",
      "\u001B[0;31mKeyError\u001B[0m                                  Traceback (most recent call last)",
      "File \u001B[0;32m~/codeup-data-science/venv/lib/python3.11/site-packages/pandas/core/indexes/base.py:3790\u001B[0m, in \u001B[0;36mIndex.get_loc\u001B[0;34m(self, key)\u001B[0m\n\u001B[1;32m   3789\u001B[0m \u001B[38;5;28;01mtry\u001B[39;00m:\n\u001B[0;32m-> 3790\u001B[0m     \u001B[38;5;28;01mreturn\u001B[39;00m \u001B[38;5;28;43mself\u001B[39;49m\u001B[38;5;241;43m.\u001B[39;49m\u001B[43m_engine\u001B[49m\u001B[38;5;241;43m.\u001B[39;49m\u001B[43mget_loc\u001B[49m\u001B[43m(\u001B[49m\u001B[43mcasted_key\u001B[49m\u001B[43m)\u001B[49m\n\u001B[1;32m   3791\u001B[0m \u001B[38;5;28;01mexcept\u001B[39;00m \u001B[38;5;167;01mKeyError\u001B[39;00m \u001B[38;5;28;01mas\u001B[39;00m err:\n",
      "File \u001B[0;32mindex.pyx:152\u001B[0m, in \u001B[0;36mpandas._libs.index.IndexEngine.get_loc\u001B[0;34m()\u001B[0m\n",
      "File \u001B[0;32mindex.pyx:181\u001B[0m, in \u001B[0;36mpandas._libs.index.IndexEngine.get_loc\u001B[0;34m()\u001B[0m\n",
      "File \u001B[0;32mpandas/_libs/hashtable_class_helper.pxi:7080\u001B[0m, in \u001B[0;36mpandas._libs.hashtable.PyObjectHashTable.get_item\u001B[0;34m()\u001B[0m\n",
      "File \u001B[0;32mpandas/_libs/hashtable_class_helper.pxi:7088\u001B[0m, in \u001B[0;36mpandas._libs.hashtable.PyObjectHashTable.get_item\u001B[0;34m()\u001B[0m\n",
      "\u001B[0;31mKeyError\u001B[0m: 'payment_type'",
      "\nThe above exception was the direct cause of the following exception:\n",
      "\u001B[0;31mKeyError\u001B[0m                                  Traceback (most recent call last)",
      "Cell \u001B[0;32mIn[52], line 2\u001B[0m\n\u001B[1;32m      1\u001B[0m \u001B[38;5;66;03m# now deleting the column\u001B[39;00m\n\u001B[0;32m----> 2\u001B[0m \u001B[43mtrain\u001B[49m\u001B[38;5;241;43m.\u001B[39;49m\u001B[43mpop\u001B[49m\u001B[43m(\u001B[49m\u001B[38;5;124;43m'\u001B[39;49m\u001B[38;5;124;43mpayment_type\u001B[39;49m\u001B[38;5;124;43m'\u001B[39;49m\u001B[43m)\u001B[49m\n",
      "File \u001B[0;32m~/codeup-data-science/venv/lib/python3.11/site-packages/pandas/core/frame.py:5570\u001B[0m, in \u001B[0;36mDataFrame.pop\u001B[0;34m(self, item)\u001B[0m\n\u001B[1;32m   5529\u001B[0m \u001B[38;5;28;01mdef\u001B[39;00m \u001B[38;5;21mpop\u001B[39m(\u001B[38;5;28mself\u001B[39m, item: Hashable) \u001B[38;5;241m-\u001B[39m\u001B[38;5;241m>\u001B[39m Series:\n\u001B[1;32m   5530\u001B[0m \u001B[38;5;250m    \u001B[39m\u001B[38;5;124;03m\"\"\"\u001B[39;00m\n\u001B[1;32m   5531\u001B[0m \u001B[38;5;124;03m    Return item and drop from frame. Raise KeyError if not found.\u001B[39;00m\n\u001B[1;32m   5532\u001B[0m \n\u001B[0;32m   (...)\u001B[0m\n\u001B[1;32m   5568\u001B[0m \u001B[38;5;124;03m    3  monkey        NaN\u001B[39;00m\n\u001B[1;32m   5569\u001B[0m \u001B[38;5;124;03m    \"\"\"\u001B[39;00m\n\u001B[0;32m-> 5570\u001B[0m     \u001B[38;5;28;01mreturn\u001B[39;00m \u001B[38;5;28;43msuper\u001B[39;49m\u001B[43m(\u001B[49m\u001B[43m)\u001B[49m\u001B[38;5;241;43m.\u001B[39;49m\u001B[43mpop\u001B[49m\u001B[43m(\u001B[49m\u001B[43mitem\u001B[49m\u001B[38;5;241;43m=\u001B[39;49m\u001B[43mitem\u001B[49m\u001B[43m)\u001B[49m\n",
      "File \u001B[0;32m~/codeup-data-science/venv/lib/python3.11/site-packages/pandas/core/generic.py:901\u001B[0m, in \u001B[0;36mNDFrame.pop\u001B[0;34m(self, item)\u001B[0m\n\u001B[1;32m    900\u001B[0m \u001B[38;5;28;01mdef\u001B[39;00m \u001B[38;5;21mpop\u001B[39m(\u001B[38;5;28mself\u001B[39m, item: Hashable) \u001B[38;5;241m-\u001B[39m\u001B[38;5;241m>\u001B[39m Series \u001B[38;5;241m|\u001B[39m Any:\n\u001B[0;32m--> 901\u001B[0m     result \u001B[38;5;241m=\u001B[39m \u001B[38;5;28;43mself\u001B[39;49m\u001B[43m[\u001B[49m\u001B[43mitem\u001B[49m\u001B[43m]\u001B[49m\n\u001B[1;32m    902\u001B[0m     \u001B[38;5;28;01mdel\u001B[39;00m \u001B[38;5;28mself\u001B[39m[item]\n\u001B[1;32m    904\u001B[0m     \u001B[38;5;28;01mreturn\u001B[39;00m result\n",
      "File \u001B[0;32m~/codeup-data-science/venv/lib/python3.11/site-packages/pandas/core/frame.py:3893\u001B[0m, in \u001B[0;36mDataFrame.__getitem__\u001B[0;34m(self, key)\u001B[0m\n\u001B[1;32m   3891\u001B[0m \u001B[38;5;28;01mif\u001B[39;00m \u001B[38;5;28mself\u001B[39m\u001B[38;5;241m.\u001B[39mcolumns\u001B[38;5;241m.\u001B[39mnlevels \u001B[38;5;241m>\u001B[39m \u001B[38;5;241m1\u001B[39m:\n\u001B[1;32m   3892\u001B[0m     \u001B[38;5;28;01mreturn\u001B[39;00m \u001B[38;5;28mself\u001B[39m\u001B[38;5;241m.\u001B[39m_getitem_multilevel(key)\n\u001B[0;32m-> 3893\u001B[0m indexer \u001B[38;5;241m=\u001B[39m \u001B[38;5;28;43mself\u001B[39;49m\u001B[38;5;241;43m.\u001B[39;49m\u001B[43mcolumns\u001B[49m\u001B[38;5;241;43m.\u001B[39;49m\u001B[43mget_loc\u001B[49m\u001B[43m(\u001B[49m\u001B[43mkey\u001B[49m\u001B[43m)\u001B[49m\n\u001B[1;32m   3894\u001B[0m \u001B[38;5;28;01mif\u001B[39;00m is_integer(indexer):\n\u001B[1;32m   3895\u001B[0m     indexer \u001B[38;5;241m=\u001B[39m [indexer]\n",
      "File \u001B[0;32m~/codeup-data-science/venv/lib/python3.11/site-packages/pandas/core/indexes/base.py:3797\u001B[0m, in \u001B[0;36mIndex.get_loc\u001B[0;34m(self, key)\u001B[0m\n\u001B[1;32m   3792\u001B[0m     \u001B[38;5;28;01mif\u001B[39;00m \u001B[38;5;28misinstance\u001B[39m(casted_key, \u001B[38;5;28mslice\u001B[39m) \u001B[38;5;129;01mor\u001B[39;00m (\n\u001B[1;32m   3793\u001B[0m         \u001B[38;5;28misinstance\u001B[39m(casted_key, abc\u001B[38;5;241m.\u001B[39mIterable)\n\u001B[1;32m   3794\u001B[0m         \u001B[38;5;129;01mand\u001B[39;00m \u001B[38;5;28many\u001B[39m(\u001B[38;5;28misinstance\u001B[39m(x, \u001B[38;5;28mslice\u001B[39m) \u001B[38;5;28;01mfor\u001B[39;00m x \u001B[38;5;129;01min\u001B[39;00m casted_key)\n\u001B[1;32m   3795\u001B[0m     ):\n\u001B[1;32m   3796\u001B[0m         \u001B[38;5;28;01mraise\u001B[39;00m InvalidIndexError(key)\n\u001B[0;32m-> 3797\u001B[0m     \u001B[38;5;28;01mraise\u001B[39;00m \u001B[38;5;167;01mKeyError\u001B[39;00m(key) \u001B[38;5;28;01mfrom\u001B[39;00m \u001B[38;5;21;01merr\u001B[39;00m\n\u001B[1;32m   3798\u001B[0m \u001B[38;5;28;01mexcept\u001B[39;00m \u001B[38;5;167;01mTypeError\u001B[39;00m:\n\u001B[1;32m   3799\u001B[0m     \u001B[38;5;66;03m# If we have a listlike key, _check_indexing_error will raise\u001B[39;00m\n\u001B[1;32m   3800\u001B[0m     \u001B[38;5;66;03m#  InvalidIndexError. Otherwise we fall through and re-raise\u001B[39;00m\n\u001B[1;32m   3801\u001B[0m     \u001B[38;5;66;03m#  the TypeError.\u001B[39;00m\n\u001B[1;32m   3802\u001B[0m     \u001B[38;5;28mself\u001B[39m\u001B[38;5;241m.\u001B[39m_check_indexing_error(key)\n",
      "\u001B[0;31mKeyError\u001B[0m: 'payment_type'"
     ]
    }
   ],
   "source": [
    "# now deleting the column\n",
    "train.pop('payment_type')"
   ],
   "metadata": {
    "collapsed": false,
    "ExecuteTime": {
     "end_time": "2023-12-04T16:49:24.769761Z",
     "start_time": "2023-12-04T16:49:24.723370Z"
    }
   },
   "id": "31853e9bc1ce4df0"
  },
  {
   "cell_type": "code",
   "execution_count": 53,
   "outputs": [
    {
     "ename": "TypeError",
     "evalue": "argument of type 'int' is not iterable",
     "output_type": "error",
     "traceback": [
      "\u001B[0;31m---------------------------------------------------------------------------\u001B[0m",
      "\u001B[0;31mTypeError\u001B[0m                                 Traceback (most recent call last)",
      "Cell \u001B[0;32mIn[53], line 3\u001B[0m\n\u001B[1;32m      1\u001B[0m \u001B[38;5;66;03m# turned the yes and no rows into 1 (yes) and 0 (no)\u001B[39;00m\n\u001B[1;32m      2\u001B[0m \u001B[38;5;28;01mfor\u001B[39;00m x \u001B[38;5;129;01min\u001B[39;00m yn:\n\u001B[0;32m----> 3\u001B[0m     train[x] \u001B[38;5;241m=\u001B[39m \u001B[43mtrain\u001B[49m\u001B[43m[\u001B[49m\u001B[43mx\u001B[49m\u001B[43m]\u001B[49m\u001B[38;5;241;43m.\u001B[39;49m\u001B[43mapply\u001B[49m\u001B[43m(\u001B[49m\u001B[38;5;28;43;01mlambda\u001B[39;49;00m\u001B[43m \u001B[49m\u001B[43mx\u001B[49m\u001B[43m:\u001B[49m\u001B[43m \u001B[49m\u001B[38;5;241;43m1\u001B[39;49m\u001B[43m \u001B[49m\u001B[38;5;28;43;01mif\u001B[39;49;00m\u001B[43m \u001B[49m\u001B[38;5;124;43m'\u001B[39;49m\u001B[38;5;124;43mYes\u001B[39;49m\u001B[38;5;124;43m'\u001B[39;49m\u001B[43m \u001B[49m\u001B[38;5;129;43;01min\u001B[39;49;00m\u001B[43m \u001B[49m\u001B[43mx\u001B[49m\u001B[43m \u001B[49m\u001B[38;5;28;43;01melse\u001B[39;49;00m\u001B[43m \u001B[49m\u001B[38;5;241;43m0\u001B[39;49m\u001B[43m)\u001B[49m\n",
      "File \u001B[0;32m~/codeup-data-science/venv/lib/python3.11/site-packages/pandas/core/series.py:4760\u001B[0m, in \u001B[0;36mSeries.apply\u001B[0;34m(self, func, convert_dtype, args, by_row, **kwargs)\u001B[0m\n\u001B[1;32m   4625\u001B[0m \u001B[38;5;28;01mdef\u001B[39;00m \u001B[38;5;21mapply\u001B[39m(\n\u001B[1;32m   4626\u001B[0m     \u001B[38;5;28mself\u001B[39m,\n\u001B[1;32m   4627\u001B[0m     func: AggFuncType,\n\u001B[0;32m   (...)\u001B[0m\n\u001B[1;32m   4632\u001B[0m     \u001B[38;5;241m*\u001B[39m\u001B[38;5;241m*\u001B[39mkwargs,\n\u001B[1;32m   4633\u001B[0m ) \u001B[38;5;241m-\u001B[39m\u001B[38;5;241m>\u001B[39m DataFrame \u001B[38;5;241m|\u001B[39m Series:\n\u001B[1;32m   4634\u001B[0m \u001B[38;5;250m    \u001B[39m\u001B[38;5;124;03m\"\"\"\u001B[39;00m\n\u001B[1;32m   4635\u001B[0m \u001B[38;5;124;03m    Invoke function on values of Series.\u001B[39;00m\n\u001B[1;32m   4636\u001B[0m \n\u001B[0;32m   (...)\u001B[0m\n\u001B[1;32m   4751\u001B[0m \u001B[38;5;124;03m    dtype: float64\u001B[39;00m\n\u001B[1;32m   4752\u001B[0m \u001B[38;5;124;03m    \"\"\"\u001B[39;00m\n\u001B[1;32m   4753\u001B[0m     \u001B[38;5;28;01mreturn\u001B[39;00m \u001B[43mSeriesApply\u001B[49m\u001B[43m(\u001B[49m\n\u001B[1;32m   4754\u001B[0m \u001B[43m        \u001B[49m\u001B[38;5;28;43mself\u001B[39;49m\u001B[43m,\u001B[49m\n\u001B[1;32m   4755\u001B[0m \u001B[43m        \u001B[49m\u001B[43mfunc\u001B[49m\u001B[43m,\u001B[49m\n\u001B[1;32m   4756\u001B[0m \u001B[43m        \u001B[49m\u001B[43mconvert_dtype\u001B[49m\u001B[38;5;241;43m=\u001B[39;49m\u001B[43mconvert_dtype\u001B[49m\u001B[43m,\u001B[49m\n\u001B[1;32m   4757\u001B[0m \u001B[43m        \u001B[49m\u001B[43mby_row\u001B[49m\u001B[38;5;241;43m=\u001B[39;49m\u001B[43mby_row\u001B[49m\u001B[43m,\u001B[49m\n\u001B[1;32m   4758\u001B[0m \u001B[43m        \u001B[49m\u001B[43margs\u001B[49m\u001B[38;5;241;43m=\u001B[39;49m\u001B[43margs\u001B[49m\u001B[43m,\u001B[49m\n\u001B[1;32m   4759\u001B[0m \u001B[43m        \u001B[49m\u001B[43mkwargs\u001B[49m\u001B[38;5;241;43m=\u001B[39;49m\u001B[43mkwargs\u001B[49m\u001B[43m,\u001B[49m\n\u001B[0;32m-> 4760\u001B[0m \u001B[43m    \u001B[49m\u001B[43m)\u001B[49m\u001B[38;5;241;43m.\u001B[39;49m\u001B[43mapply\u001B[49m\u001B[43m(\u001B[49m\u001B[43m)\u001B[49m\n",
      "File \u001B[0;32m~/codeup-data-science/venv/lib/python3.11/site-packages/pandas/core/apply.py:1207\u001B[0m, in \u001B[0;36mSeriesApply.apply\u001B[0;34m(self)\u001B[0m\n\u001B[1;32m   1204\u001B[0m     \u001B[38;5;28;01mreturn\u001B[39;00m \u001B[38;5;28mself\u001B[39m\u001B[38;5;241m.\u001B[39mapply_compat()\n\u001B[1;32m   1206\u001B[0m \u001B[38;5;66;03m# self.func is Callable\u001B[39;00m\n\u001B[0;32m-> 1207\u001B[0m \u001B[38;5;28;01mreturn\u001B[39;00m \u001B[38;5;28;43mself\u001B[39;49m\u001B[38;5;241;43m.\u001B[39;49m\u001B[43mapply_standard\u001B[49m\u001B[43m(\u001B[49m\u001B[43m)\u001B[49m\n",
      "File \u001B[0;32m~/codeup-data-science/venv/lib/python3.11/site-packages/pandas/core/apply.py:1287\u001B[0m, in \u001B[0;36mSeriesApply.apply_standard\u001B[0;34m(self)\u001B[0m\n\u001B[1;32m   1281\u001B[0m \u001B[38;5;66;03m# row-wise access\u001B[39;00m\n\u001B[1;32m   1282\u001B[0m \u001B[38;5;66;03m# apply doesn't have a `na_action` keyword and for backward compat reasons\u001B[39;00m\n\u001B[1;32m   1283\u001B[0m \u001B[38;5;66;03m# we need to give `na_action=\"ignore\"` for categorical data.\u001B[39;00m\n\u001B[1;32m   1284\u001B[0m \u001B[38;5;66;03m# TODO: remove the `na_action=\"ignore\"` when that default has been changed in\u001B[39;00m\n\u001B[1;32m   1285\u001B[0m \u001B[38;5;66;03m#  Categorical (GH51645).\u001B[39;00m\n\u001B[1;32m   1286\u001B[0m action \u001B[38;5;241m=\u001B[39m \u001B[38;5;124m\"\u001B[39m\u001B[38;5;124mignore\u001B[39m\u001B[38;5;124m\"\u001B[39m \u001B[38;5;28;01mif\u001B[39;00m \u001B[38;5;28misinstance\u001B[39m(obj\u001B[38;5;241m.\u001B[39mdtype, CategoricalDtype) \u001B[38;5;28;01melse\u001B[39;00m \u001B[38;5;28;01mNone\u001B[39;00m\n\u001B[0;32m-> 1287\u001B[0m mapped \u001B[38;5;241m=\u001B[39m \u001B[43mobj\u001B[49m\u001B[38;5;241;43m.\u001B[39;49m\u001B[43m_map_values\u001B[49m\u001B[43m(\u001B[49m\n\u001B[1;32m   1288\u001B[0m \u001B[43m    \u001B[49m\u001B[43mmapper\u001B[49m\u001B[38;5;241;43m=\u001B[39;49m\u001B[43mcurried\u001B[49m\u001B[43m,\u001B[49m\u001B[43m \u001B[49m\u001B[43mna_action\u001B[49m\u001B[38;5;241;43m=\u001B[39;49m\u001B[43maction\u001B[49m\u001B[43m,\u001B[49m\u001B[43m \u001B[49m\u001B[43mconvert\u001B[49m\u001B[38;5;241;43m=\u001B[39;49m\u001B[38;5;28;43mself\u001B[39;49m\u001B[38;5;241;43m.\u001B[39;49m\u001B[43mconvert_dtype\u001B[49m\n\u001B[1;32m   1289\u001B[0m \u001B[43m\u001B[49m\u001B[43m)\u001B[49m\n\u001B[1;32m   1291\u001B[0m \u001B[38;5;28;01mif\u001B[39;00m \u001B[38;5;28mlen\u001B[39m(mapped) \u001B[38;5;129;01mand\u001B[39;00m \u001B[38;5;28misinstance\u001B[39m(mapped[\u001B[38;5;241m0\u001B[39m], ABCSeries):\n\u001B[1;32m   1292\u001B[0m     \u001B[38;5;66;03m# GH#43986 Need to do list(mapped) in order to get treated as nested\u001B[39;00m\n\u001B[1;32m   1293\u001B[0m     \u001B[38;5;66;03m#  See also GH#25959 regarding EA support\u001B[39;00m\n\u001B[1;32m   1294\u001B[0m     \u001B[38;5;28;01mreturn\u001B[39;00m obj\u001B[38;5;241m.\u001B[39m_constructor_expanddim(\u001B[38;5;28mlist\u001B[39m(mapped), index\u001B[38;5;241m=\u001B[39mobj\u001B[38;5;241m.\u001B[39mindex)\n",
      "File \u001B[0;32m~/codeup-data-science/venv/lib/python3.11/site-packages/pandas/core/base.py:921\u001B[0m, in \u001B[0;36mIndexOpsMixin._map_values\u001B[0;34m(self, mapper, na_action, convert)\u001B[0m\n\u001B[1;32m    918\u001B[0m \u001B[38;5;28;01mif\u001B[39;00m \u001B[38;5;28misinstance\u001B[39m(arr, ExtensionArray):\n\u001B[1;32m    919\u001B[0m     \u001B[38;5;28;01mreturn\u001B[39;00m arr\u001B[38;5;241m.\u001B[39mmap(mapper, na_action\u001B[38;5;241m=\u001B[39mna_action)\n\u001B[0;32m--> 921\u001B[0m \u001B[38;5;28;01mreturn\u001B[39;00m \u001B[43malgorithms\u001B[49m\u001B[38;5;241;43m.\u001B[39;49m\u001B[43mmap_array\u001B[49m\u001B[43m(\u001B[49m\u001B[43marr\u001B[49m\u001B[43m,\u001B[49m\u001B[43m \u001B[49m\u001B[43mmapper\u001B[49m\u001B[43m,\u001B[49m\u001B[43m \u001B[49m\u001B[43mna_action\u001B[49m\u001B[38;5;241;43m=\u001B[39;49m\u001B[43mna_action\u001B[49m\u001B[43m,\u001B[49m\u001B[43m \u001B[49m\u001B[43mconvert\u001B[49m\u001B[38;5;241;43m=\u001B[39;49m\u001B[43mconvert\u001B[49m\u001B[43m)\u001B[49m\n",
      "File \u001B[0;32m~/codeup-data-science/venv/lib/python3.11/site-packages/pandas/core/algorithms.py:1814\u001B[0m, in \u001B[0;36mmap_array\u001B[0;34m(arr, mapper, na_action, convert)\u001B[0m\n\u001B[1;32m   1812\u001B[0m values \u001B[38;5;241m=\u001B[39m arr\u001B[38;5;241m.\u001B[39mastype(\u001B[38;5;28mobject\u001B[39m, copy\u001B[38;5;241m=\u001B[39m\u001B[38;5;28;01mFalse\u001B[39;00m)\n\u001B[1;32m   1813\u001B[0m \u001B[38;5;28;01mif\u001B[39;00m na_action \u001B[38;5;129;01mis\u001B[39;00m \u001B[38;5;28;01mNone\u001B[39;00m:\n\u001B[0;32m-> 1814\u001B[0m     \u001B[38;5;28;01mreturn\u001B[39;00m \u001B[43mlib\u001B[49m\u001B[38;5;241;43m.\u001B[39;49m\u001B[43mmap_infer\u001B[49m\u001B[43m(\u001B[49m\u001B[43mvalues\u001B[49m\u001B[43m,\u001B[49m\u001B[43m \u001B[49m\u001B[43mmapper\u001B[49m\u001B[43m,\u001B[49m\u001B[43m \u001B[49m\u001B[43mconvert\u001B[49m\u001B[38;5;241;43m=\u001B[39;49m\u001B[43mconvert\u001B[49m\u001B[43m)\u001B[49m\n\u001B[1;32m   1815\u001B[0m \u001B[38;5;28;01melse\u001B[39;00m:\n\u001B[1;32m   1816\u001B[0m     \u001B[38;5;28;01mreturn\u001B[39;00m lib\u001B[38;5;241m.\u001B[39mmap_infer_mask(\n\u001B[1;32m   1817\u001B[0m         values, mapper, mask\u001B[38;5;241m=\u001B[39misna(values)\u001B[38;5;241m.\u001B[39mview(np\u001B[38;5;241m.\u001B[39muint8), convert\u001B[38;5;241m=\u001B[39mconvert\n\u001B[1;32m   1818\u001B[0m     )\n",
      "File \u001B[0;32mlib.pyx:2920\u001B[0m, in \u001B[0;36mpandas._libs.lib.map_infer\u001B[0;34m()\u001B[0m\n",
      "Cell \u001B[0;32mIn[53], line 3\u001B[0m, in \u001B[0;36m<lambda>\u001B[0;34m(x)\u001B[0m\n\u001B[1;32m      1\u001B[0m \u001B[38;5;66;03m# turned the yes and no rows into 1 (yes) and 0 (no)\u001B[39;00m\n\u001B[1;32m      2\u001B[0m \u001B[38;5;28;01mfor\u001B[39;00m x \u001B[38;5;129;01min\u001B[39;00m yn:\n\u001B[0;32m----> 3\u001B[0m     train[x] \u001B[38;5;241m=\u001B[39m train[x]\u001B[38;5;241m.\u001B[39mapply(\u001B[38;5;28;01mlambda\u001B[39;00m x: \u001B[38;5;241m1\u001B[39m \u001B[38;5;28;01mif\u001B[39;00m \u001B[38;5;124;43m'\u001B[39;49m\u001B[38;5;124;43mYes\u001B[39;49m\u001B[38;5;124;43m'\u001B[39;49m\u001B[43m \u001B[49m\u001B[38;5;129;43;01min\u001B[39;49;00m\u001B[43m \u001B[49m\u001B[43mx\u001B[49m \u001B[38;5;28;01melse\u001B[39;00m \u001B[38;5;241m0\u001B[39m)\n",
      "\u001B[0;31mTypeError\u001B[0m: argument of type 'int' is not iterable"
     ]
    }
   ],
   "source": [
    "# turned the yes and no rows into 1 (yes) and 0 (no)\n",
    "for x in yn:\n",
    "    train[x] = train[x].apply(lambda x: 1 if 'Yes' in x else 0)"
   ],
   "metadata": {
    "collapsed": false,
    "ExecuteTime": {
     "end_time": "2023-12-04T16:49:25.272632Z",
     "start_time": "2023-12-04T16:49:24.876228Z"
    }
   },
   "id": "6ca0d4611d34c766"
  },
  {
   "cell_type": "code",
   "execution_count": null,
   "outputs": [],
   "source": [
    "train.head(10)"
   ],
   "metadata": {
    "collapsed": false,
    "ExecuteTime": {
     "start_time": "2023-12-04T16:49:25.271998Z"
    }
   },
   "id": "4b4b6a0337761b8f"
  },
  {
   "cell_type": "code",
   "execution_count": null,
   "outputs": [],
   "source": [
    "# creating is male variable\n",
    "train['is_male'] = train['gender'].apply(lambda x: 1 if 'Male' in x else 0)"
   ],
   "metadata": {
    "collapsed": false,
    "ExecuteTime": {
     "end_time": "2023-12-04T16:49:25.275334Z",
     "start_time": "2023-12-04T16:49:25.273171Z"
    }
   },
   "id": "5622222d39c60d71"
  },
  {
   "cell_type": "code",
   "execution_count": 54,
   "outputs": [
    {
     "ename": "KeyError",
     "evalue": "'gender'",
     "output_type": "error",
     "traceback": [
      "\u001B[0;31m---------------------------------------------------------------------------\u001B[0m",
      "\u001B[0;31mKeyError\u001B[0m                                  Traceback (most recent call last)",
      "File \u001B[0;32m~/codeup-data-science/venv/lib/python3.11/site-packages/pandas/core/indexes/base.py:3790\u001B[0m, in \u001B[0;36mIndex.get_loc\u001B[0;34m(self, key)\u001B[0m\n\u001B[1;32m   3789\u001B[0m \u001B[38;5;28;01mtry\u001B[39;00m:\n\u001B[0;32m-> 3790\u001B[0m     \u001B[38;5;28;01mreturn\u001B[39;00m \u001B[38;5;28;43mself\u001B[39;49m\u001B[38;5;241;43m.\u001B[39;49m\u001B[43m_engine\u001B[49m\u001B[38;5;241;43m.\u001B[39;49m\u001B[43mget_loc\u001B[49m\u001B[43m(\u001B[49m\u001B[43mcasted_key\u001B[49m\u001B[43m)\u001B[49m\n\u001B[1;32m   3791\u001B[0m \u001B[38;5;28;01mexcept\u001B[39;00m \u001B[38;5;167;01mKeyError\u001B[39;00m \u001B[38;5;28;01mas\u001B[39;00m err:\n",
      "File \u001B[0;32mindex.pyx:152\u001B[0m, in \u001B[0;36mpandas._libs.index.IndexEngine.get_loc\u001B[0;34m()\u001B[0m\n",
      "File \u001B[0;32mindex.pyx:181\u001B[0m, in \u001B[0;36mpandas._libs.index.IndexEngine.get_loc\u001B[0;34m()\u001B[0m\n",
      "File \u001B[0;32mpandas/_libs/hashtable_class_helper.pxi:7080\u001B[0m, in \u001B[0;36mpandas._libs.hashtable.PyObjectHashTable.get_item\u001B[0;34m()\u001B[0m\n",
      "File \u001B[0;32mpandas/_libs/hashtable_class_helper.pxi:7088\u001B[0m, in \u001B[0;36mpandas._libs.hashtable.PyObjectHashTable.get_item\u001B[0;34m()\u001B[0m\n",
      "\u001B[0;31mKeyError\u001B[0m: 'gender'",
      "\nThe above exception was the direct cause of the following exception:\n",
      "\u001B[0;31mKeyError\u001B[0m                                  Traceback (most recent call last)",
      "Cell \u001B[0;32mIn[54], line 2\u001B[0m\n\u001B[1;32m      1\u001B[0m \u001B[38;5;66;03m# now delete the gender \u001B[39;00m\n\u001B[0;32m----> 2\u001B[0m \u001B[43mtrain\u001B[49m\u001B[38;5;241;43m.\u001B[39;49m\u001B[43mpop\u001B[49m\u001B[43m(\u001B[49m\u001B[38;5;124;43m'\u001B[39;49m\u001B[38;5;124;43mgender\u001B[39;49m\u001B[38;5;124;43m'\u001B[39;49m\u001B[43m)\u001B[49m\n",
      "File \u001B[0;32m~/codeup-data-science/venv/lib/python3.11/site-packages/pandas/core/frame.py:5570\u001B[0m, in \u001B[0;36mDataFrame.pop\u001B[0;34m(self, item)\u001B[0m\n\u001B[1;32m   5529\u001B[0m \u001B[38;5;28;01mdef\u001B[39;00m \u001B[38;5;21mpop\u001B[39m(\u001B[38;5;28mself\u001B[39m, item: Hashable) \u001B[38;5;241m-\u001B[39m\u001B[38;5;241m>\u001B[39m Series:\n\u001B[1;32m   5530\u001B[0m \u001B[38;5;250m    \u001B[39m\u001B[38;5;124;03m\"\"\"\u001B[39;00m\n\u001B[1;32m   5531\u001B[0m \u001B[38;5;124;03m    Return item and drop from frame. Raise KeyError if not found.\u001B[39;00m\n\u001B[1;32m   5532\u001B[0m \n\u001B[0;32m   (...)\u001B[0m\n\u001B[1;32m   5568\u001B[0m \u001B[38;5;124;03m    3  monkey        NaN\u001B[39;00m\n\u001B[1;32m   5569\u001B[0m \u001B[38;5;124;03m    \"\"\"\u001B[39;00m\n\u001B[0;32m-> 5570\u001B[0m     \u001B[38;5;28;01mreturn\u001B[39;00m \u001B[38;5;28;43msuper\u001B[39;49m\u001B[43m(\u001B[49m\u001B[43m)\u001B[49m\u001B[38;5;241;43m.\u001B[39;49m\u001B[43mpop\u001B[49m\u001B[43m(\u001B[49m\u001B[43mitem\u001B[49m\u001B[38;5;241;43m=\u001B[39;49m\u001B[43mitem\u001B[49m\u001B[43m)\u001B[49m\n",
      "File \u001B[0;32m~/codeup-data-science/venv/lib/python3.11/site-packages/pandas/core/generic.py:901\u001B[0m, in \u001B[0;36mNDFrame.pop\u001B[0;34m(self, item)\u001B[0m\n\u001B[1;32m    900\u001B[0m \u001B[38;5;28;01mdef\u001B[39;00m \u001B[38;5;21mpop\u001B[39m(\u001B[38;5;28mself\u001B[39m, item: Hashable) \u001B[38;5;241m-\u001B[39m\u001B[38;5;241m>\u001B[39m Series \u001B[38;5;241m|\u001B[39m Any:\n\u001B[0;32m--> 901\u001B[0m     result \u001B[38;5;241m=\u001B[39m \u001B[38;5;28;43mself\u001B[39;49m\u001B[43m[\u001B[49m\u001B[43mitem\u001B[49m\u001B[43m]\u001B[49m\n\u001B[1;32m    902\u001B[0m     \u001B[38;5;28;01mdel\u001B[39;00m \u001B[38;5;28mself\u001B[39m[item]\n\u001B[1;32m    904\u001B[0m     \u001B[38;5;28;01mreturn\u001B[39;00m result\n",
      "File \u001B[0;32m~/codeup-data-science/venv/lib/python3.11/site-packages/pandas/core/frame.py:3893\u001B[0m, in \u001B[0;36mDataFrame.__getitem__\u001B[0;34m(self, key)\u001B[0m\n\u001B[1;32m   3891\u001B[0m \u001B[38;5;28;01mif\u001B[39;00m \u001B[38;5;28mself\u001B[39m\u001B[38;5;241m.\u001B[39mcolumns\u001B[38;5;241m.\u001B[39mnlevels \u001B[38;5;241m>\u001B[39m \u001B[38;5;241m1\u001B[39m:\n\u001B[1;32m   3892\u001B[0m     \u001B[38;5;28;01mreturn\u001B[39;00m \u001B[38;5;28mself\u001B[39m\u001B[38;5;241m.\u001B[39m_getitem_multilevel(key)\n\u001B[0;32m-> 3893\u001B[0m indexer \u001B[38;5;241m=\u001B[39m \u001B[38;5;28;43mself\u001B[39;49m\u001B[38;5;241;43m.\u001B[39;49m\u001B[43mcolumns\u001B[49m\u001B[38;5;241;43m.\u001B[39;49m\u001B[43mget_loc\u001B[49m\u001B[43m(\u001B[49m\u001B[43mkey\u001B[49m\u001B[43m)\u001B[49m\n\u001B[1;32m   3894\u001B[0m \u001B[38;5;28;01mif\u001B[39;00m is_integer(indexer):\n\u001B[1;32m   3895\u001B[0m     indexer \u001B[38;5;241m=\u001B[39m [indexer]\n",
      "File \u001B[0;32m~/codeup-data-science/venv/lib/python3.11/site-packages/pandas/core/indexes/base.py:3797\u001B[0m, in \u001B[0;36mIndex.get_loc\u001B[0;34m(self, key)\u001B[0m\n\u001B[1;32m   3792\u001B[0m     \u001B[38;5;28;01mif\u001B[39;00m \u001B[38;5;28misinstance\u001B[39m(casted_key, \u001B[38;5;28mslice\u001B[39m) \u001B[38;5;129;01mor\u001B[39;00m (\n\u001B[1;32m   3793\u001B[0m         \u001B[38;5;28misinstance\u001B[39m(casted_key, abc\u001B[38;5;241m.\u001B[39mIterable)\n\u001B[1;32m   3794\u001B[0m         \u001B[38;5;129;01mand\u001B[39;00m \u001B[38;5;28many\u001B[39m(\u001B[38;5;28misinstance\u001B[39m(x, \u001B[38;5;28mslice\u001B[39m) \u001B[38;5;28;01mfor\u001B[39;00m x \u001B[38;5;129;01min\u001B[39;00m casted_key)\n\u001B[1;32m   3795\u001B[0m     ):\n\u001B[1;32m   3796\u001B[0m         \u001B[38;5;28;01mraise\u001B[39;00m InvalidIndexError(key)\n\u001B[0;32m-> 3797\u001B[0m     \u001B[38;5;28;01mraise\u001B[39;00m \u001B[38;5;167;01mKeyError\u001B[39;00m(key) \u001B[38;5;28;01mfrom\u001B[39;00m \u001B[38;5;21;01merr\u001B[39;00m\n\u001B[1;32m   3798\u001B[0m \u001B[38;5;28;01mexcept\u001B[39;00m \u001B[38;5;167;01mTypeError\u001B[39;00m:\n\u001B[1;32m   3799\u001B[0m     \u001B[38;5;66;03m# If we have a listlike key, _check_indexing_error will raise\u001B[39;00m\n\u001B[1;32m   3800\u001B[0m     \u001B[38;5;66;03m#  InvalidIndexError. Otherwise we fall through and re-raise\u001B[39;00m\n\u001B[1;32m   3801\u001B[0m     \u001B[38;5;66;03m#  the TypeError.\u001B[39;00m\n\u001B[1;32m   3802\u001B[0m     \u001B[38;5;28mself\u001B[39m\u001B[38;5;241m.\u001B[39m_check_indexing_error(key)\n",
      "\u001B[0;31mKeyError\u001B[0m: 'gender'"
     ]
    }
   ],
   "source": [
    "# now delete the gender \n",
    "train.pop('gender')"
   ],
   "metadata": {
    "collapsed": false,
    "ExecuteTime": {
     "end_time": "2023-12-04T16:49:25.423570Z",
     "start_time": "2023-12-04T16:49:25.378983Z"
    }
   },
   "id": "f62410418410b4fd"
  },
  {
   "cell_type": "code",
   "execution_count": 55,
   "outputs": [
    {
     "ename": "TypeError",
     "evalue": "argument of type 'int' is not iterable",
     "output_type": "error",
     "traceback": [
      "\u001B[0;31m---------------------------------------------------------------------------\u001B[0m",
      "\u001B[0;31mTypeError\u001B[0m                                 Traceback (most recent call last)",
      "Cell \u001B[0;32mIn[55], line 2\u001B[0m\n\u001B[1;32m      1\u001B[0m \u001B[38;5;66;03m# turning churn into 1 and 0\u001B[39;00m\n\u001B[0;32m----> 2\u001B[0m train[\u001B[38;5;124m'\u001B[39m\u001B[38;5;124mchurn\u001B[39m\u001B[38;5;124m'\u001B[39m] \u001B[38;5;241m=\u001B[39m \u001B[43mtrain\u001B[49m\u001B[43m[\u001B[49m\u001B[38;5;124;43m'\u001B[39;49m\u001B[38;5;124;43mchurn\u001B[39;49m\u001B[38;5;124;43m'\u001B[39;49m\u001B[43m]\u001B[49m\u001B[38;5;241;43m.\u001B[39;49m\u001B[43mapply\u001B[49m\u001B[43m(\u001B[49m\u001B[38;5;28;43;01mlambda\u001B[39;49;00m\u001B[43m \u001B[49m\u001B[43mx\u001B[49m\u001B[43m:\u001B[49m\u001B[43m \u001B[49m\u001B[38;5;241;43m1\u001B[39;49m\u001B[43m \u001B[49m\u001B[38;5;28;43;01mif\u001B[39;49;00m\u001B[43m \u001B[49m\u001B[38;5;124;43m'\u001B[39;49m\u001B[38;5;124;43mYes\u001B[39;49m\u001B[38;5;124;43m'\u001B[39;49m\u001B[43m \u001B[49m\u001B[38;5;129;43;01min\u001B[39;49;00m\u001B[43m \u001B[49m\u001B[43mx\u001B[49m\u001B[43m \u001B[49m\u001B[38;5;28;43;01melse\u001B[39;49;00m\u001B[43m \u001B[49m\u001B[38;5;241;43m0\u001B[39;49m\u001B[43m)\u001B[49m\n",
      "File \u001B[0;32m~/codeup-data-science/venv/lib/python3.11/site-packages/pandas/core/series.py:4760\u001B[0m, in \u001B[0;36mSeries.apply\u001B[0;34m(self, func, convert_dtype, args, by_row, **kwargs)\u001B[0m\n\u001B[1;32m   4625\u001B[0m \u001B[38;5;28;01mdef\u001B[39;00m \u001B[38;5;21mapply\u001B[39m(\n\u001B[1;32m   4626\u001B[0m     \u001B[38;5;28mself\u001B[39m,\n\u001B[1;32m   4627\u001B[0m     func: AggFuncType,\n\u001B[0;32m   (...)\u001B[0m\n\u001B[1;32m   4632\u001B[0m     \u001B[38;5;241m*\u001B[39m\u001B[38;5;241m*\u001B[39mkwargs,\n\u001B[1;32m   4633\u001B[0m ) \u001B[38;5;241m-\u001B[39m\u001B[38;5;241m>\u001B[39m DataFrame \u001B[38;5;241m|\u001B[39m Series:\n\u001B[1;32m   4634\u001B[0m \u001B[38;5;250m    \u001B[39m\u001B[38;5;124;03m\"\"\"\u001B[39;00m\n\u001B[1;32m   4635\u001B[0m \u001B[38;5;124;03m    Invoke function on values of Series.\u001B[39;00m\n\u001B[1;32m   4636\u001B[0m \n\u001B[0;32m   (...)\u001B[0m\n\u001B[1;32m   4751\u001B[0m \u001B[38;5;124;03m    dtype: float64\u001B[39;00m\n\u001B[1;32m   4752\u001B[0m \u001B[38;5;124;03m    \"\"\"\u001B[39;00m\n\u001B[1;32m   4753\u001B[0m     \u001B[38;5;28;01mreturn\u001B[39;00m \u001B[43mSeriesApply\u001B[49m\u001B[43m(\u001B[49m\n\u001B[1;32m   4754\u001B[0m \u001B[43m        \u001B[49m\u001B[38;5;28;43mself\u001B[39;49m\u001B[43m,\u001B[49m\n\u001B[1;32m   4755\u001B[0m \u001B[43m        \u001B[49m\u001B[43mfunc\u001B[49m\u001B[43m,\u001B[49m\n\u001B[1;32m   4756\u001B[0m \u001B[43m        \u001B[49m\u001B[43mconvert_dtype\u001B[49m\u001B[38;5;241;43m=\u001B[39;49m\u001B[43mconvert_dtype\u001B[49m\u001B[43m,\u001B[49m\n\u001B[1;32m   4757\u001B[0m \u001B[43m        \u001B[49m\u001B[43mby_row\u001B[49m\u001B[38;5;241;43m=\u001B[39;49m\u001B[43mby_row\u001B[49m\u001B[43m,\u001B[49m\n\u001B[1;32m   4758\u001B[0m \u001B[43m        \u001B[49m\u001B[43margs\u001B[49m\u001B[38;5;241;43m=\u001B[39;49m\u001B[43margs\u001B[49m\u001B[43m,\u001B[49m\n\u001B[1;32m   4759\u001B[0m \u001B[43m        \u001B[49m\u001B[43mkwargs\u001B[49m\u001B[38;5;241;43m=\u001B[39;49m\u001B[43mkwargs\u001B[49m\u001B[43m,\u001B[49m\n\u001B[0;32m-> 4760\u001B[0m \u001B[43m    \u001B[49m\u001B[43m)\u001B[49m\u001B[38;5;241;43m.\u001B[39;49m\u001B[43mapply\u001B[49m\u001B[43m(\u001B[49m\u001B[43m)\u001B[49m\n",
      "File \u001B[0;32m~/codeup-data-science/venv/lib/python3.11/site-packages/pandas/core/apply.py:1207\u001B[0m, in \u001B[0;36mSeriesApply.apply\u001B[0;34m(self)\u001B[0m\n\u001B[1;32m   1204\u001B[0m     \u001B[38;5;28;01mreturn\u001B[39;00m \u001B[38;5;28mself\u001B[39m\u001B[38;5;241m.\u001B[39mapply_compat()\n\u001B[1;32m   1206\u001B[0m \u001B[38;5;66;03m# self.func is Callable\u001B[39;00m\n\u001B[0;32m-> 1207\u001B[0m \u001B[38;5;28;01mreturn\u001B[39;00m \u001B[38;5;28;43mself\u001B[39;49m\u001B[38;5;241;43m.\u001B[39;49m\u001B[43mapply_standard\u001B[49m\u001B[43m(\u001B[49m\u001B[43m)\u001B[49m\n",
      "File \u001B[0;32m~/codeup-data-science/venv/lib/python3.11/site-packages/pandas/core/apply.py:1287\u001B[0m, in \u001B[0;36mSeriesApply.apply_standard\u001B[0;34m(self)\u001B[0m\n\u001B[1;32m   1281\u001B[0m \u001B[38;5;66;03m# row-wise access\u001B[39;00m\n\u001B[1;32m   1282\u001B[0m \u001B[38;5;66;03m# apply doesn't have a `na_action` keyword and for backward compat reasons\u001B[39;00m\n\u001B[1;32m   1283\u001B[0m \u001B[38;5;66;03m# we need to give `na_action=\"ignore\"` for categorical data.\u001B[39;00m\n\u001B[1;32m   1284\u001B[0m \u001B[38;5;66;03m# TODO: remove the `na_action=\"ignore\"` when that default has been changed in\u001B[39;00m\n\u001B[1;32m   1285\u001B[0m \u001B[38;5;66;03m#  Categorical (GH51645).\u001B[39;00m\n\u001B[1;32m   1286\u001B[0m action \u001B[38;5;241m=\u001B[39m \u001B[38;5;124m\"\u001B[39m\u001B[38;5;124mignore\u001B[39m\u001B[38;5;124m\"\u001B[39m \u001B[38;5;28;01mif\u001B[39;00m \u001B[38;5;28misinstance\u001B[39m(obj\u001B[38;5;241m.\u001B[39mdtype, CategoricalDtype) \u001B[38;5;28;01melse\u001B[39;00m \u001B[38;5;28;01mNone\u001B[39;00m\n\u001B[0;32m-> 1287\u001B[0m mapped \u001B[38;5;241m=\u001B[39m \u001B[43mobj\u001B[49m\u001B[38;5;241;43m.\u001B[39;49m\u001B[43m_map_values\u001B[49m\u001B[43m(\u001B[49m\n\u001B[1;32m   1288\u001B[0m \u001B[43m    \u001B[49m\u001B[43mmapper\u001B[49m\u001B[38;5;241;43m=\u001B[39;49m\u001B[43mcurried\u001B[49m\u001B[43m,\u001B[49m\u001B[43m \u001B[49m\u001B[43mna_action\u001B[49m\u001B[38;5;241;43m=\u001B[39;49m\u001B[43maction\u001B[49m\u001B[43m,\u001B[49m\u001B[43m \u001B[49m\u001B[43mconvert\u001B[49m\u001B[38;5;241;43m=\u001B[39;49m\u001B[38;5;28;43mself\u001B[39;49m\u001B[38;5;241;43m.\u001B[39;49m\u001B[43mconvert_dtype\u001B[49m\n\u001B[1;32m   1289\u001B[0m \u001B[43m\u001B[49m\u001B[43m)\u001B[49m\n\u001B[1;32m   1291\u001B[0m \u001B[38;5;28;01mif\u001B[39;00m \u001B[38;5;28mlen\u001B[39m(mapped) \u001B[38;5;129;01mand\u001B[39;00m \u001B[38;5;28misinstance\u001B[39m(mapped[\u001B[38;5;241m0\u001B[39m], ABCSeries):\n\u001B[1;32m   1292\u001B[0m     \u001B[38;5;66;03m# GH#43986 Need to do list(mapped) in order to get treated as nested\u001B[39;00m\n\u001B[1;32m   1293\u001B[0m     \u001B[38;5;66;03m#  See also GH#25959 regarding EA support\u001B[39;00m\n\u001B[1;32m   1294\u001B[0m     \u001B[38;5;28;01mreturn\u001B[39;00m obj\u001B[38;5;241m.\u001B[39m_constructor_expanddim(\u001B[38;5;28mlist\u001B[39m(mapped), index\u001B[38;5;241m=\u001B[39mobj\u001B[38;5;241m.\u001B[39mindex)\n",
      "File \u001B[0;32m~/codeup-data-science/venv/lib/python3.11/site-packages/pandas/core/base.py:921\u001B[0m, in \u001B[0;36mIndexOpsMixin._map_values\u001B[0;34m(self, mapper, na_action, convert)\u001B[0m\n\u001B[1;32m    918\u001B[0m \u001B[38;5;28;01mif\u001B[39;00m \u001B[38;5;28misinstance\u001B[39m(arr, ExtensionArray):\n\u001B[1;32m    919\u001B[0m     \u001B[38;5;28;01mreturn\u001B[39;00m arr\u001B[38;5;241m.\u001B[39mmap(mapper, na_action\u001B[38;5;241m=\u001B[39mna_action)\n\u001B[0;32m--> 921\u001B[0m \u001B[38;5;28;01mreturn\u001B[39;00m \u001B[43malgorithms\u001B[49m\u001B[38;5;241;43m.\u001B[39;49m\u001B[43mmap_array\u001B[49m\u001B[43m(\u001B[49m\u001B[43marr\u001B[49m\u001B[43m,\u001B[49m\u001B[43m \u001B[49m\u001B[43mmapper\u001B[49m\u001B[43m,\u001B[49m\u001B[43m \u001B[49m\u001B[43mna_action\u001B[49m\u001B[38;5;241;43m=\u001B[39;49m\u001B[43mna_action\u001B[49m\u001B[43m,\u001B[49m\u001B[43m \u001B[49m\u001B[43mconvert\u001B[49m\u001B[38;5;241;43m=\u001B[39;49m\u001B[43mconvert\u001B[49m\u001B[43m)\u001B[49m\n",
      "File \u001B[0;32m~/codeup-data-science/venv/lib/python3.11/site-packages/pandas/core/algorithms.py:1814\u001B[0m, in \u001B[0;36mmap_array\u001B[0;34m(arr, mapper, na_action, convert)\u001B[0m\n\u001B[1;32m   1812\u001B[0m values \u001B[38;5;241m=\u001B[39m arr\u001B[38;5;241m.\u001B[39mastype(\u001B[38;5;28mobject\u001B[39m, copy\u001B[38;5;241m=\u001B[39m\u001B[38;5;28;01mFalse\u001B[39;00m)\n\u001B[1;32m   1813\u001B[0m \u001B[38;5;28;01mif\u001B[39;00m na_action \u001B[38;5;129;01mis\u001B[39;00m \u001B[38;5;28;01mNone\u001B[39;00m:\n\u001B[0;32m-> 1814\u001B[0m     \u001B[38;5;28;01mreturn\u001B[39;00m \u001B[43mlib\u001B[49m\u001B[38;5;241;43m.\u001B[39;49m\u001B[43mmap_infer\u001B[49m\u001B[43m(\u001B[49m\u001B[43mvalues\u001B[49m\u001B[43m,\u001B[49m\u001B[43m \u001B[49m\u001B[43mmapper\u001B[49m\u001B[43m,\u001B[49m\u001B[43m \u001B[49m\u001B[43mconvert\u001B[49m\u001B[38;5;241;43m=\u001B[39;49m\u001B[43mconvert\u001B[49m\u001B[43m)\u001B[49m\n\u001B[1;32m   1815\u001B[0m \u001B[38;5;28;01melse\u001B[39;00m:\n\u001B[1;32m   1816\u001B[0m     \u001B[38;5;28;01mreturn\u001B[39;00m lib\u001B[38;5;241m.\u001B[39mmap_infer_mask(\n\u001B[1;32m   1817\u001B[0m         values, mapper, mask\u001B[38;5;241m=\u001B[39misna(values)\u001B[38;5;241m.\u001B[39mview(np\u001B[38;5;241m.\u001B[39muint8), convert\u001B[38;5;241m=\u001B[39mconvert\n\u001B[1;32m   1818\u001B[0m     )\n",
      "File \u001B[0;32mlib.pyx:2920\u001B[0m, in \u001B[0;36mpandas._libs.lib.map_infer\u001B[0;34m()\u001B[0m\n",
      "Cell \u001B[0;32mIn[55], line 2\u001B[0m, in \u001B[0;36m<lambda>\u001B[0;34m(x)\u001B[0m\n\u001B[1;32m      1\u001B[0m \u001B[38;5;66;03m# turning churn into 1 and 0\u001B[39;00m\n\u001B[0;32m----> 2\u001B[0m train[\u001B[38;5;124m'\u001B[39m\u001B[38;5;124mchurn\u001B[39m\u001B[38;5;124m'\u001B[39m] \u001B[38;5;241m=\u001B[39m train[\u001B[38;5;124m'\u001B[39m\u001B[38;5;124mchurn\u001B[39m\u001B[38;5;124m'\u001B[39m]\u001B[38;5;241m.\u001B[39mapply(\u001B[38;5;28;01mlambda\u001B[39;00m x: \u001B[38;5;241m1\u001B[39m \u001B[38;5;28;01mif\u001B[39;00m \u001B[38;5;124;43m'\u001B[39;49m\u001B[38;5;124;43mYes\u001B[39;49m\u001B[38;5;124;43m'\u001B[39;49m\u001B[43m \u001B[49m\u001B[38;5;129;43;01min\u001B[39;49;00m\u001B[43m \u001B[49m\u001B[43mx\u001B[49m \u001B[38;5;28;01melse\u001B[39;00m \u001B[38;5;241m0\u001B[39m)\n",
      "\u001B[0;31mTypeError\u001B[0m: argument of type 'int' is not iterable"
     ]
    }
   ],
   "source": [
    "# turning churn into 1 and 0\n",
    "train['churn'] = train['churn'].apply(lambda x: 1 if 'Yes' in x else 0)"
   ],
   "metadata": {
    "collapsed": false,
    "ExecuteTime": {
     "end_time": "2023-12-04T16:49:25.587164Z",
     "start_time": "2023-12-04T16:49:25.538748Z"
    }
   },
   "id": "1601bdfda8e880fc"
  },
  {
   "cell_type": "code",
   "execution_count": 56,
   "outputs": [
    {
     "name": "stdout",
     "output_type": "stream",
     "text": [
      "senior_citizen         int64\n",
      "partner                int64\n",
      "dependents             int64\n",
      "tenure                 int64\n",
      "phone_service          int64\n",
      "multiple_lines         int64\n",
      "streaming_tv           int64\n",
      "streaming_movies       int64\n",
      "monthly_charges      float64\n",
      "total_charges        float64\n",
      "churn                  int64\n",
      "has_add_ons            int64\n",
      "has_internet           int64\n",
      "monthly_contract       int64\n",
      "automatic_payment      int64\n",
      "is_male                int64\n",
      "dtype: object\n"
     ]
    }
   ],
   "source": [
    "print(train.dtypes)"
   ],
   "metadata": {
    "collapsed": false,
    "ExecuteTime": {
     "end_time": "2023-12-04T16:49:25.740666Z",
     "start_time": "2023-12-04T16:49:25.700148Z"
    }
   },
   "id": "f536887e7fa873c4"
  },
  {
   "cell_type": "markdown",
   "source": [
    ">> finished off turning all binomials in encoding"
   ],
   "metadata": {
    "collapsed": false
   },
   "id": "3f96acfd8b6fa9a6"
  },
  {
   "cell_type": "code",
   "execution_count": 57,
   "outputs": [
    {
     "name": "stdout",
     "output_type": "stream",
     "text": [
      "<class 'pandas.core.frame.DataFrame'>\n",
      "Index: 7032 entries, 0 to 7042\n",
      "Data columns (total 20 columns):\n",
      " #   Column                 Non-Null Count  Dtype  \n",
      "---  ------                 --------------  -----  \n",
      " 0   gender                 7032 non-null   object \n",
      " 1   senior_citizen         7032 non-null   int64  \n",
      " 2   partner                7032 non-null   int64  \n",
      " 3   dependents             7032 non-null   int64  \n",
      " 4   tenure                 7032 non-null   int64  \n",
      " 5   phone_service          7032 non-null   int64  \n",
      " 6   multiple_lines         7032 non-null   int64  \n",
      " 7   streaming_tv           7032 non-null   int64  \n",
      " 8   streaming_movies       7032 non-null   int64  \n",
      " 9   monthly_charges        7032 non-null   float64\n",
      " 10  total_charges          7032 non-null   float64\n",
      " 11  churn                  7032 non-null   int64  \n",
      " 12  contract_type          7032 non-null   object \n",
      " 13  internet_service_type  7032 non-null   object \n",
      " 14  payment_type           7032 non-null   object \n",
      " 15  has_add_ons            7032 non-null   int64  \n",
      " 16  has_internet           7032 non-null   int64  \n",
      " 17  monthly_contract       7032 non-null   int64  \n",
      " 18  automatic_payment      7032 non-null   int64  \n",
      " 19  is_male                7032 non-null   int64  \n",
      "dtypes: float64(2), int64(14), object(4)\n",
      "memory usage: 1.1+ MB\n"
     ]
    }
   ],
   "source": [
    "df.info()"
   ],
   "metadata": {
    "collapsed": false,
    "ExecuteTime": {
     "end_time": "2023-12-04T16:49:26.035609Z",
     "start_time": "2023-12-04T16:49:26.015910Z"
    }
   },
   "id": "800e9c8570a860c7"
  },
  {
   "cell_type": "code",
   "execution_count": 58,
   "outputs": [],
   "source": [
    "obj_cols = df.columns[[df[col].dtype == 'O' for col in df.columns]]"
   ],
   "metadata": {
    "collapsed": false,
    "ExecuteTime": {
     "end_time": "2023-12-04T16:49:26.231732Z",
     "start_time": "2023-12-04T16:49:26.207615Z"
    }
   },
   "id": "5c290846ca6a8aab"
  },
  {
   "cell_type": "code",
   "execution_count": 59,
   "outputs": [
    {
     "data": {
      "text/plain": "Index(['gender', 'contract_type', 'internet_service_type', 'payment_type'], dtype='object')"
     },
     "execution_count": 59,
     "metadata": {},
     "output_type": "execute_result"
    }
   ],
   "source": [
    "obj_cols"
   ],
   "metadata": {
    "collapsed": false,
    "ExecuteTime": {
     "end_time": "2023-12-04T16:49:26.402504Z",
     "start_time": "2023-12-04T16:49:26.359994Z"
    }
   },
   "id": "184d448630aa2ead"
  },
  {
   "cell_type": "markdown",
   "source": [
    "# EXPLORE "
   ],
   "metadata": {
    "collapsed": false
   },
   "id": "80e9bdf8fcf0fe16"
  },
  {
   "cell_type": "code",
   "execution_count": 14,
   "outputs": [
    {
     "data": {
      "text/plain": "      senior_citizen  partner  dependents  tenure  phone_service  \\\n5671               1        0           0      54              1   \n6843               0        0           0       2              1   \n2325               0        1           1      71              1   \n6323               0        0           0       1              1   \n3081               1        1           0      12              1   \n\n      multiple_lines  streaming_tv  streaming_movies  monthly_charges  \\\n5671               0             0                 1            65.25   \n6843               0             0                 0            70.30   \n2325               0             1                 1           104.65   \n6323               0             0                 0            44.95   \n3081               0             1                 1            79.20   \n\n      total_charges  churn  has_add_ons  has_internet  monthly_contract  \\\n5671        3529.95      0            1             1                 0   \n6843         144.00      0            0             1                 1   \n2325        7288.40      0            1             1                 0   \n6323          44.95      0            0             1                 1   \n3081         943.85      0            1             1                 0   \n\n      automatic_payment  is_male  \n5671                  1        1  \n6843                  0        1  \n2325                  1        1  \n6323                  0        1  \n3081                  0        0  ",
      "text/html": "<div>\n<style scoped>\n    .dataframe tbody tr th:only-of-type {\n        vertical-align: middle;\n    }\n\n    .dataframe tbody tr th {\n        vertical-align: top;\n    }\n\n    .dataframe thead th {\n        text-align: right;\n    }\n</style>\n<table border=\"1\" class=\"dataframe\">\n  <thead>\n    <tr style=\"text-align: right;\">\n      <th></th>\n      <th>senior_citizen</th>\n      <th>partner</th>\n      <th>dependents</th>\n      <th>tenure</th>\n      <th>phone_service</th>\n      <th>multiple_lines</th>\n      <th>streaming_tv</th>\n      <th>streaming_movies</th>\n      <th>monthly_charges</th>\n      <th>total_charges</th>\n      <th>churn</th>\n      <th>has_add_ons</th>\n      <th>has_internet</th>\n      <th>monthly_contract</th>\n      <th>automatic_payment</th>\n      <th>is_male</th>\n    </tr>\n  </thead>\n  <tbody>\n    <tr>\n      <th>5671</th>\n      <td>1</td>\n      <td>0</td>\n      <td>0</td>\n      <td>54</td>\n      <td>1</td>\n      <td>0</td>\n      <td>0</td>\n      <td>1</td>\n      <td>65.25</td>\n      <td>3529.95</td>\n      <td>0</td>\n      <td>1</td>\n      <td>1</td>\n      <td>0</td>\n      <td>1</td>\n      <td>1</td>\n    </tr>\n    <tr>\n      <th>6843</th>\n      <td>0</td>\n      <td>0</td>\n      <td>0</td>\n      <td>2</td>\n      <td>1</td>\n      <td>0</td>\n      <td>0</td>\n      <td>0</td>\n      <td>70.30</td>\n      <td>144.00</td>\n      <td>0</td>\n      <td>0</td>\n      <td>1</td>\n      <td>1</td>\n      <td>0</td>\n      <td>1</td>\n    </tr>\n    <tr>\n      <th>2325</th>\n      <td>0</td>\n      <td>1</td>\n      <td>1</td>\n      <td>71</td>\n      <td>1</td>\n      <td>0</td>\n      <td>1</td>\n      <td>1</td>\n      <td>104.65</td>\n      <td>7288.40</td>\n      <td>0</td>\n      <td>1</td>\n      <td>1</td>\n      <td>0</td>\n      <td>1</td>\n      <td>1</td>\n    </tr>\n    <tr>\n      <th>6323</th>\n      <td>0</td>\n      <td>0</td>\n      <td>0</td>\n      <td>1</td>\n      <td>1</td>\n      <td>0</td>\n      <td>0</td>\n      <td>0</td>\n      <td>44.95</td>\n      <td>44.95</td>\n      <td>0</td>\n      <td>0</td>\n      <td>1</td>\n      <td>1</td>\n      <td>0</td>\n      <td>1</td>\n    </tr>\n    <tr>\n      <th>3081</th>\n      <td>1</td>\n      <td>1</td>\n      <td>0</td>\n      <td>12</td>\n      <td>1</td>\n      <td>0</td>\n      <td>1</td>\n      <td>1</td>\n      <td>79.20</td>\n      <td>943.85</td>\n      <td>0</td>\n      <td>1</td>\n      <td>1</td>\n      <td>0</td>\n      <td>0</td>\n      <td>0</td>\n    </tr>\n  </tbody>\n</table>\n</div>"
     },
     "execution_count": 14,
     "metadata": {},
     "output_type": "execute_result"
    }
   ],
   "source": [
    "train.head()"
   ],
   "metadata": {
    "collapsed": false,
    "ExecuteTime": {
     "end_time": "2023-12-04T18:09:57.303043Z",
     "start_time": "2023-12-04T18:09:57.212505Z"
    }
   },
   "id": "cdea5857ea7a0491"
  },
  {
   "cell_type": "code",
   "execution_count": 15,
   "outputs": [
    {
     "data": {
      "text/plain": "churn\n0    3098\n1    1121\nName: count, dtype: int64"
     },
     "execution_count": 15,
     "metadata": {},
     "output_type": "execute_result"
    }
   ],
   "source": [
    "train['churn'].value_counts()"
   ],
   "metadata": {
    "collapsed": false,
    "ExecuteTime": {
     "end_time": "2023-12-04T18:09:57.461817Z",
     "start_time": "2023-12-04T18:09:57.416479Z"
    }
   },
   "id": "21c2183be23c504c"
  },
  {
   "cell_type": "code",
   "execution_count": 16,
   "outputs": [
    {
     "data": {
      "text/plain": "(4219, 16)"
     },
     "execution_count": 16,
     "metadata": {},
     "output_type": "execute_result"
    }
   ],
   "source": [
    "train.shape"
   ],
   "metadata": {
    "collapsed": false,
    "ExecuteTime": {
     "end_time": "2023-12-04T18:09:57.954099Z",
     "start_time": "2023-12-04T18:09:57.734103Z"
    }
   },
   "id": "32a6bfc6ad5a69f8"
  },
  {
   "cell_type": "code",
   "execution_count": 17,
   "outputs": [
    {
     "data": {
      "text/plain": "(7032, 20)"
     },
     "execution_count": 17,
     "metadata": {},
     "output_type": "execute_result"
    }
   ],
   "source": [
    "df.shape"
   ],
   "metadata": {
    "collapsed": false,
    "ExecuteTime": {
     "end_time": "2023-12-04T18:09:58.241083Z",
     "start_time": "2023-12-04T18:09:58.149688Z"
    }
   },
   "id": "b58e89b77d743871"
  },
  {
   "cell_type": "code",
   "execution_count": 18,
   "outputs": [
    {
     "data": {
      "text/plain": "churn\n0    5163\n1    1869\nName: count, dtype: int64"
     },
     "execution_count": 18,
     "metadata": {},
     "output_type": "execute_result"
    }
   ],
   "source": [
    "df['churn'].value_counts()"
   ],
   "metadata": {
    "collapsed": false,
    "ExecuteTime": {
     "end_time": "2023-12-04T18:09:58.567187Z",
     "start_time": "2023-12-04T18:09:58.544277Z"
    }
   },
   "id": "a5df46d8720fb85a"
  },
  {
   "cell_type": "code",
   "execution_count": 19,
   "outputs": [
    {
     "name": "stdout",
     "output_type": "stream",
     "text": [
      "Column: tenure\n",
      "tenure\n",
      "1     613\n",
      "72    362\n",
      "2     238\n",
      "3     200\n",
      "4     176\n",
      "71    170\n",
      "5     133\n",
      "7     131\n",
      "8     123\n",
      "9     119\n",
      "70    119\n",
      "12    117\n",
      "10    116\n",
      "6     110\n",
      "13    109\n",
      "68    100\n",
      "11     99\n",
      "15     99\n",
      "67     98\n",
      "18     97\n",
      "69     95\n",
      "24     94\n",
      "22     90\n",
      "66     89\n",
      "35     88\n",
      "17     87\n",
      "23     85\n",
      "16     80\n",
      "56     80\n",
      "64     80\n",
      "52     80\n",
      "25     79\n",
      "26     79\n",
      "61     76\n",
      "65     76\n",
      "60     76\n",
      "14     76\n",
      "46     74\n",
      "19     73\n",
      "63     72\n",
      "29     72\n",
      "27     72\n",
      "30     72\n",
      "20     71\n",
      "62     70\n",
      "53     70\n",
      "41     70\n",
      "32     69\n",
      "51     68\n",
      "54     68\n",
      "50     68\n",
      "47     68\n",
      "58     67\n",
      "49     66\n",
      "31     65\n",
      "42     65\n",
      "57     65\n",
      "43     65\n",
      "37     65\n",
      "34     65\n",
      "33     64\n",
      "48     64\n",
      "55     64\n",
      "40     64\n",
      "21     63\n",
      "45     61\n",
      "59     60\n",
      "38     59\n",
      "28     57\n",
      "39     56\n",
      "44     51\n",
      "36     50\n",
      "Name: count, dtype: int64\n",
      "\n",
      "\n",
      "Column: monthly_charges\n",
      "monthly_charges\n",
      "20.05     61\n",
      "19.85     44\n",
      "19.95     44\n",
      "19.90     44\n",
      "19.65     43\n",
      "          ..\n",
      "47.60      1\n",
      "35.25      1\n",
      "115.85     1\n",
      "112.40     1\n",
      "67.85      1\n",
      "Name: count, Length: 1584, dtype: int64\n",
      "\n",
      "\n",
      "Column: total_charges\n",
      "total_charges\n",
      "20.20      11\n",
      "19.75       9\n",
      "19.90       8\n",
      "19.65       8\n",
      "20.05       8\n",
      "           ..\n",
      "2387.75     1\n",
      "6302.80     1\n",
      "2058.50     1\n",
      "829.55      1\n",
      "3707.60     1\n",
      "Name: count, Length: 6530, dtype: int64\n"
     ]
    }
   ],
   "source": [
    "for column in cont_var:\n",
    "    print(f\"Column: {column}\")\n",
    "    print(df[column].value_counts())\n",
    "    print(\"\\n\")"
   ],
   "metadata": {
    "collapsed": false,
    "ExecuteTime": {
     "end_time": "2023-12-04T18:09:59.147854Z",
     "start_time": "2023-12-04T18:09:59.124553Z"
    }
   },
   "id": "c1d4f4170795ab56"
  },
  {
   "cell_type": "code",
   "execution_count": 20,
   "outputs": [
    {
     "name": "stdout",
     "output_type": "stream",
     "text": [
      "Column: senior_citizen\n",
      "senior_citizen\n",
      "0    5890\n",
      "1    1142\n",
      "Name: count, dtype: int64\n",
      "\n",
      "\n",
      "Column: partner\n",
      "partner\n",
      "0    3639\n",
      "1    3393\n",
      "Name: count, dtype: int64\n",
      "\n",
      "\n",
      "Column: dependents\n",
      "dependents\n",
      "0    4933\n",
      "1    2099\n",
      "Name: count, dtype: int64\n",
      "\n",
      "\n",
      "Column: phone_service\n",
      "phone_service\n",
      "1    6352\n",
      "0     680\n",
      "Name: count, dtype: int64\n",
      "\n",
      "\n",
      "Column: multiple_lines\n",
      "multiple_lines\n",
      "0    4065\n",
      "1    2967\n",
      "Name: count, dtype: int64\n",
      "\n",
      "\n",
      "Column: streaming_tv\n",
      "streaming_tv\n",
      "0    4329\n",
      "1    2703\n",
      "Name: count, dtype: int64\n",
      "\n",
      "\n",
      "Column: streaming_movies\n",
      "streaming_movies\n",
      "0    4301\n",
      "1    2731\n",
      "Name: count, dtype: int64\n",
      "\n",
      "\n",
      "Column: churn\n",
      "churn\n",
      "0    5163\n",
      "1    1869\n",
      "Name: count, dtype: int64\n",
      "\n",
      "\n",
      "Column: has_add_ons\n",
      "has_add_ons\n",
      "1    4245\n",
      "0    2787\n",
      "Name: count, dtype: int64\n",
      "\n",
      "\n",
      "Column: has_internet\n",
      "has_internet\n",
      "1    5512\n",
      "0    1520\n",
      "Name: count, dtype: int64\n",
      "\n",
      "\n",
      "Column: monthly_contract\n",
      "monthly_contract\n",
      "1    3875\n",
      "0    3157\n",
      "Name: count, dtype: int64\n",
      "\n",
      "\n",
      "Column: automatic_payment\n",
      "automatic_payment\n",
      "0    3969\n",
      "1    3063\n",
      "Name: count, dtype: int64\n",
      "\n",
      "\n",
      "Column: is_male\n",
      "is_male\n",
      "1    3549\n",
      "0    3483\n",
      "Name: count, dtype: int64\n"
     ]
    }
   ],
   "source": [
    "for column in cat_var:\n",
    "    print(f\"Column: {column}\")\n",
    "    print(df[column].value_counts())\n",
    "    print(\"\\n\")"
   ],
   "metadata": {
    "collapsed": false,
    "ExecuteTime": {
     "end_time": "2023-12-04T18:09:59.847936Z",
     "start_time": "2023-12-04T18:09:59.792431Z"
    }
   },
   "id": "f2035d7d48722b26"
  },
  {
   "cell_type": "markdown",
   "source": [
    "# initual visuals"
   ],
   "metadata": {
    "collapsed": false
   },
   "id": "e39728d93d5169ed"
  },
  {
   "cell_type": "code",
   "execution_count": 21,
   "outputs": [
    {
     "data": {
      "text/plain": "<Figure size 300x300 with 1 Axes>",
      "image/png": "[encoded data removed]"
     },
     "metadata": {},
     "output_type": "display_data"
    },
    {
     "data": {
      "text/plain": "<Figure size 300x300 with 1 Axes>",
      "image/png": "[encoded data removed]"
     },
     "metadata": {},
     "output_type": "display_data"
    },
    {
     "data": {
      "text/plain": "<Figure size 300x300 with 1 Axes>",
      "image/png": "[encoded data removed]"
     },
     "metadata": {},
     "output_type": "display_data"
    }
   ],
   "source": [
    "# histogram for cont variables\n",
    "for x in cont_var:\n",
    "    plt.figure(figsize= (3, 3))\n",
    "    sns.histplot(train, x=x)\n",
    "    plt.title(f'histogram for {x}')"
   ],
   "metadata": {
    "collapsed": false,
    "ExecuteTime": {
     "end_time": "2023-12-04T18:10:01.830805Z",
     "start_time": "2023-12-04T18:10:01.364977Z"
    }
   },
   "id": "906a362c788f0ade"
  },
  {
   "cell_type": "code",
   "execution_count": 22,
   "outputs": [
    {
     "name": "stdout",
     "output_type": "stream",
     "text": [
      "senior_citizen\n",
      "senior_citizen\n",
      "0    5890\n",
      "1    1142\n",
      "Name: count, dtype: int64\n",
      "senior_citizen\n",
      "0    0.8376\n",
      "1    0.1624\n",
      "Name: proportion, dtype: float64\n"
     ]
    },
    {
     "data": {
      "text/plain": "<Figure size 640x480 with 1 Axes>",
      "image/png": "[encoded data removed]"
     },
     "metadata": {},
     "output_type": "display_data"
    },
    {
     "name": "stdout",
     "output_type": "stream",
     "text": [
      "\n",
      "partner\n",
      "partner\n",
      "0    3639\n",
      "1    3393\n",
      "Name: count, dtype: int64\n",
      "partner\n",
      "0    0.517491\n",
      "1    0.482509\n",
      "Name: proportion, dtype: float64\n"
     ]
    },
    {
     "data": {
      "text/plain": "<Figure size 640x480 with 1 Axes>",
      "image/png": "[encoded data removed]"
     },
     "metadata": {},
     "output_type": "display_data"
    },
    {
     "name": "stdout",
     "output_type": "stream",
     "text": [
      "\n",
      "dependents\n",
      "dependents\n",
      "0    4933\n",
      "1    2099\n",
      "Name: count, dtype: int64\n",
      "dependents\n",
      "0    0.701507\n",
      "1    0.298493\n",
      "Name: proportion, dtype: float64\n"
     ]
    },
    {
     "data": {
      "text/plain": "<Figure size 640x480 with 1 Axes>",
      "image/png": "[encoded data removed]"
     },
     "metadata": {},
     "output_type": "display_data"
    },
    {
     "name": "stdout",
     "output_type": "stream",
     "text": [
      "\n",
      "phone_service\n",
      "phone_service\n",
      "1    6352\n",
      "0     680\n",
      "Name: count, dtype: int64\n",
      "phone_service\n",
      "1    0.903299\n",
      "0    0.096701\n",
      "Name: proportion, dtype: float64\n"
     ]
    },
    {
     "data": {
      "text/plain": "<Figure size 640x480 with 1 Axes>",
      "image/png": "[encoded data removed]"
     },
     "metadata": {},
     "output_type": "display_data"
    },
    {
     "name": "stdout",
     "output_type": "stream",
     "text": [
      "\n",
      "multiple_lines\n",
      "multiple_lines\n",
      "0    4065\n",
      "1    2967\n",
      "Name: count, dtype: int64\n",
      "multiple_lines\n",
      "0    0.578072\n",
      "1    0.421928\n",
      "Name: proportion, dtype: float64\n"
     ]
    },
    {
     "data": {
      "text/plain": "<Figure size 640x480 with 1 Axes>",
      "image/png": "[encoded data removed]"
     },
     "metadata": {},
     "output_type": "display_data"
    },
    {
     "name": "stdout",
     "output_type": "stream",
     "text": [
      "\n",
      "streaming_tv\n",
      "streaming_tv\n",
      "0    4329\n",
      "1    2703\n",
      "Name: count, dtype: int64\n",
      "streaming_tv\n",
      "0    0.615614\n",
      "1    0.384386\n",
      "Name: proportion, dtype: float64\n"
     ]
    },
    {
     "data": {
      "text/plain": "<Figure size 640x480 with 1 Axes>",
      "image/png": "[encoded data removed]"
     },
     "metadata": {},
     "output_type": "display_data"
    },
    {
     "name": "stdout",
     "output_type": "stream",
     "text": [
      "\n",
      "streaming_movies\n",
      "streaming_movies\n",
      "0    4301\n",
      "1    2731\n",
      "Name: count, dtype: int64\n",
      "streaming_movies\n",
      "0    0.611633\n",
      "1    0.388367\n",
      "Name: proportion, dtype: float64\n"
     ]
    },
    {
     "data": {
      "text/plain": "<Figure size 640x480 with 1 Axes>",
      "image/png": "[encoded data removed]"
     },
     "metadata": {},
     "output_type": "display_data"
    },
    {
     "name": "stdout",
     "output_type": "stream",
     "text": [
      "\n",
      "churn\n",
      "churn\n",
      "0    5163\n",
      "1    1869\n",
      "Name: count, dtype: int64\n",
      "churn\n",
      "0    0.734215\n",
      "1    0.265785\n",
      "Name: proportion, dtype: float64\n"
     ]
    },
    {
     "data": {
      "text/plain": "<Figure size 640x480 with 1 Axes>",
      "image/png": "[encoded data removed]"
     },
     "metadata": {},
     "output_type": "display_data"
    },
    {
     "name": "stdout",
     "output_type": "stream",
     "text": [
      "\n",
      "has_add_ons\n",
      "has_add_ons\n",
      "1    4245\n",
      "0    2787\n",
      "Name: count, dtype: int64\n",
      "has_add_ons\n",
      "1    0.603669\n",
      "0    0.396331\n",
      "Name: proportion, dtype: float64\n"
     ]
    },
    {
     "data": {
      "text/plain": "<Figure size 640x480 with 1 Axes>",
      "image/png": "[encoded data removed]"
     },
     "metadata": {},
     "output_type": "display_data"
    },
    {
     "name": "stdout",
     "output_type": "stream",
     "text": [
      "\n",
      "has_internet\n",
      "has_internet\n",
      "1    5512\n",
      "0    1520\n",
      "Name: count, dtype: int64\n",
      "has_internet\n",
      "1    0.783845\n",
      "0    0.216155\n",
      "Name: proportion, dtype: float64\n"
     ]
    },
    {
     "data": {
      "text/plain": "<Figure size 640x480 with 1 Axes>",
      "image/png": "[encoded data removed]"
     },
     "metadata": {},
     "output_type": "display_data"
    },
    {
     "name": "stdout",
     "output_type": "stream",
     "text": [
      "\n",
      "monthly_contract\n",
      "monthly_contract\n",
      "1    3875\n",
      "0    3157\n",
      "Name: count, dtype: int64\n",
      "monthly_contract\n",
      "1    0.551052\n",
      "0    0.448948\n",
      "Name: proportion, dtype: float64\n"
     ]
    },
    {
     "data": {
      "text/plain": "<Figure size 640x480 with 1 Axes>",
      "image/png": "[encoded data removed]"
     },
     "metadata": {},
     "output_type": "display_data"
    },
    {
     "name": "stdout",
     "output_type": "stream",
     "text": [
      "\n",
      "automatic_payment\n",
      "automatic_payment\n",
      "0    3969\n",
      "1    3063\n",
      "Name: count, dtype: int64\n",
      "automatic_payment\n",
      "0    0.56442\n",
      "1    0.43558\n",
      "Name: proportion, dtype: float64\n"
     ]
    },
    {
     "data": {
      "text/plain": "<Figure size 640x480 with 1 Axes>",
      "image/png": "[encoded data removed]"
     },
     "metadata": {},
     "output_type": "display_data"
    },
    {
     "name": "stdout",
     "output_type": "stream",
     "text": [
      "\n",
      "is_male\n",
      "is_male\n",
      "1    3549\n",
      "0    3483\n",
      "Name: count, dtype: int64\n",
      "is_male\n",
      "1    0.504693\n",
      "0    0.495307\n",
      "Name: proportion, dtype: float64\n"
     ]
    },
    {
     "data": {
      "text/plain": "<Figure size 640x480 with 1 Axes>",
      "image/png": "[encoded data removed]"
     },
     "metadata": {},
     "output_type": "display_data"
    },
    {
     "name": "stdout",
     "output_type": "stream",
     "text": []
    }
   ],
   "source": [
    "# bar charts for cat variables\n",
    "for col in cat_var:\n",
    "    print(col)\n",
    "    print(df[col].value_counts())\n",
    "    print(df[col].value_counts(normalize=True))\n",
    "    sns.barplot(data=train, y='churn', x=col)\n",
    "    plt.show()\n",
    "    print()"
   ],
   "metadata": {
    "collapsed": false,
    "ExecuteTime": {
     "end_time": "2023-12-04T18:10:04.936056Z",
     "start_time": "2023-12-04T18:10:02.090346Z"
    }
   },
   "id": "857576abf5d414e3"
  },
  {
   "cell_type": "markdown",
   "source": [
    "# HYPOTHESIS "
   ],
   "metadata": {
    "collapsed": false
   },
   "id": "d5ae6a045fb7aeaf"
  },
  {
   "cell_type": "code",
   "execution_count": 23,
   "outputs": [
    {
     "name": "stdout",
     "output_type": "stream",
     "text": [
      " Does the customer column \"senior_citizen\" affect whether or not someone churn?\n",
      " Does the customer column \"partner\" affect whether or not someone churn?\n",
      " Does the customer column \"dependents\" affect whether or not someone churn?\n",
      " Does the customer column \"phone_service\" affect whether or not someone churn?\n",
      " Does the customer column \"multiple_lines\" affect whether or not someone churn?\n",
      " Does the customer column \"streaming_tv\" affect whether or not someone churn?\n",
      " Does the customer column \"streaming_movies\" affect whether or not someone churn?\n",
      " Does the customer column \"churn\" affect whether or not someone churn?\n",
      " Does the customer column \"has_add_ons\" affect whether or not someone churn?\n",
      " Does the customer column \"has_internet\" affect whether or not someone churn?\n",
      " Does the customer column \"monthly_contract\" affect whether or not someone churn?\n",
      " Does the customer column \"automatic_payment\" affect whether or not someone churn?\n",
      " Does the customer column \"is_male\" affect whether or not someone churn?\n"
     ]
    }
   ],
   "source": [
    "for x in cat_var:\n",
    "    print(f' Does the customer column \"{x}\" affect whether or not someone churn?')"
   ],
   "metadata": {
    "collapsed": false,
    "ExecuteTime": {
     "end_time": "2023-12-04T18:10:05.044726Z",
     "start_time": "2023-12-04T18:10:04.724194Z"
    }
   },
   "id": "79f6584014aa3234"
  },
  {
   "cell_type": "markdown",
   "source": [
    "## Does the customer column \"senior_citizen\" affect whether or not someone churn?"
   ],
   "metadata": {
    "collapsed": false
   },
   "id": "15037c21a76a7ca4"
  },
  {
   "cell_type": "code",
   "execution_count": 24,
   "outputs": [
    {
     "data": {
      "text/plain": "<Axes: xlabel='senior_citizen', ylabel='churn'>"
     },
     "execution_count": 24,
     "metadata": {},
     "output_type": "execute_result"
    },
    {
     "data": {
      "text/plain": "<Figure size 640x480 with 1 Axes>",
      "image/png": "[encoded data removed]"
     },
     "metadata": {},
     "output_type": "display_data"
    }
   ],
   "source": [
    "sns.barplot(data=train, y='churn', x='senior_citizen')"
   ],
   "metadata": {
    "collapsed": false,
    "ExecuteTime": {
     "end_time": "2023-12-04T18:10:07.060974Z",
     "start_time": "2023-12-04T18:10:06.867320Z"
    }
   },
   "id": "d5cc81b34a44909c"
  },
  {
   "cell_type": "markdown",
   "source": [
    "### we can see that if someone is a senior citizen there is a higher churn rate"
   ],
   "metadata": {
    "collapsed": false
   },
   "id": "a4bfd085586627fc"
  },
  {
   "cell_type": "markdown",
   "source": [
    "H0= there is NO relationship between senior citizen and churn\n",
    "Ha= there IS relationship between senior citizen and churn"
   ],
   "metadata": {
    "collapsed": false
   },
   "id": "73f0e61db139c1af"
  },
  {
   "cell_type": "code",
   "execution_count": 25,
   "outputs": [],
   "source": [
    "alpha = 0.05"
   ],
   "metadata": {
    "collapsed": false,
    "ExecuteTime": {
     "end_time": "2023-12-04T18:10:08.702177Z",
     "start_time": "2023-12-04T18:10:08.683647Z"
    }
   },
   "id": "405a036654652145"
  },
  {
   "cell_type": "code",
   "execution_count": 26,
   "outputs": [
    {
     "data": {
      "text/plain": "churn              0    1\nsenior_citizen           \n0               2708  835\n1                390  286",
      "text/html": "<div>\n<style scoped>\n    .dataframe tbody tr th:only-of-type {\n        vertical-align: middle;\n    }\n\n    .dataframe tbody tr th {\n        vertical-align: top;\n    }\n\n    .dataframe thead th {\n        text-align: right;\n    }\n</style>\n<table border=\"1\" class=\"dataframe\">\n  <thead>\n    <tr style=\"text-align: right;\">\n      <th>churn</th>\n      <th>0</th>\n      <th>1</th>\n    </tr>\n    <tr>\n      <th>senior_citizen</th>\n      <th></th>\n      <th></th>\n    </tr>\n  </thead>\n  <tbody>\n    <tr>\n      <th>0</th>\n      <td>2708</td>\n      <td>835</td>\n    </tr>\n    <tr>\n      <th>1</th>\n      <td>390</td>\n      <td>286</td>\n    </tr>\n  </tbody>\n</table>\n</div>"
     },
     "execution_count": 26,
     "metadata": {},
     "output_type": "execute_result"
    }
   ],
   "source": [
    "observed = pd.crosstab(train.senior_citizen, train.churn)\n",
    "observed"
   ],
   "metadata": {
    "collapsed": false,
    "ExecuteTime": {
     "end_time": "2023-12-04T18:10:09.092806Z",
     "start_time": "2023-12-04T18:10:09.057315Z"
    }
   },
   "id": "7efaaaa28b57b674"
  },
  {
   "cell_type": "code",
   "execution_count": 27,
   "outputs": [],
   "source": [
    "chi2, p, dof, expected = stats.chi2_contingency(observed)"
   ],
   "metadata": {
    "collapsed": false,
    "ExecuteTime": {
     "end_time": "2023-12-04T18:10:09.581815Z",
     "start_time": "2023-12-04T18:10:09.558415Z"
    }
   },
   "id": "54c9d0a294636f01"
  },
  {
   "cell_type": "code",
   "execution_count": 28,
   "outputs": [
    {
     "data": {
      "text/plain": "8.206605132251275e-24"
     },
     "execution_count": 28,
     "metadata": {},
     "output_type": "execute_result"
    }
   ],
   "source": [
    "p"
   ],
   "metadata": {
    "collapsed": false,
    "ExecuteTime": {
     "end_time": "2023-12-04T18:10:09.943009Z",
     "start_time": "2023-12-04T18:10:09.895769Z"
    }
   },
   "id": "e54f279c9bfca315"
  },
  {
   "cell_type": "code",
   "execution_count": 29,
   "outputs": [
    {
     "name": "stdout",
     "output_type": "stream",
     "text": [
      "reject the null hypothesis for\n"
     ]
    }
   ],
   "source": [
    "# check for each alpha:\n",
    "if p < alpha:\n",
    "    print(f'reject the null hypothesis for')\n",
    "\n",
    "else:\n",
    "    print(f'fail to reject the null hypothesis')\n"
   ],
   "metadata": {
    "collapsed": false,
    "ExecuteTime": {
     "end_time": "2023-12-04T18:10:10.495851Z",
     "start_time": "2023-12-04T18:10:10.271156Z"
    }
   },
   "id": "3bf4aa9055d8259f"
  },
  {
   "cell_type": "markdown",
   "source": [
    "My p-value is less than alpha, therefore, we reject the null hypothesis.\n",
    "\n",
    "we can conclude that there is a relationship between pclass and survived."
   ],
   "metadata": {
    "collapsed": false
   },
   "id": "5574c207a811c2fb"
  },
  {
   "cell_type": "markdown",
   "source": [
    "We confirmed there is a relationship between senior_citizen and churn."
   ],
   "metadata": {
    "collapsed": false
   },
   "id": "50bf1423f7236ccc"
  },
  {
   "cell_type": "markdown",
   "source": [
    "### Does the customer column \"automatic_payment\" affect whether or not someone churn?"
   ],
   "metadata": {
    "collapsed": false
   },
   "id": "47fca2ee6580aed0"
  },
  {
   "cell_type": "markdown",
   "source": [
    "H0= there is NO relationship between automatic_payment and churn \n",
    "Ha= there IS relationship between automatic_payment and churn"
   ],
   "metadata": {
    "collapsed": false
   },
   "id": "38057634241a1fd9"
  },
  {
   "cell_type": "code",
   "execution_count": 41,
   "outputs": [
    {
     "data": {
      "text/plain": "<Axes: xlabel='automatic_payment', ylabel='churn'>"
     },
     "execution_count": 41,
     "metadata": {},
     "output_type": "execute_result"
    },
    {
     "data": {
      "text/plain": "<Figure size 640x480 with 1 Axes>",
      "image/png": "[encoded data removed]"
     },
     "metadata": {},
     "output_type": "display_data"
    }
   ],
   "source": [
    "sns.barplot(data=train,y=train.churn, x=train.automatic_payment)"
   ],
   "metadata": {
    "collapsed": false,
    "ExecuteTime": {
     "end_time": "2023-12-04T18:54:21.201287Z",
     "start_time": "2023-12-04T18:54:20.646206Z"
    }
   },
   "id": "3bec62bf3ef99361"
  },
  {
   "cell_type": "code",
   "execution_count": 42,
   "outputs": [
    {
     "data": {
      "text/plain": "automatic_payment     0     1\nchurn                        \n0                  1543  1555\n1                   826   295",
      "text/html": "<div>\n<style scoped>\n    .dataframe tbody tr th:only-of-type {\n        vertical-align: middle;\n    }\n\n    .dataframe tbody tr th {\n        vertical-align: top;\n    }\n\n    .dataframe thead th {\n        text-align: right;\n    }\n</style>\n<table border=\"1\" class=\"dataframe\">\n  <thead>\n    <tr style=\"text-align: right;\">\n      <th>automatic_payment</th>\n      <th>0</th>\n      <th>1</th>\n    </tr>\n    <tr>\n      <th>churn</th>\n      <th></th>\n      <th></th>\n    </tr>\n  </thead>\n  <tbody>\n    <tr>\n      <th>0</th>\n      <td>1543</td>\n      <td>1555</td>\n    </tr>\n    <tr>\n      <th>1</th>\n      <td>826</td>\n      <td>295</td>\n    </tr>\n  </tbody>\n</table>\n</div>"
     },
     "execution_count": 42,
     "metadata": {},
     "output_type": "execute_result"
    }
   ],
   "source": [
    "observed = pd.crosstab(train.churn, train.automatic_payment)\n",
    "observed"
   ],
   "metadata": {
    "collapsed": false,
    "ExecuteTime": {
     "end_time": "2023-12-04T18:54:22.639318Z",
     "start_time": "2023-12-04T18:54:22.552164Z"
    }
   },
   "id": "7b7a739db29b6014"
  },
  {
   "cell_type": "code",
   "execution_count": 43,
   "outputs": [],
   "source": [
    "#chi2 returns 4 variables\n",
    "chi2, p, dof, expected = stats.chi2_contingency(observed)"
   ],
   "metadata": {
    "collapsed": false,
    "ExecuteTime": {
     "end_time": "2023-12-04T18:54:25.137585Z",
     "start_time": "2023-12-04T18:54:25.073599Z"
    }
   },
   "id": "8e0e5855ba58ff47"
  },
  {
   "cell_type": "code",
   "execution_count": 44,
   "outputs": [
    {
     "data": {
      "text/plain": "3.802293916720818e-43"
     },
     "execution_count": 44,
     "metadata": {},
     "output_type": "execute_result"
    }
   ],
   "source": [
    "p"
   ],
   "metadata": {
    "collapsed": false,
    "ExecuteTime": {
     "end_time": "2023-12-04T18:54:26.587926Z",
     "start_time": "2023-12-04T18:54:26.432547Z"
    }
   },
   "id": "fbe37e143327023c"
  },
  {
   "cell_type": "code",
   "execution_count": 45,
   "outputs": [
    {
     "name": "stdout",
     "output_type": "stream",
     "text": [
      "reject the null hypothesis for\n"
     ]
    }
   ],
   "source": [
    "# check for each alpha:\n",
    "if p < alpha:\n",
    "    print(f'reject the null hypothesis for')\n",
    "\n",
    "else:\n",
    "    print(f'fail to reject the null hypothesis')"
   ],
   "metadata": {
    "collapsed": false,
    "ExecuteTime": {
     "end_time": "2023-12-04T18:54:28.701154Z",
     "start_time": "2023-12-04T18:54:28.506181Z"
    }
   },
   "id": "2e770fa50a7d0d96"
  },
  {
   "cell_type": "markdown",
   "source": [
    "My p-value is less than alpha, therefore, we reject the null hypothesis.\n",
    "we can conclude that there is a relationship between automatic_payment and churn."
   ],
   "metadata": {
    "collapsed": false
   },
   "id": "7c1e5ef70c1c6823"
  },
  {
   "cell_type": "markdown",
   "source": [
    "### Does the customer column \"monthly_payment\" affect whether or not someone churn?"
   ],
   "metadata": {
    "collapsed": false
   },
   "id": "eaf2e09f6d6fdc32"
  },
  {
   "cell_type": "markdown",
   "source": [
    "H0= there is NO relationship between monthly_payment and churn \n",
    "Ha= there IS relationship between monthly_payment and churn"
   ],
   "metadata": {
    "collapsed": false
   },
   "id": "45b07daaad0c2dd4"
  },
  {
   "cell_type": "code",
   "execution_count": 47,
   "outputs": [
    {
     "data": {
      "text/plain": "<Axes: xlabel='monthly_contract', ylabel='churn'>"
     },
     "execution_count": 47,
     "metadata": {},
     "output_type": "execute_result"
    },
    {
     "data": {
      "text/plain": "<Figure size 640x480 with 1 Axes>",
      "image/png": "[encoded data removed]"
     },
     "metadata": {},
     "output_type": "display_data"
    }
   ],
   "source": [
    "sns.barplot(data=train,y=train.churn, x=train.monthly_contract)"
   ],
   "metadata": {
    "collapsed": false,
    "ExecuteTime": {
     "end_time": "2023-12-04T18:55:50.332556Z",
     "start_time": "2023-12-04T18:55:49.710133Z"
    }
   },
   "id": "a85525888f07e703"
  },
  {
   "cell_type": "code",
   "execution_count": 48,
   "outputs": [
    {
     "data": {
      "text/plain": "monthly_contract     0     1\nchurn                       \n0                 1755  1343\n1                  124   997",
      "text/html": "<div>\n<style scoped>\n    .dataframe tbody tr th:only-of-type {\n        vertical-align: middle;\n    }\n\n    .dataframe tbody tr th {\n        vertical-align: top;\n    }\n\n    .dataframe thead th {\n        text-align: right;\n    }\n</style>\n<table border=\"1\" class=\"dataframe\">\n  <thead>\n    <tr style=\"text-align: right;\">\n      <th>monthly_contract</th>\n      <th>0</th>\n      <th>1</th>\n    </tr>\n    <tr>\n      <th>churn</th>\n      <th></th>\n      <th></th>\n    </tr>\n  </thead>\n  <tbody>\n    <tr>\n      <th>0</th>\n      <td>1755</td>\n      <td>1343</td>\n    </tr>\n    <tr>\n      <th>1</th>\n      <td>124</td>\n      <td>997</td>\n    </tr>\n  </tbody>\n</table>\n</div>"
     },
     "execution_count": 48,
     "metadata": {},
     "output_type": "execute_result"
    }
   ],
   "source": [
    "observed = pd.crosstab(train.churn, train.monthly_contract)\n",
    "observed"
   ],
   "metadata": {
    "collapsed": false,
    "ExecuteTime": {
     "end_time": "2023-12-04T18:57:09.647549Z",
     "start_time": "2023-12-04T18:57:09.490455Z"
    }
   },
   "id": "927932cd2348bfab"
  },
  {
   "cell_type": "code",
   "execution_count": 49,
   "outputs": [],
   "source": [
    "chi2, p, dof, expected = stats.chi2_contingency(observed)"
   ],
   "metadata": {
    "collapsed": false,
    "ExecuteTime": {
     "end_time": "2023-12-04T18:57:22.848464Z",
     "start_time": "2023-12-04T18:57:22.744340Z"
    }
   },
   "id": "12c19d6d25fb83ad"
  },
  {
   "cell_type": "code",
   "execution_count": 50,
   "outputs": [
    {
     "name": "stdout",
     "output_type": "stream",
     "text": [
      "reject the null hypothesis for\n"
     ]
    }
   ],
   "source": [
    "# check for each alpha:\n",
    "if p < alpha:\n",
    "    print(f'reject the null hypothesis for')\n",
    "\n",
    "else:\n",
    "    print(f'fail to reject the null hypothesis')"
   ],
   "metadata": {
    "collapsed": false,
    "ExecuteTime": {
     "end_time": "2023-12-04T18:57:39.144897Z",
     "start_time": "2023-12-04T18:57:36.773045Z"
    }
   },
   "id": "71e010b13879bcaa"
  },
  {
   "cell_type": "markdown",
   "source": [
    "My p-value is less than alpha, therefore, we reject the null hypothesis.\n",
    "we can conclude that there is a relationship between monthly_contract and churn."
   ],
   "metadata": {
    "collapsed": false
   },
   "id": "a1ddb9f185a353f1"
  },
  {
   "cell_type": "markdown",
   "source": [
    "## Explore Conclusions"
   ],
   "metadata": {
    "collapsed": false
   },
   "id": "8ca0de6536bc2506"
  },
  {
   "cell_type": "markdown",
   "source": [
    "We saw there was a relationship between passenger senior_citizen, monthly_contract, automatic)payment and whether or not they churned.\n",
    "\n",
    "here are some ideas to possibly lower the churn rate. \n",
    "\n",
    "Senior Citizens:\n",
    ">Tailored Communication: Customize communication and support for senior citizens. This could include clearer, larger print on bills and correspondence, or a dedicated support line.\n",
    "    \n",
    "Monthly Contracts:\n",
    ">Incentivize Longer Contracts: Offer incentives for customers to switch from monthly to longer-term contracts, such as annual plans. These could be discounts, additional features, or loyalty rewards.\n",
    "    \n",
    "Automatic Payment Methods:\n",
    ">Promote Automatic Payments: Encourage customers to use automatic payment methods by offering discounts or additional benefits. Make sure the process of setting up automatic payments is simple and secure."
   ],
   "metadata": {
    "collapsed": false
   },
   "id": "c3d2f1f108927ec1"
  },
  {
   "cell_type": "markdown",
   "source": [
    "# MODEL"
   ],
   "metadata": {
    "collapsed": false
   },
   "id": "b2cfc0172e05e03d"
  },
  {
   "cell_type": "markdown",
   "source": [
    "### baseline"
   ],
   "metadata": {
    "collapsed": false
   },
   "id": "a1c586af4db95e62"
  },
  {
   "cell_type": "code",
   "execution_count": 20,
   "outputs": [
    {
     "data": {
      "text/plain": "0.7342972268310026"
     },
     "execution_count": 20,
     "metadata": {},
     "output_type": "execute_result"
    }
   ],
   "source": [
    "1 - train['churn'].mean() "
   ],
   "metadata": {
    "collapsed": false,
    "ExecuteTime": {
     "end_time": "2023-12-05T20:47:07.531117Z",
     "start_time": "2023-12-05T20:47:07.294301Z"
    }
   },
   "id": "a8a946a2dd58df70"
  },
  {
   "cell_type": "markdown",
   "source": [
    "our basleine accuracy is 73%"
   ],
   "metadata": {
    "collapsed": false
   },
   "id": "4be53140e311ae44"
  },
  {
   "cell_type": "markdown",
   "source": [
    "### decision tree`"
   ],
   "metadata": {
    "collapsed": false
   },
   "id": "e294a06d7c1374fb"
  },
  {
   "cell_type": "code",
   "execution_count": 21,
   "outputs": [],
   "source": [
    "# creating my x and y for models\n",
    "X_train, y_train = train.drop(columns='churn'), train.churn\n",
    "X_val, y_val = validate.drop(columns='churn'), validate.churn\n",
    "X_test, y_test = test.drop(columns='churn'), test.churn"
   ],
   "metadata": {
    "collapsed": false,
    "ExecuteTime": {
     "end_time": "2023-12-05T20:47:09.258278Z",
     "start_time": "2023-12-05T20:47:09.198569Z"
    }
   },
   "id": "1cf819c9bf63be14"
  },
  {
   "cell_type": "code",
   "execution_count": 22,
   "outputs": [],
   "source": [
    "# creating the model!\n",
    "\n",
    "clf = DecisionTreeClassifier(max_depth=3, min_samples_leaf=10)"
   ],
   "metadata": {
    "collapsed": false,
    "ExecuteTime": {
     "end_time": "2023-12-05T20:47:09.748615Z",
     "start_time": "2023-12-05T20:47:09.708646Z"
    }
   },
   "id": "48db6a4674b0f555"
  },
  {
   "cell_type": "code",
   "execution_count": 23,
   "outputs": [
    {
     "data": {
      "text/plain": "DecisionTreeClassifier(max_depth=3, min_samples_leaf=10)",
      "text/html": "<style>#sk-container-id-1 {color: black;}#sk-container-id-1 pre{padding: 0;}#sk-container-id-1 div.sk-toggleable {background-color: white;}#sk-container-id-1 label.sk-toggleable__label {cursor: pointer;display: block;width: 100%;margin-bottom: 0;padding: 0.3em;box-sizing: border-box;text-align: center;}#sk-container-id-1 label.sk-toggleable__label-arrow:before {content: \"▸\";float: left;margin-right: 0.25em;color: #696969;}#sk-container-id-1 label.sk-toggleable__label-arrow:hover:before {color: black;}#sk-container-id-1 div.sk-estimator:hover label.sk-toggleable__label-arrow:before {color: black;}#sk-container-id-1 div.sk-toggleable__content {max-height: 0;max-width: 0;overflow: hidden;text-align: left;background-color: #f0f8ff;}#sk-container-id-1 div.sk-toggleable__content pre {margin: 0.2em;color: black;border-radius: 0.25em;background-color: #f0f8ff;}#sk-container-id-1 input.sk-toggleable__control:checked~div.sk-toggleable__content {max-height: 200px;max-width: 100%;overflow: auto;}#sk-container-id-1 input.sk-toggleable__control:checked~label.sk-toggleable__label-arrow:before {content: \"▾\";}#sk-container-id-1 div.sk-estimator input.sk-toggleable__control:checked~label.sk-toggleable__label {background-color: #d4ebff;}#sk-container-id-1 div.sk-label input.sk-toggleable__control:checked~label.sk-toggleable__label {background-color: #d4ebff;}#sk-container-id-1 input.sk-hidden--visually {border: 0;clip: rect(1px 1px 1px 1px);clip: rect(1px, 1px, 1px, 1px);height: 1px;margin: -1px;overflow: hidden;padding: 0;position: absolute;width: 1px;}#sk-container-id-1 div.sk-estimator {font-family: monospace;background-color: #f0f8ff;border: 1px dotted black;border-radius: 0.25em;box-sizing: border-box;margin-bottom: 0.5em;}#sk-container-id-1 div.sk-estimator:hover {background-color: #d4ebff;}#sk-container-id-1 div.sk-parallel-item::after {content: \"\";width: 100%;border-bottom: 1px solid gray;flex-grow: 1;}#sk-container-id-1 div.sk-label:hover label.sk-toggleable__label {background-color: #d4ebff;}#sk-container-id-1 div.sk-serial::before {content: \"\";position: absolute;border-left: 1px solid gray;box-sizing: border-box;top: 0;bottom: 0;left: 50%;z-index: 0;}#sk-container-id-1 div.sk-serial {display: flex;flex-direction: column;align-items: center;background-color: white;padding-right: 0.2em;padding-left: 0.2em;position: relative;}#sk-container-id-1 div.sk-item {position: relative;z-index: 1;}#sk-container-id-1 div.sk-parallel {display: flex;align-items: stretch;justify-content: center;background-color: white;position: relative;}#sk-container-id-1 div.sk-item::before, #sk-container-id-1 div.sk-parallel-item::before {content: \"\";position: absolute;border-left: 1px solid gray;box-sizing: border-box;top: 0;bottom: 0;left: 50%;z-index: -1;}#sk-container-id-1 div.sk-parallel-item {display: flex;flex-direction: column;z-index: 1;position: relative;background-color: white;}#sk-container-id-1 div.sk-parallel-item:first-child::after {align-self: flex-end;width: 50%;}#sk-container-id-1 div.sk-parallel-item:last-child::after {align-self: flex-start;width: 50%;}#sk-container-id-1 div.sk-parallel-item:only-child::after {width: 0;}#sk-container-id-1 div.sk-dashed-wrapped {border: 1px dashed gray;margin: 0 0.4em 0.5em 0.4em;box-sizing: border-box;padding-bottom: 0.4em;background-color: white;}#sk-container-id-1 div.sk-label label {font-family: monospace;font-weight: bold;display: inline-block;line-height: 1.2em;}#sk-container-id-1 div.sk-label-container {text-align: center;}#sk-container-id-1 div.sk-container {/* jupyter's `normalize.less` sets `[hidden] { display: none; }` but bootstrap.min.css set `[hidden] { display: none !important; }` so we also need the `!important` here to be able to override the default hidden behavior on the sphinx rendered scikit-learn.org. See: https://github.com/scikit-learn/scikit-learn/issues/21755 */display: inline-block !important;position: relative;}#sk-container-id-1 div.sk-text-repr-fallback {display: none;}</style><div id=\"sk-container-id-1\" class=\"sk-top-container\"><div class=\"sk-text-repr-fallback\"><pre>DecisionTreeClassifier(max_depth=3, min_samples_leaf=10)</pre><b>In a Jupyter environment, please rerun this cell to show the HTML representation or trust the notebook. <br />On GitHub, the HTML representation is unable to render, please try loading this page with nbviewer.org.</b></div><div class=\"sk-container\" hidden><div class=\"sk-item\"><div class=\"sk-estimator sk-toggleable\"><input class=\"sk-toggleable__control sk-hidden--visually\" id=\"sk-estimator-id-1\" type=\"checkbox\" checked><label for=\"sk-estimator-id-1\" class=\"sk-toggleable__label sk-toggleable__label-arrow\">DecisionTreeClassifier</label><div class=\"sk-toggleable__content\"><pre>DecisionTreeClassifier(max_depth=3, min_samples_leaf=10)</pre></div></div></div></div></div>"
     },
     "execution_count": 23,
     "metadata": {},
     "output_type": "execute_result"
    }
   ],
   "source": [
    "# create the model\n",
    "clf\n"
   ],
   "metadata": {
    "collapsed": false,
    "ExecuteTime": {
     "end_time": "2023-12-05T20:47:11.774180Z",
     "start_time": "2023-12-05T20:47:11.685599Z"
    }
   },
   "id": "39b18c9fa93f301"
  },
  {
   "cell_type": "code",
   "execution_count": 24,
   "outputs": [
    {
     "data": {
      "text/plain": "DecisionTreeClassifier(max_depth=3, min_samples_leaf=10)",
      "text/html": "<style>#sk-container-id-2 {color: black;}#sk-container-id-2 pre{padding: 0;}#sk-container-id-2 div.sk-toggleable {background-color: white;}#sk-container-id-2 label.sk-toggleable__label {cursor: pointer;display: block;width: 100%;margin-bottom: 0;padding: 0.3em;box-sizing: border-box;text-align: center;}#sk-container-id-2 label.sk-toggleable__label-arrow:before {content: \"▸\";float: left;margin-right: 0.25em;color: #696969;}#sk-container-id-2 label.sk-toggleable__label-arrow:hover:before {color: black;}#sk-container-id-2 div.sk-estimator:hover label.sk-toggleable__label-arrow:before {color: black;}#sk-container-id-2 div.sk-toggleable__content {max-height: 0;max-width: 0;overflow: hidden;text-align: left;background-color: #f0f8ff;}#sk-container-id-2 div.sk-toggleable__content pre {margin: 0.2em;color: black;border-radius: 0.25em;background-color: #f0f8ff;}#sk-container-id-2 input.sk-toggleable__control:checked~div.sk-toggleable__content {max-height: 200px;max-width: 100%;overflow: auto;}#sk-container-id-2 input.sk-toggleable__control:checked~label.sk-toggleable__label-arrow:before {content: \"▾\";}#sk-container-id-2 div.sk-estimator input.sk-toggleable__control:checked~label.sk-toggleable__label {background-color: #d4ebff;}#sk-container-id-2 div.sk-label input.sk-toggleable__control:checked~label.sk-toggleable__label {background-color: #d4ebff;}#sk-container-id-2 input.sk-hidden--visually {border: 0;clip: rect(1px 1px 1px 1px);clip: rect(1px, 1px, 1px, 1px);height: 1px;margin: -1px;overflow: hidden;padding: 0;position: absolute;width: 1px;}#sk-container-id-2 div.sk-estimator {font-family: monospace;background-color: #f0f8ff;border: 1px dotted black;border-radius: 0.25em;box-sizing: border-box;margin-bottom: 0.5em;}#sk-container-id-2 div.sk-estimator:hover {background-color: #d4ebff;}#sk-container-id-2 div.sk-parallel-item::after {content: \"\";width: 100%;border-bottom: 1px solid gray;flex-grow: 1;}#sk-container-id-2 div.sk-label:hover label.sk-toggleable__label {background-color: #d4ebff;}#sk-container-id-2 div.sk-serial::before {content: \"\";position: absolute;border-left: 1px solid gray;box-sizing: border-box;top: 0;bottom: 0;left: 50%;z-index: 0;}#sk-container-id-2 div.sk-serial {display: flex;flex-direction: column;align-items: center;background-color: white;padding-right: 0.2em;padding-left: 0.2em;position: relative;}#sk-container-id-2 div.sk-item {position: relative;z-index: 1;}#sk-container-id-2 div.sk-parallel {display: flex;align-items: stretch;justify-content: center;background-color: white;position: relative;}#sk-container-id-2 div.sk-item::before, #sk-container-id-2 div.sk-parallel-item::before {content: \"\";position: absolute;border-left: 1px solid gray;box-sizing: border-box;top: 0;bottom: 0;left: 50%;z-index: -1;}#sk-container-id-2 div.sk-parallel-item {display: flex;flex-direction: column;z-index: 1;position: relative;background-color: white;}#sk-container-id-2 div.sk-parallel-item:first-child::after {align-self: flex-end;width: 50%;}#sk-container-id-2 div.sk-parallel-item:last-child::after {align-self: flex-start;width: 50%;}#sk-container-id-2 div.sk-parallel-item:only-child::after {width: 0;}#sk-container-id-2 div.sk-dashed-wrapped {border: 1px dashed gray;margin: 0 0.4em 0.5em 0.4em;box-sizing: border-box;padding-bottom: 0.4em;background-color: white;}#sk-container-id-2 div.sk-label label {font-family: monospace;font-weight: bold;display: inline-block;line-height: 1.2em;}#sk-container-id-2 div.sk-label-container {text-align: center;}#sk-container-id-2 div.sk-container {/* jupyter's `normalize.less` sets `[hidden] { display: none; }` but bootstrap.min.css set `[hidden] { display: none !important; }` so we also need the `!important` here to be able to override the default hidden behavior on the sphinx rendered scikit-learn.org. See: https://github.com/scikit-learn/scikit-learn/issues/21755 */display: inline-block !important;position: relative;}#sk-container-id-2 div.sk-text-repr-fallback {display: none;}</style><div id=\"sk-container-id-2\" class=\"sk-top-container\"><div class=\"sk-text-repr-fallback\"><pre>DecisionTreeClassifier(max_depth=3, min_samples_leaf=10)</pre><b>In a Jupyter environment, please rerun this cell to show the HTML representation or trust the notebook. <br />On GitHub, the HTML representation is unable to render, please try loading this page with nbviewer.org.</b></div><div class=\"sk-container\" hidden><div class=\"sk-item\"><div class=\"sk-estimator sk-toggleable\"><input class=\"sk-toggleable__control sk-hidden--visually\" id=\"sk-estimator-id-2\" type=\"checkbox\" checked><label for=\"sk-estimator-id-2\" class=\"sk-toggleable__label sk-toggleable__label-arrow\">DecisionTreeClassifier</label><div class=\"sk-toggleable__content\"><pre>DecisionTreeClassifier(max_depth=3, min_samples_leaf=10)</pre></div></div></div></div></div>"
     },
     "execution_count": 24,
     "metadata": {},
     "output_type": "execute_result"
    }
   ],
   "source": [
    "# fit the model\n",
    "clf.fit(X_train,y_train)"
   ],
   "metadata": {
    "collapsed": false,
    "ExecuteTime": {
     "end_time": "2023-12-05T20:47:12.456531Z",
     "start_time": "2023-12-05T20:47:12.382783Z"
    }
   },
   "id": "477f063019622cd5"
  },
  {
   "cell_type": "code",
   "execution_count": 25,
   "outputs": [
    {
     "data": {
      "text/plain": "array([0, 1, 0, 0, 0, 0, 0, 0, 0, 0])"
     },
     "execution_count": 25,
     "metadata": {},
     "output_type": "execute_result"
    }
   ],
   "source": [
    "# use the model\n",
    "clf.predict(X_train)[:10]"
   ],
   "metadata": {
    "collapsed": false,
    "ExecuteTime": {
     "end_time": "2023-12-05T20:47:12.897541Z",
     "start_time": "2023-12-05T20:47:12.862944Z"
    }
   },
   "id": "65741d0e592d0e3d"
  },
  {
   "cell_type": "code",
   "execution_count": 26,
   "outputs": [
    {
     "data": {
      "text/plain": "array([0, 1, 0, 0, 0, 0, 0, 0, 0, 0])"
     },
     "execution_count": 26,
     "metadata": {},
     "output_type": "execute_result"
    }
   ],
   "source": [
    "#store my predicted values\n",
    "y_pred = clf.predict(X_train)\n",
    "y_pred[:10]"
   ],
   "metadata": {
    "collapsed": false,
    "ExecuteTime": {
     "end_time": "2023-12-05T20:47:13.719078Z",
     "start_time": "2023-12-05T20:47:13.452663Z"
    }
   },
   "id": "957da917dd8929dd"
  },
  {
   "cell_type": "code",
   "execution_count": 27,
   "outputs": [
    {
     "ename": "AttributeError",
     "evalue": "'numpy.ndarray' object has no attribute 'y_true'",
     "output_type": "error",
     "traceback": [
      "\u001B[0;31m---------------------------------------------------------------------------\u001B[0m",
      "\u001B[0;31mAttributeError\u001B[0m                            Traceback (most recent call last)",
      "Cell \u001B[0;32mIn[27], line 2\u001B[0m\n\u001B[1;32m      1\u001B[0m \u001B[38;5;66;03m# accuracy_score\u001B[39;00m\n\u001B[0;32m----> 2\u001B[0m accuracy_score(\u001B[43my_pred\u001B[49m\u001B[38;5;241;43m.\u001B[39;49m\u001B[43my_true\u001B[49m, y_pred\u001B[38;5;241m.\u001B[39mdt_one)\n",
      "\u001B[0;31mAttributeError\u001B[0m: 'numpy.ndarray' object has no attribute 'y_true'"
     ]
    }
   ],
   "source": [
    "# accuracy_score\n",
    "accuracy_score(y_pred.y_true, y_pred.dt_one)"
   ],
   "metadata": {
    "collapsed": false,
    "ExecuteTime": {
     "end_time": "2023-12-05T20:47:14.123761Z",
     "start_time": "2023-12-05T20:47:14.114310Z"
    }
   },
   "id": "a97490d1a89af4d9"
  },
  {
   "cell_type": "code",
   "execution_count": 27,
   "outputs": [],
   "source": [],
   "metadata": {
    "collapsed": false,
    "ExecuteTime": {
     "end_time": "2023-12-05T20:47:14.354169Z",
     "start_time": "2023-12-05T20:47:14.315101Z"
    }
   },
   "id": "d362002cc84e2753"
  },
  {
   "cell_type": "markdown",
   "source": [
    "our first model has a 79% accuracy compared to our baseline which was 73%"
   ],
   "metadata": {
    "collapsed": false
   },
   "id": "b5a2be0ab649a2c7"
  },
  {
   "cell_type": "markdown",
   "source": [
    "### evaluate the model"
   ],
   "metadata": {
    "collapsed": false
   },
   "id": "3570c9c90ffc4f8"
  },
  {
   "cell_type": "code",
   "execution_count": 67,
   "outputs": [
    {
     "name": "stdout",
     "output_type": "stream",
     "text": [
      "Classification Metrics:\n",
      "Accuracy: 0.79\n",
      "True Positive Rate: 0.36\n",
      "False Positive Rate: 0.06\n",
      "True Negative Rate: 0.94\n",
      "False Negative Rate: 0.64\n",
      "Precision: 0.70\n",
      "Recall: 0.36\n",
      "F1 Score: 0.48\n",
      "\n",
      "Classification Report:\n",
      "              precision    recall  f1-score   support\n",
      "\n",
      "           0       0.80      0.94      0.87      3098\n",
      "           1       0.70      0.36      0.48      1121\n",
      "\n",
      "    accuracy                           0.79      4219\n",
      "   macro avg       0.75      0.65      0.67      4219\n",
      "weighted avg       0.78      0.79      0.76      4219\n"
     ]
    }
   ],
   "source": [
    "cf.print_classification_metrics(y_train, y_pred)"
   ],
   "metadata": {
    "collapsed": false,
    "ExecuteTime": {
     "end_time": "2023-12-05T03:13:10.948657Z",
     "start_time": "2023-12-05T03:13:10.843425Z"
    }
   },
   "id": "c98e2527825a8d23"
  },
  {
   "cell_type": "code",
   "execution_count": 77,
   "outputs": [
    {
     "name": "stdout",
     "output_type": "stream",
     "text": [
      "with a max depth of 1, the accuracy is 0.73\n",
      "with a max depth of 2, the accuracy is 0.76\n",
      "with a max depth of 3, the accuracy is 0.79\n",
      "with a max depth of 4, the accuracy is 0.79\n",
      "with a max depth of 5, the accuracy is 0.8\n",
      "with a max depth of 6, the accuracy is 0.81\n",
      "with a max depth of 7, the accuracy is 0.82\n",
      "with a max depth of 8, the accuracy is 0.84\n",
      "with a max depth of 9, the accuracy is 0.85\n",
      "with a max depth of 10, the accuracy is 0.88\n",
      "with a max depth of 11, the accuracy is 0.9\n",
      "with a max depth of 12, the accuracy is 0.92\n",
      "with a max depth of 13, the accuracy is 0.93\n",
      "with a max depth of 14, the accuracy is 0.95\n",
      "with a max depth of 15, the accuracy is 0.96\n",
      "with a max depth of 16, the accuracy is 0.97\n",
      "with a max depth of 17, the accuracy is 0.98\n",
      "with a max depth of 18, the accuracy is 0.98\n",
      "with a max depth of 19, the accuracy is 0.99\n",
      "with a max depth of 20, the accuracy is 0.99\n"
     ]
    }
   ],
   "source": [
    "for x in range(1,21):\n",
    "    #create the object\n",
    "    tree = DecisionTreeClassifier(max_depth=x)\n",
    "    \n",
    "    #fit the object\n",
    "    tree.fit(X_train, y_train) #fit only on TRAIN DATA!\n",
    "    \n",
    "    #calculate the accuracy\n",
    "    acc = tree.score(X_train, y_train)\n",
    "    \n",
    "    print(f'with a max depth of {x}, the accuracy is {round(acc,2)}')"
   ],
   "metadata": {
    "collapsed": false,
    "ExecuteTime": {
     "end_time": "2023-12-05T03:24:47.028937Z",
     "start_time": "2023-12-05T03:24:46.625370Z"
    }
   },
   "id": "efaa57afe59d0d7c"
  },
  {
   "cell_type": "code",
   "execution_count": 42,
   "outputs": [
    {
     "name": "stdout",
     "output_type": "stream",
     "text": [
      "max depth of 1, the accuracy train = 0.73, val = 0.73\n",
      "max depth of 2, the accuracy train = 0.76, val = 0.75\n",
      "max depth of 3, the accuracy train = 0.79, val = 0.79\n",
      "max depth of 4, the accuracy train = 0.79, val = 0.8\n",
      "max depth of 5, the accuracy train = 0.8, val = 0.8\n",
      "max depth of 6, the accuracy train = 0.81, val = 0.79\n",
      "max depth of 7, the accuracy train = 0.82, val = 0.79\n",
      "max depth of 8, the accuracy train = 0.83, val = 0.77\n",
      "max depth of 9, the accuracy train = 0.85, val = 0.76\n",
      "max depth of 10, the accuracy train = 0.87, val = 0.76\n",
      "max depth of 11, the accuracy train = 0.89, val = 0.75\n",
      "max depth of 12, the accuracy train = 0.91, val = 0.74\n",
      "max depth of 13, the accuracy train = 0.93, val = 0.74\n"
     ]
    }
   ],
   "source": [
    "for x in range(1,14):\n",
    "    #create the object\n",
    "    tree = DecisionTreeClassifier(max_depth=x)\n",
    "    \n",
    "    #fit the object\n",
    "    tree.fit(X_train, y_train) \n",
    "    \n",
    "    #calculate the accuracy for train\n",
    "    acc = tree.score(X_train, y_train)\n",
    "    \n",
    "    #calculate the accuracy for validate\n",
    "    acc_v = tree.score(X_val, y_val)\n",
    "    \n",
    "    print(f'max depth of {x}, the accuracy train = {round(acc,2)}, val = {round(acc_v,2)}')"
   ],
   "metadata": {
    "collapsed": false,
    "ExecuteTime": {
     "end_time": "2023-12-05T20:54:18.295460Z",
     "start_time": "2023-12-05T20:54:17.957917Z"
    }
   },
   "id": "5cc8482e971d94d1"
  },
  {
   "cell_type": "markdown",
   "source": [
    "### max depth of 5 is the best fit for this data"
   ],
   "metadata": {
    "collapsed": false
   },
   "id": "9dfce3cbdb22a69c"
  },
  {
   "cell_type": "markdown",
   "source": [],
   "metadata": {
    "collapsed": false
   },
   "id": "d89c1ba54ceaa9e4"
  },
  {
   "cell_type": "code",
   "execution_count": null,
   "outputs": [],
   "source": [],
   "metadata": {
    "collapsed": false
   },
   "id": "e3fda62c1b7fe1f8"
  },
  {
   "cell_type": "markdown",
   "source": [
    "### random forrest"
   ],
   "metadata": {
    "collapsed": false
   },
   "id": "34c76238b7819455"
  },
  {
   "cell_type": "code",
   "execution_count": 81,
   "outputs": [],
   "source": [
    "# creating the random forrest module\n",
    "rf = RandomForestClassifier(max_depth=10)"
   ],
   "metadata": {
    "collapsed": false,
    "ExecuteTime": {
     "end_time": "2023-12-05T03:27:45.686150Z",
     "start_time": "2023-12-05T03:27:44.694269Z"
    }
   },
   "id": "31c7684b3d03c7de"
  },
  {
   "cell_type": "code",
   "execution_count": 83,
   "outputs": [
    {
     "data": {
      "text/plain": "RandomForestClassifier(max_depth=10)",
      "text/html": "<style>#sk-container-id-9 {color: black;}#sk-container-id-9 pre{padding: 0;}#sk-container-id-9 div.sk-toggleable {background-color: white;}#sk-container-id-9 label.sk-toggleable__label {cursor: pointer;display: block;width: 100%;margin-bottom: 0;padding: 0.3em;box-sizing: border-box;text-align: center;}#sk-container-id-9 label.sk-toggleable__label-arrow:before {content: \"▸\";float: left;margin-right: 0.25em;color: #696969;}#sk-container-id-9 label.sk-toggleable__label-arrow:hover:before {color: black;}#sk-container-id-9 div.sk-estimator:hover label.sk-toggleable__label-arrow:before {color: black;}#sk-container-id-9 div.sk-toggleable__content {max-height: 0;max-width: 0;overflow: hidden;text-align: left;background-color: #f0f8ff;}#sk-container-id-9 div.sk-toggleable__content pre {margin: 0.2em;color: black;border-radius: 0.25em;background-color: #f0f8ff;}#sk-container-id-9 input.sk-toggleable__control:checked~div.sk-toggleable__content {max-height: 200px;max-width: 100%;overflow: auto;}#sk-container-id-9 input.sk-toggleable__control:checked~label.sk-toggleable__label-arrow:before {content: \"▾\";}#sk-container-id-9 div.sk-estimator input.sk-toggleable__control:checked~label.sk-toggleable__label {background-color: #d4ebff;}#sk-container-id-9 div.sk-label input.sk-toggleable__control:checked~label.sk-toggleable__label {background-color: #d4ebff;}#sk-container-id-9 input.sk-hidden--visually {border: 0;clip: rect(1px 1px 1px 1px);clip: rect(1px, 1px, 1px, 1px);height: 1px;margin: -1px;overflow: hidden;padding: 0;position: absolute;width: 1px;}#sk-container-id-9 div.sk-estimator {font-family: monospace;background-color: #f0f8ff;border: 1px dotted black;border-radius: 0.25em;box-sizing: border-box;margin-bottom: 0.5em;}#sk-container-id-9 div.sk-estimator:hover {background-color: #d4ebff;}#sk-container-id-9 div.sk-parallel-item::after {content: \"\";width: 100%;border-bottom: 1px solid gray;flex-grow: 1;}#sk-container-id-9 div.sk-label:hover label.sk-toggleable__label {background-color: #d4ebff;}#sk-container-id-9 div.sk-serial::before {content: \"\";position: absolute;border-left: 1px solid gray;box-sizing: border-box;top: 0;bottom: 0;left: 50%;z-index: 0;}#sk-container-id-9 div.sk-serial {display: flex;flex-direction: column;align-items: center;background-color: white;padding-right: 0.2em;padding-left: 0.2em;position: relative;}#sk-container-id-9 div.sk-item {position: relative;z-index: 1;}#sk-container-id-9 div.sk-parallel {display: flex;align-items: stretch;justify-content: center;background-color: white;position: relative;}#sk-container-id-9 div.sk-item::before, #sk-container-id-9 div.sk-parallel-item::before {content: \"\";position: absolute;border-left: 1px solid gray;box-sizing: border-box;top: 0;bottom: 0;left: 50%;z-index: -1;}#sk-container-id-9 div.sk-parallel-item {display: flex;flex-direction: column;z-index: 1;position: relative;background-color: white;}#sk-container-id-9 div.sk-parallel-item:first-child::after {align-self: flex-end;width: 50%;}#sk-container-id-9 div.sk-parallel-item:last-child::after {align-self: flex-start;width: 50%;}#sk-container-id-9 div.sk-parallel-item:only-child::after {width: 0;}#sk-container-id-9 div.sk-dashed-wrapped {border: 1px dashed gray;margin: 0 0.4em 0.5em 0.4em;box-sizing: border-box;padding-bottom: 0.4em;background-color: white;}#sk-container-id-9 div.sk-label label {font-family: monospace;font-weight: bold;display: inline-block;line-height: 1.2em;}#sk-container-id-9 div.sk-label-container {text-align: center;}#sk-container-id-9 div.sk-container {/* jupyter's `normalize.less` sets `[hidden] { display: none; }` but bootstrap.min.css set `[hidden] { display: none !important; }` so we also need the `!important` here to be able to override the default hidden behavior on the sphinx rendered scikit-learn.org. See: https://github.com/scikit-learn/scikit-learn/issues/21755 */display: inline-block !important;position: relative;}#sk-container-id-9 div.sk-text-repr-fallback {display: none;}</style><div id=\"sk-container-id-9\" class=\"sk-top-container\"><div class=\"sk-text-repr-fallback\"><pre>RandomForestClassifier(max_depth=10)</pre><b>In a Jupyter environment, please rerun this cell to show the HTML representation or trust the notebook. <br />On GitHub, the HTML representation is unable to render, please try loading this page with nbviewer.org.</b></div><div class=\"sk-container\" hidden><div class=\"sk-item\"><div class=\"sk-estimator sk-toggleable\"><input class=\"sk-toggleable__control sk-hidden--visually\" id=\"sk-estimator-id-9\" type=\"checkbox\" checked><label for=\"sk-estimator-id-9\" class=\"sk-toggleable__label sk-toggleable__label-arrow\">RandomForestClassifier</label><div class=\"sk-toggleable__content\"><pre>RandomForestClassifier(max_depth=10)</pre></div></div></div></div></div>"
     },
     "execution_count": 83,
     "metadata": {},
     "output_type": "execute_result"
    }
   ],
   "source": [
    "# fitting the module\n",
    "rf.fit(X_train, y_train)"
   ],
   "metadata": {
    "collapsed": false,
    "ExecuteTime": {
     "end_time": "2023-12-05T03:29:22.959447Z",
     "start_time": "2023-12-05T03:29:22.687051Z"
    }
   },
   "id": "b4ac2fa35541d2ed"
  },
  {
   "cell_type": "code",
   "execution_count": 84,
   "outputs": [
    {
     "data": {
      "text/plain": "array([0, 1, 0, 1, 0, 0, 0, 0, 0, 0])"
     },
     "execution_count": 84,
     "metadata": {},
     "output_type": "execute_result"
    }
   ],
   "source": [
    "# using the random forrest\n",
    "y_pred = rf.predict(X_train)\n",
    "y_pred[:10]"
   ],
   "metadata": {
    "collapsed": false,
    "ExecuteTime": {
     "end_time": "2023-12-05T03:30:39.846531Z",
     "start_time": "2023-12-05T03:30:39.717423Z"
    }
   },
   "id": "8b4ea1b46a1c348c"
  },
  {
   "cell_type": "markdown",
   "source": [
    "### evaluate the model"
   ],
   "metadata": {
    "collapsed": false
   },
   "id": "43803a2fa0086cc4"
  },
  {
   "cell_type": "code",
   "execution_count": 85,
   "outputs": [
    {
     "data": {
      "text/plain": "col_0     0    1\nchurn           \n0      2988  110\n1       355  766",
      "text/html": "<div>\n<style scoped>\n    .dataframe tbody tr th:only-of-type {\n        vertical-align: middle;\n    }\n\n    .dataframe tbody tr th {\n        vertical-align: top;\n    }\n\n    .dataframe thead th {\n        text-align: right;\n    }\n</style>\n<table border=\"1\" class=\"dataframe\">\n  <thead>\n    <tr style=\"text-align: right;\">\n      <th>col_0</th>\n      <th>0</th>\n      <th>1</th>\n    </tr>\n    <tr>\n      <th>churn</th>\n      <th></th>\n      <th></th>\n    </tr>\n  </thead>\n  <tbody>\n    <tr>\n      <th>0</th>\n      <td>2988</td>\n      <td>110</td>\n    </tr>\n    <tr>\n      <th>1</th>\n      <td>355</td>\n      <td>766</td>\n    </tr>\n  </tbody>\n</table>\n</div>"
     },
     "execution_count": 85,
     "metadata": {},
     "output_type": "execute_result"
    }
   ],
   "source": [
    "pd.crosstab(y_train, y_pred)"
   ],
   "metadata": {
    "collapsed": false,
    "ExecuteTime": {
     "end_time": "2023-12-05T03:31:25.009506Z",
     "start_time": "2023-12-05T03:31:24.748590Z"
    }
   },
   "id": "eb7726c6bcb83b42"
  },
  {
   "cell_type": "code",
   "execution_count": 87,
   "outputs": [
    {
     "name": "stdout",
     "output_type": "stream",
     "text": [
      "Classification Metrics:\n",
      "Accuracy: 0.89\n",
      "True Positive Rate: 0.68\n",
      "False Positive Rate: 0.04\n",
      "True Negative Rate: 0.96\n",
      "False Negative Rate: 0.32\n",
      "Precision: 0.87\n",
      "Recall: 0.68\n",
      "F1 Score: 0.77\n",
      "\n",
      "Classification Report:\n",
      "              precision    recall  f1-score   support\n",
      "\n",
      "           0       0.89      0.96      0.93      3098\n",
      "           1       0.87      0.68      0.77      1121\n",
      "\n",
      "    accuracy                           0.89      4219\n",
      "   macro avg       0.88      0.82      0.85      4219\n",
      "weighted avg       0.89      0.89      0.89      4219\n"
     ]
    }
   ],
   "source": [
    "cf.print_classification_metrics(y_train, y_pred)"
   ],
   "metadata": {
    "collapsed": false,
    "ExecuteTime": {
     "end_time": "2023-12-05T03:33:19.192635Z",
     "start_time": "2023-12-05T03:33:18.991219Z"
    }
   },
   "id": "2344578dbb876ceb"
  },
  {
   "cell_type": "markdown",
   "source": [
    "loop for steps increasing your min_samples_leaf and decreasing your max_depth."
   ],
   "metadata": {
    "collapsed": false
   },
   "id": "6b998fabd8403b41"
  },
  {
   "cell_type": "code",
   "execution_count": 88,
   "outputs": [
    {
     "name": "stdout",
     "output_type": "stream",
     "text": [
      "for min leaf samples = 1 and max depth = 10, the accuracy is 0.89\n",
      "for min leaf samples = 2 and max depth = 9, the accuracy is 0.85\n",
      "for min leaf samples = 3 and max depth = 8, the accuracy is 0.83\n",
      "for min leaf samples = 4 and max depth = 7, the accuracy is 0.82\n",
      "for min leaf samples = 5 and max depth = 6, the accuracy is 0.81\n",
      "for min leaf samples = 6 and max depth = 5, the accuracy is 0.8\n",
      "for min leaf samples = 7 and max depth = 4, the accuracy is 0.8\n",
      "for min leaf samples = 8 and max depth = 3, the accuracy is 0.78\n",
      "for min leaf samples = 9 and max depth = 2, the accuracy is 0.75\n",
      "for min leaf samples = 10 and max depth = 1, the accuracy is 0.73\n"
     ]
    }
   ],
   "source": [
    "for x in range(1,11):\n",
    "    tree = RandomForestClassifier(min_samples_leaf=x, max_depth=11-x, random_state=123)\n",
    "\n",
    "    rf.fit(X_train, y_train)\n",
    "\n",
    "    y_pred = rf.predict(X_train)\n",
    "\n",
    "    acc = rf.score(X_train, y_train)\n",
    "    \n",
    "    print(f'for min leaf samples = {x} and max depth = {11-x}, the accuracy is {round(acc,2)}')\n"
   ],
   "metadata": {
    "collapsed": false,
    "ExecuteTime": {
     "end_time": "2023-12-05T03:34:18.080392Z",
     "start_time": "2023-12-05T03:34:15.902172Z"
    }
   },
   "id": "d2b8ae7e59a374c7"
  },
  {
   "cell_type": "markdown",
   "source": [
    "1 leaf and max depth of 10 model works best with an accuracy of 89%"
   ],
   "metadata": {
    "collapsed": false
   },
   "id": "ca7505d5661d46ab"
  },
  {
   "cell_type": "code",
   "execution_count": 92,
   "outputs": [],
   "source": [
    "stats = []\n",
    "\n",
    "for x in range(1,11):\n",
    "    rf = RandomForestClassifier(min_samples_leaf=x, max_depth=11-x, random_state=123)\n",
    "\n",
    "    rf.fit(X_train, y_train)\n",
    "\n",
    "    y_pred = rf.predict(X_train)\n",
    "\n",
    "    acc = rf.score(X_train, y_train)\n",
    "    acc_val = rf.score(X_val, y_val)\n",
    "    \n",
    "    stats.append([x, 11-x,round(acc,2),round(acc_val,2) ]) \n",
    "    \n",
    "#     print(f'min_leaf_samples = {x}, max_depth = {11-x}, accuracy train = {round(acc,2)}, val = {round(acc_val,2)}')\n"
   ],
   "metadata": {
    "collapsed": false,
    "ExecuteTime": {
     "end_time": "2023-12-05T17:29:49.663791Z",
     "start_time": "2023-12-05T17:29:46.658938Z"
    }
   },
   "id": "defb947f0c91a22b"
  },
  {
   "cell_type": "code",
   "execution_count": 93,
   "outputs": [
    {
     "data": {
      "text/plain": "   min_leaf  max_depth  train_acc  val_acc\n0         1         10       0.89     0.80\n1         2          9       0.85     0.79\n2         3          8       0.83     0.80\n3         4          7       0.82     0.80\n4         5          6       0.81     0.80\n5         6          5       0.80     0.80\n6         7          4       0.80     0.79\n7         8          3       0.78     0.78\n8         9          2       0.75     0.74\n9        10          1       0.73     0.73",
      "text/html": "<div>\n<style scoped>\n    .dataframe tbody tr th:only-of-type {\n        vertical-align: middle;\n    }\n\n    .dataframe tbody tr th {\n        vertical-align: top;\n    }\n\n    .dataframe thead th {\n        text-align: right;\n    }\n</style>\n<table border=\"1\" class=\"dataframe\">\n  <thead>\n    <tr style=\"text-align: right;\">\n      <th></th>\n      <th>min_leaf</th>\n      <th>max_depth</th>\n      <th>train_acc</th>\n      <th>val_acc</th>\n    </tr>\n  </thead>\n  <tbody>\n    <tr>\n      <th>0</th>\n      <td>1</td>\n      <td>10</td>\n      <td>0.89</td>\n      <td>0.80</td>\n    </tr>\n    <tr>\n      <th>1</th>\n      <td>2</td>\n      <td>9</td>\n      <td>0.85</td>\n      <td>0.79</td>\n    </tr>\n    <tr>\n      <th>2</th>\n      <td>3</td>\n      <td>8</td>\n      <td>0.83</td>\n      <td>0.80</td>\n    </tr>\n    <tr>\n      <th>3</th>\n      <td>4</td>\n      <td>7</td>\n      <td>0.82</td>\n      <td>0.80</td>\n    </tr>\n    <tr>\n      <th>4</th>\n      <td>5</td>\n      <td>6</td>\n      <td>0.81</td>\n      <td>0.80</td>\n    </tr>\n    <tr>\n      <th>5</th>\n      <td>6</td>\n      <td>5</td>\n      <td>0.80</td>\n      <td>0.80</td>\n    </tr>\n    <tr>\n      <th>6</th>\n      <td>7</td>\n      <td>4</td>\n      <td>0.80</td>\n      <td>0.79</td>\n    </tr>\n    <tr>\n      <th>7</th>\n      <td>8</td>\n      <td>3</td>\n      <td>0.78</td>\n      <td>0.78</td>\n    </tr>\n    <tr>\n      <th>8</th>\n      <td>9</td>\n      <td>2</td>\n      <td>0.75</td>\n      <td>0.74</td>\n    </tr>\n    <tr>\n      <th>9</th>\n      <td>10</td>\n      <td>1</td>\n      <td>0.73</td>\n      <td>0.73</td>\n    </tr>\n  </tbody>\n</table>\n</div>"
     },
     "execution_count": 93,
     "metadata": {},
     "output_type": "execute_result"
    }
   ],
   "source": [
    "stats_df = pd.DataFrame(stats, columns =['min_leaf','max_depth','train_acc','val_acc'])\n",
    "stats_df"
   ],
   "metadata": {
    "collapsed": false,
    "ExecuteTime": {
     "end_time": "2023-12-05T17:30:19.683634Z",
     "start_time": "2023-12-05T17:30:19.539067Z"
    }
   },
   "id": "2590f6dfb1c5e7a"
  },
  {
   "cell_type": "code",
   "execution_count": 28,
   "outputs": [],
   "source": [
    "X_train, y_train, y_pred_train, X_val, y_val, y_pred_val= m.create_fit_predict_model(train,validate,3,10)"
   ],
   "metadata": {
    "collapsed": false,
    "ExecuteTime": {
     "end_time": "2023-12-05T20:48:12.585801Z",
     "start_time": "2023-12-05T20:48:12.472097Z"
    }
   },
   "id": "a19c838d727e9ca3"
  },
  {
   "cell_type": "markdown",
   "source": [
    "# evalutaion CSV"
   ],
   "metadata": {
    "collapsed": false
   },
   "id": "6eda19f9211fb932"
  },
  {
   "cell_type": "code",
   "execution_count": 43,
   "outputs": [],
   "source": [
    "X_train, y_train, y_pred_train, X_val, y_val, y_pred_val= m.create_fit_predict_model(train,validate,3,10)"
   ],
   "metadata": {
    "collapsed": false,
    "ExecuteTime": {
     "end_time": "2023-12-05T20:54:28.131638Z",
     "start_time": "2023-12-05T20:54:28.070761Z"
    }
   },
   "id": "55a7020ec9bf9a7b"
  },
  {
   "cell_type": "code",
   "execution_count": 44,
   "outputs": [],
   "source": [
    "X_train, y_train, y_pred_train, X_val, y_val, y_pred_val, X_test, y_test, y_pred_test =m.create_fit_predict_model(train,validate,5,10,best_model=True,test=test)"
   ],
   "metadata": {
    "collapsed": false,
    "ExecuteTime": {
     "end_time": "2023-12-05T20:54:29.190106Z",
     "start_time": "2023-12-05T20:54:28.533557Z"
    }
   },
   "id": "d151a6fb87a8eae0"
  },
  {
   "cell_type": "code",
   "execution_count": 45,
   "outputs": [],
   "source": [
    "# creating the accuracy score for test\n",
    "acc_test = tree.score(X_test, y_test)"
   ],
   "metadata": {
    "collapsed": false,
    "ExecuteTime": {
     "end_time": "2023-12-05T20:54:29.604626Z",
     "start_time": "2023-12-05T20:54:29.556378Z"
    }
   },
   "id": "393f46cf1c98148a"
  },
  {
   "cell_type": "code",
   "execution_count": 48,
   "outputs": [],
   "source": [
    "csv =pd.DataFrame(tree.predict_proba(X_test))"
   ],
   "metadata": {
    "collapsed": false,
    "ExecuteTime": {
     "end_time": "2023-12-05T20:55:04.623608Z",
     "start_time": "2023-12-05T20:55:04.227457Z"
    }
   },
   "id": "9a242aecdd9e6d34"
  },
  {
   "cell_type": "code",
   "execution_count": 49,
   "outputs": [],
   "source": [
    "csv['customer_id'] = test.index"
   ],
   "metadata": {
    "collapsed": false,
    "ExecuteTime": {
     "end_time": "2023-12-05T20:55:06.739506Z",
     "start_time": "2023-12-05T20:55:06.312132Z"
    }
   },
   "id": "de4dbc7800ce258e"
  },
  {
   "cell_type": "code",
   "execution_count": 50,
   "outputs": [
    {
     "data": {
      "text/plain": "          0         1 customer_id\n0  1.000000  0.000000  2706-QZIHY\n1  1.000000  0.000000  5324-KTGCG\n2  1.000000  0.000000  6637-KYRCV\n3  1.000000  0.000000  7207-RMRDB\n4  0.829787  0.170213  7217-JYHOQ",
      "text/html": "<div>\n<style scoped>\n    .dataframe tbody tr th:only-of-type {\n        vertical-align: middle;\n    }\n\n    .dataframe tbody tr th {\n        vertical-align: top;\n    }\n\n    .dataframe thead th {\n        text-align: right;\n    }\n</style>\n<table border=\"1\" class=\"dataframe\">\n  <thead>\n    <tr style=\"text-align: right;\">\n      <th></th>\n      <th>0</th>\n      <th>1</th>\n      <th>customer_id</th>\n    </tr>\n  </thead>\n  <tbody>\n    <tr>\n      <th>0</th>\n      <td>1.000000</td>\n      <td>0.000000</td>\n      <td>2706-QZIHY</td>\n    </tr>\n    <tr>\n      <th>1</th>\n      <td>1.000000</td>\n      <td>0.000000</td>\n      <td>5324-KTGCG</td>\n    </tr>\n    <tr>\n      <th>2</th>\n      <td>1.000000</td>\n      <td>0.000000</td>\n      <td>6637-KYRCV</td>\n    </tr>\n    <tr>\n      <th>3</th>\n      <td>1.000000</td>\n      <td>0.000000</td>\n      <td>7207-RMRDB</td>\n    </tr>\n    <tr>\n      <th>4</th>\n      <td>0.829787</td>\n      <td>0.170213</td>\n      <td>7217-JYHOQ</td>\n    </tr>\n  </tbody>\n</table>\n</div>"
     },
     "execution_count": 50,
     "metadata": {},
     "output_type": "execute_result"
    }
   ],
   "source": [
    "csv.head()"
   ],
   "metadata": {
    "collapsed": false,
    "ExecuteTime": {
     "end_time": "2023-12-05T20:55:07.991054Z",
     "start_time": "2023-12-05T20:55:07.902052Z"
    }
   },
   "id": "7dfd19adcd53b16d"
  },
  {
   "cell_type": "code",
   "execution_count": 51,
   "outputs": [],
   "source": [
    "csv['churn_predict'] = y_pred_test"
   ],
   "metadata": {
    "collapsed": false,
    "ExecuteTime": {
     "end_time": "2023-12-05T20:57:23.965150Z",
     "start_time": "2023-12-05T20:57:23.741945Z"
    }
   },
   "id": "d12ba464370bd1ae"
  },
  {
   "cell_type": "code",
   "execution_count": 54,
   "outputs": [
    {
     "data": {
      "text/plain": "          0         1 customer_id  churn_predict\n0  1.000000  0.000000  2706-QZIHY              0\n1  1.000000  0.000000  5324-KTGCG              0\n2  1.000000  0.000000  6637-KYRCV              0\n3  1.000000  0.000000  7207-RMRDB              0\n4  0.829787  0.170213  7217-JYHOQ              0",
      "text/html": "<div>\n<style scoped>\n    .dataframe tbody tr th:only-of-type {\n        vertical-align: middle;\n    }\n\n    .dataframe tbody tr th {\n        vertical-align: top;\n    }\n\n    .dataframe thead th {\n        text-align: right;\n    }\n</style>\n<table border=\"1\" class=\"dataframe\">\n  <thead>\n    <tr style=\"text-align: right;\">\n      <th></th>\n      <th>0</th>\n      <th>1</th>\n      <th>customer_id</th>\n      <th>churn_predict</th>\n    </tr>\n  </thead>\n  <tbody>\n    <tr>\n      <th>0</th>\n      <td>1.000000</td>\n      <td>0.000000</td>\n      <td>2706-QZIHY</td>\n      <td>0</td>\n    </tr>\n    <tr>\n      <th>1</th>\n      <td>1.000000</td>\n      <td>0.000000</td>\n      <td>5324-KTGCG</td>\n      <td>0</td>\n    </tr>\n    <tr>\n      <th>2</th>\n      <td>1.000000</td>\n      <td>0.000000</td>\n      <td>6637-KYRCV</td>\n      <td>0</td>\n    </tr>\n    <tr>\n      <th>3</th>\n      <td>1.000000</td>\n      <td>0.000000</td>\n      <td>7207-RMRDB</td>\n      <td>0</td>\n    </tr>\n    <tr>\n      <th>4</th>\n      <td>0.829787</td>\n      <td>0.170213</td>\n      <td>7217-JYHOQ</td>\n      <td>0</td>\n    </tr>\n  </tbody>\n</table>\n</div>"
     },
     "execution_count": 54,
     "metadata": {},
     "output_type": "execute_result"
    }
   ],
   "source": [
    "csv.head()"
   ],
   "metadata": {
    "collapsed": false,
    "ExecuteTime": {
     "end_time": "2023-12-05T20:57:41.183104Z",
     "start_time": "2023-12-05T20:57:41.073670Z"
    }
   },
   "id": "afbb403f1c293168"
  },
  {
   "cell_type": "code",
   "execution_count": 55,
   "outputs": [
    {
     "data": {
      "text/plain": "0       1.000000\n1       1.000000\n2       1.000000\n3       1.000000\n4       0.829787\n          ...   \n1402    1.000000\n1403    1.000000\n1404    0.677966\n1405    1.000000\n1406    1.000000\nName: 0, Length: 1407, dtype: float64"
     },
     "execution_count": 55,
     "metadata": {},
     "output_type": "execute_result"
    }
   ],
   "source": [
    "csv.pop(0)"
   ],
   "metadata": {
    "collapsed": false,
    "ExecuteTime": {
     "end_time": "2023-12-05T20:58:14.024192Z",
     "start_time": "2023-12-05T20:58:13.546316Z"
    }
   },
   "id": "3aa1784d078e6da6"
  },
  {
   "cell_type": "code",
   "execution_count": 56,
   "outputs": [
    {
     "data": {
      "text/plain": "          1 customer_id  churn_predict\n0  0.000000  2706-QZIHY              0\n1  0.000000  5324-KTGCG              0\n2  0.000000  6637-KYRCV              0\n3  0.000000  7207-RMRDB              0\n4  0.170213  7217-JYHOQ              0",
      "text/html": "<div>\n<style scoped>\n    .dataframe tbody tr th:only-of-type {\n        vertical-align: middle;\n    }\n\n    .dataframe tbody tr th {\n        vertical-align: top;\n    }\n\n    .dataframe thead th {\n        text-align: right;\n    }\n</style>\n<table border=\"1\" class=\"dataframe\">\n  <thead>\n    <tr style=\"text-align: right;\">\n      <th></th>\n      <th>1</th>\n      <th>customer_id</th>\n      <th>churn_predict</th>\n    </tr>\n  </thead>\n  <tbody>\n    <tr>\n      <th>0</th>\n      <td>0.000000</td>\n      <td>2706-QZIHY</td>\n      <td>0</td>\n    </tr>\n    <tr>\n      <th>1</th>\n      <td>0.000000</td>\n      <td>5324-KTGCG</td>\n      <td>0</td>\n    </tr>\n    <tr>\n      <th>2</th>\n      <td>0.000000</td>\n      <td>6637-KYRCV</td>\n      <td>0</td>\n    </tr>\n    <tr>\n      <th>3</th>\n      <td>0.000000</td>\n      <td>7207-RMRDB</td>\n      <td>0</td>\n    </tr>\n    <tr>\n      <th>4</th>\n      <td>0.170213</td>\n      <td>7217-JYHOQ</td>\n      <td>0</td>\n    </tr>\n  </tbody>\n</table>\n</div>"
     },
     "execution_count": 56,
     "metadata": {},
     "output_type": "execute_result"
    }
   ],
   "source": [
    "csv.head()"
   ],
   "metadata": {
    "collapsed": false,
    "ExecuteTime": {
     "end_time": "2023-12-05T20:58:28.226899Z",
     "start_time": "2023-12-05T20:58:28.097791Z"
    }
   },
   "id": "21c72ce6b0b19f4f"
  },
  {
   "cell_type": "markdown",
   "source": [
    "# NOTEBOOK RESTART"
   ],
   "metadata": {
    "collapsed": false
   },
   "id": "c57d602d183e506b"
  },
  {
   "cell_type": "code",
   "execution_count": 34,
   "outputs": [
    {
     "name": "stdout",
     "output_type": "stream",
     "text": [
      "this file exists, reading csv\n"
     ]
    }
   ],
   "source": [
    "df =a.get_telco_data()"
   ],
   "metadata": {
    "collapsed": false,
    "ExecuteTime": {
     "end_time": "2023-12-05T21:54:45.888271Z",
     "start_time": "2023-12-05T21:54:45.626638Z"
    }
   },
   "id": "ab9f251a92de4307"
  },
  {
   "cell_type": "code",
   "execution_count": 35,
   "outputs": [
    {
     "data": {
      "text/plain": "             Unnamed: 0  payment_type_id  internet_service_type_id  \\\ncustomer_id                                                          \n0002-ORFBO            0                2                         1   \n0003-MKNFE            1                2                         1   \n0004-TLHLJ            2                1                         2   \n0011-IGKFF            3                1                         2   \n0013-EXCHZ            4                2                         2   \n...                 ...              ...                       ...   \n9987-LUTYD         7038                2                         1   \n9992-RRAMN         7039                1                         2   \n9992-UJOEL         7040                2                         1   \n9993-LHIEB         7041                2                         1   \n9995-HOTOH         7042                1                         1   \n\n             contract_type_id  gender  senior_citizen partner dependents  \\\ncustomer_id                                                                \n0002-ORFBO                  2  Female               0     Yes        Yes   \n0003-MKNFE                  1    Male               0      No         No   \n0004-TLHLJ                  1    Male               0      No         No   \n0011-IGKFF                  1    Male               1     Yes         No   \n0013-EXCHZ                  1  Female               1     Yes         No   \n...                       ...     ...             ...     ...        ...   \n9987-LUTYD                  2  Female               0      No         No   \n9992-RRAMN                  1    Male               0     Yes         No   \n9992-UJOEL                  1    Male               0      No         No   \n9993-LHIEB                  3    Male               0     Yes        Yes   \n9995-HOTOH                  3    Male               0     Yes        Yes   \n\n             tenure phone_service  ... tech_support streaming_tv  \\\ncustomer_id                        ...                             \n0002-ORFBO        9           Yes  ...          Yes          Yes   \n0003-MKNFE        9           Yes  ...           No           No   \n0004-TLHLJ        4           Yes  ...           No           No   \n0011-IGKFF       13           Yes  ...           No          Yes   \n0013-EXCHZ        3           Yes  ...          Yes          Yes   \n...             ...           ...  ...          ...          ...   \n9987-LUTYD       13           Yes  ...          Yes           No   \n9992-RRAMN       22           Yes  ...           No           No   \n9992-UJOEL        2           Yes  ...           No           No   \n9993-LHIEB       67           Yes  ...          Yes           No   \n9995-HOTOH       63            No  ...           No          Yes   \n\n            streaming_movies paperless_billing monthly_charges total_charges  \\\ncustomer_id                                                                    \n0002-ORFBO                No               Yes           65.60         593.3   \n0003-MKNFE               Yes                No           59.90         542.4   \n0004-TLHLJ                No               Yes           73.90        280.85   \n0011-IGKFF               Yes               Yes           98.00       1237.85   \n0013-EXCHZ                No               Yes           83.90         267.4   \n...                      ...               ...             ...           ...   \n9987-LUTYD                No                No           55.15         742.9   \n9992-RRAMN               Yes               Yes           85.10        1873.7   \n9992-UJOEL                No               Yes           50.30         92.75   \n9993-LHIEB               Yes                No           67.85       4627.65   \n9995-HOTOH               Yes                No           59.00        3707.6   \n\n            churn   contract_type  internet_service_type      payment_type  \ncustomer_id                                                                 \n0002-ORFBO     No        One year                    DSL      Mailed check  \n0003-MKNFE     No  Month-to-month                    DSL      Mailed check  \n0004-TLHLJ    Yes  Month-to-month            Fiber optic  Electronic check  \n0011-IGKFF    Yes  Month-to-month            Fiber optic  Electronic check  \n0013-EXCHZ    Yes  Month-to-month            Fiber optic      Mailed check  \n...           ...             ...                    ...               ...  \n9987-LUTYD     No        One year                    DSL      Mailed check  \n9992-RRAMN    Yes  Month-to-month            Fiber optic  Electronic check  \n9992-UJOEL     No  Month-to-month                    DSL      Mailed check  \n9993-LHIEB     No        Two year                    DSL      Mailed check  \n9995-HOTOH     No        Two year                    DSL  Electronic check  \n\n[7043 rows x 24 columns]",
      "text/html": "<div>\n<style scoped>\n    .dataframe tbody tr th:only-of-type {\n        vertical-align: middle;\n    }\n\n    .dataframe tbody tr th {\n        vertical-align: top;\n    }\n\n    .dataframe thead th {\n        text-align: right;\n    }\n</style>\n<table border=\"1\" class=\"dataframe\">\n  <thead>\n    <tr style=\"text-align: right;\">\n      <th></th>\n      <th>Unnamed: 0</th>\n      <th>payment_type_id</th>\n      <th>internet_service_type_id</th>\n      <th>contract_type_id</th>\n      <th>gender</th>\n      <th>senior_citizen</th>\n      <th>partner</th>\n      <th>dependents</th>\n      <th>tenure</th>\n      <th>phone_service</th>\n      <th>...</th>\n      <th>tech_support</th>\n      <th>streaming_tv</th>\n      <th>streaming_movies</th>\n      <th>paperless_billing</th>\n      <th>monthly_charges</th>\n      <th>total_charges</th>\n      <th>churn</th>\n      <th>contract_type</th>\n      <th>internet_service_type</th>\n      <th>payment_type</th>\n    </tr>\n    <tr>\n      <th>customer_id</th>\n      <th></th>\n      <th></th>\n      <th></th>\n      <th></th>\n      <th></th>\n      <th></th>\n      <th></th>\n      <th></th>\n      <th></th>\n      <th></th>\n      <th></th>\n      <th></th>\n      <th></th>\n      <th></th>\n      <th></th>\n      <th></th>\n      <th></th>\n      <th></th>\n      <th></th>\n      <th></th>\n      <th></th>\n    </tr>\n  </thead>\n  <tbody>\n    <tr>\n      <th>0002-ORFBO</th>\n      <td>0</td>\n      <td>2</td>\n      <td>1</td>\n      <td>2</td>\n      <td>Female</td>\n      <td>0</td>\n      <td>Yes</td>\n      <td>Yes</td>\n      <td>9</td>\n      <td>Yes</td>\n      <td>...</td>\n      <td>Yes</td>\n      <td>Yes</td>\n      <td>No</td>\n      <td>Yes</td>\n      <td>65.60</td>\n      <td>593.3</td>\n      <td>No</td>\n      <td>One year</td>\n      <td>DSL</td>\n      <td>Mailed check</td>\n    </tr>\n    <tr>\n      <th>0003-MKNFE</th>\n      <td>1</td>\n      <td>2</td>\n      <td>1</td>\n      <td>1</td>\n      <td>Male</td>\n      <td>0</td>\n      <td>No</td>\n      <td>No</td>\n      <td>9</td>\n      <td>Yes</td>\n      <td>...</td>\n      <td>No</td>\n      <td>No</td>\n      <td>Yes</td>\n      <td>No</td>\n      <td>59.90</td>\n      <td>542.4</td>\n      <td>No</td>\n      <td>Month-to-month</td>\n      <td>DSL</td>\n      <td>Mailed check</td>\n    </tr>\n    <tr>\n      <th>0004-TLHLJ</th>\n      <td>2</td>\n      <td>1</td>\n      <td>2</td>\n      <td>1</td>\n      <td>Male</td>\n      <td>0</td>\n      <td>No</td>\n      <td>No</td>\n      <td>4</td>\n      <td>Yes</td>\n      <td>...</td>\n      <td>No</td>\n      <td>No</td>\n      <td>No</td>\n      <td>Yes</td>\n      <td>73.90</td>\n      <td>280.85</td>\n      <td>Yes</td>\n      <td>Month-to-month</td>\n      <td>Fiber optic</td>\n      <td>Electronic check</td>\n    </tr>\n    <tr>\n      <th>0011-IGKFF</th>\n      <td>3</td>\n      <td>1</td>\n      <td>2</td>\n      <td>1</td>\n      <td>Male</td>\n      <td>1</td>\n      <td>Yes</td>\n      <td>No</td>\n      <td>13</td>\n      <td>Yes</td>\n      <td>...</td>\n      <td>No</td>\n      <td>Yes</td>\n      <td>Yes</td>\n      <td>Yes</td>\n      <td>98.00</td>\n      <td>1237.85</td>\n      <td>Yes</td>\n      <td>Month-to-month</td>\n      <td>Fiber optic</td>\n      <td>Electronic check</td>\n    </tr>\n    <tr>\n      <th>0013-EXCHZ</th>\n      <td>4</td>\n      <td>2</td>\n      <td>2</td>\n      <td>1</td>\n      <td>Female</td>\n      <td>1</td>\n      <td>Yes</td>\n      <td>No</td>\n      <td>3</td>\n      <td>Yes</td>\n      <td>...</td>\n      <td>Yes</td>\n      <td>Yes</td>\n      <td>No</td>\n      <td>Yes</td>\n      <td>83.90</td>\n      <td>267.4</td>\n      <td>Yes</td>\n      <td>Month-to-month</td>\n      <td>Fiber optic</td>\n      <td>Mailed check</td>\n    </tr>\n    <tr>\n      <th>...</th>\n      <td>...</td>\n      <td>...</td>\n      <td>...</td>\n      <td>...</td>\n      <td>...</td>\n      <td>...</td>\n      <td>...</td>\n      <td>...</td>\n      <td>...</td>\n      <td>...</td>\n      <td>...</td>\n      <td>...</td>\n      <td>...</td>\n      <td>...</td>\n      <td>...</td>\n      <td>...</td>\n      <td>...</td>\n      <td>...</td>\n      <td>...</td>\n      <td>...</td>\n      <td>...</td>\n    </tr>\n    <tr>\n      <th>9987-LUTYD</th>\n      <td>7038</td>\n      <td>2</td>\n      <td>1</td>\n      <td>2</td>\n      <td>Female</td>\n      <td>0</td>\n      <td>No</td>\n      <td>No</td>\n      <td>13</td>\n      <td>Yes</td>\n      <td>...</td>\n      <td>Yes</td>\n      <td>No</td>\n      <td>No</td>\n      <td>No</td>\n      <td>55.15</td>\n      <td>742.9</td>\n      <td>No</td>\n      <td>One year</td>\n      <td>DSL</td>\n      <td>Mailed check</td>\n    </tr>\n    <tr>\n      <th>9992-RRAMN</th>\n      <td>7039</td>\n      <td>1</td>\n      <td>2</td>\n      <td>1</td>\n      <td>Male</td>\n      <td>0</td>\n      <td>Yes</td>\n      <td>No</td>\n      <td>22</td>\n      <td>Yes</td>\n      <td>...</td>\n      <td>No</td>\n      <td>No</td>\n      <td>Yes</td>\n      <td>Yes</td>\n      <td>85.10</td>\n      <td>1873.7</td>\n      <td>Yes</td>\n      <td>Month-to-month</td>\n      <td>Fiber optic</td>\n      <td>Electronic check</td>\n    </tr>\n    <tr>\n      <th>9992-UJOEL</th>\n      <td>7040</td>\n      <td>2</td>\n      <td>1</td>\n      <td>1</td>\n      <td>Male</td>\n      <td>0</td>\n      <td>No</td>\n      <td>No</td>\n      <td>2</td>\n      <td>Yes</td>\n      <td>...</td>\n      <td>No</td>\n      <td>No</td>\n      <td>No</td>\n      <td>Yes</td>\n      <td>50.30</td>\n      <td>92.75</td>\n      <td>No</td>\n      <td>Month-to-month</td>\n      <td>DSL</td>\n      <td>Mailed check</td>\n    </tr>\n    <tr>\n      <th>9993-LHIEB</th>\n      <td>7041</td>\n      <td>2</td>\n      <td>1</td>\n      <td>3</td>\n      <td>Male</td>\n      <td>0</td>\n      <td>Yes</td>\n      <td>Yes</td>\n      <td>67</td>\n      <td>Yes</td>\n      <td>...</td>\n      <td>Yes</td>\n      <td>No</td>\n      <td>Yes</td>\n      <td>No</td>\n      <td>67.85</td>\n      <td>4627.65</td>\n      <td>No</td>\n      <td>Two year</td>\n      <td>DSL</td>\n      <td>Mailed check</td>\n    </tr>\n    <tr>\n      <th>9995-HOTOH</th>\n      <td>7042</td>\n      <td>1</td>\n      <td>1</td>\n      <td>3</td>\n      <td>Male</td>\n      <td>0</td>\n      <td>Yes</td>\n      <td>Yes</td>\n      <td>63</td>\n      <td>No</td>\n      <td>...</td>\n      <td>No</td>\n      <td>Yes</td>\n      <td>Yes</td>\n      <td>No</td>\n      <td>59.00</td>\n      <td>3707.6</td>\n      <td>No</td>\n      <td>Two year</td>\n      <td>DSL</td>\n      <td>Electronic check</td>\n    </tr>\n  </tbody>\n</table>\n<p>7043 rows × 24 columns</p>\n</div>"
     },
     "execution_count": 35,
     "metadata": {},
     "output_type": "execute_result"
    }
   ],
   "source": [
    "df"
   ],
   "metadata": {
    "collapsed": false,
    "ExecuteTime": {
     "end_time": "2023-12-05T21:54:48.666525Z",
     "start_time": "2023-12-05T21:54:47.852504Z"
    }
   },
   "id": "cf00df99e9a95ac7"
  },
  {
   "cell_type": "code",
   "execution_count": 36,
   "outputs": [
    {
     "data": {
      "text/plain": "Index(['0002-ORFBO', '0003-MKNFE', '0004-TLHLJ', '0011-IGKFF', '0013-EXCHZ',\n       '0013-MHZWF', '0013-SMEOE', '0014-BMAQU', '0015-UOCOJ', '0016-QLJIS',\n       ...\n       '9975-SKRNR', '9978-HYCIN', '9979-RGMZT', '9985-MWVIX', '9986-BONCE',\n       '9987-LUTYD', '9992-RRAMN', '9992-UJOEL', '9993-LHIEB', '9995-HOTOH'],\n      dtype='object', name='customer_id', length=7043)"
     },
     "execution_count": 36,
     "metadata": {},
     "output_type": "execute_result"
    }
   ],
   "source": [
    "df.index"
   ],
   "metadata": {
    "collapsed": false,
    "ExecuteTime": {
     "end_time": "2023-12-05T21:54:49.642931Z",
     "start_time": "2023-12-05T21:54:49.267244Z"
    }
   },
   "id": "a634f69ab1e58d33"
  },
  {
   "cell_type": "code",
   "execution_count": 37,
   "outputs": [],
   "source": [
    "df = p.prep_telco(df)"
   ],
   "metadata": {
    "collapsed": false,
    "ExecuteTime": {
     "end_time": "2023-12-05T21:54:50.143079Z",
     "start_time": "2023-12-05T21:54:50.036263Z"
    }
   },
   "id": "5c0717aaaeef3625"
  },
  {
   "cell_type": "code",
   "execution_count": 38,
   "outputs": [
    {
     "data": {
      "text/plain": "             gender  senior_citizen partner dependents  tenure phone_service  \\\ncustomer_id                                                                    \n0002-ORFBO   Female               0     Yes        Yes       9           Yes   \n0003-MKNFE     Male               0      No         No       9           Yes   \n0004-TLHLJ     Male               0      No         No       4           Yes   \n0011-IGKFF     Male               1     Yes         No      13           Yes   \n0013-EXCHZ   Female               1     Yes         No       3           Yes   \n\n            multiple_lines streaming_tv streaming_movies  monthly_charges  \\\ncustomer_id                                                                 \n0002-ORFBO              No          Yes               No             65.6   \n0003-MKNFE             Yes           No              Yes             59.9   \n0004-TLHLJ              No           No               No             73.9   \n0011-IGKFF              No          Yes              Yes             98.0   \n0013-EXCHZ              No          Yes               No             83.9   \n\n             total_charges churn   contract_type internet_service_type  \\\ncustomer_id                                                              \n0002-ORFBO          593.30    No        One year                   DSL   \n0003-MKNFE          542.40    No  Month-to-month                   DSL   \n0004-TLHLJ          280.85   Yes  Month-to-month           Fiber optic   \n0011-IGKFF         1237.85   Yes  Month-to-month           Fiber optic   \n0013-EXCHZ          267.40   Yes  Month-to-month           Fiber optic   \n\n                 payment_type  has_add_ons  \ncustomer_id                                 \n0002-ORFBO       Mailed check            1  \n0003-MKNFE       Mailed check            0  \n0004-TLHLJ   Electronic check            1  \n0011-IGKFF   Electronic check            1  \n0013-EXCHZ       Mailed check            1  ",
      "text/html": "<div>\n<style scoped>\n    .dataframe tbody tr th:only-of-type {\n        vertical-align: middle;\n    }\n\n    .dataframe tbody tr th {\n        vertical-align: top;\n    }\n\n    .dataframe thead th {\n        text-align: right;\n    }\n</style>\n<table border=\"1\" class=\"dataframe\">\n  <thead>\n    <tr style=\"text-align: right;\">\n      <th></th>\n      <th>gender</th>\n      <th>senior_citizen</th>\n      <th>partner</th>\n      <th>dependents</th>\n      <th>tenure</th>\n      <th>phone_service</th>\n      <th>multiple_lines</th>\n      <th>streaming_tv</th>\n      <th>streaming_movies</th>\n      <th>monthly_charges</th>\n      <th>total_charges</th>\n      <th>churn</th>\n      <th>contract_type</th>\n      <th>internet_service_type</th>\n      <th>payment_type</th>\n      <th>has_add_ons</th>\n    </tr>\n    <tr>\n      <th>customer_id</th>\n      <th></th>\n      <th></th>\n      <th></th>\n      <th></th>\n      <th></th>\n      <th></th>\n      <th></th>\n      <th></th>\n      <th></th>\n      <th></th>\n      <th></th>\n      <th></th>\n      <th></th>\n      <th></th>\n      <th></th>\n      <th></th>\n    </tr>\n  </thead>\n  <tbody>\n    <tr>\n      <th>0002-ORFBO</th>\n      <td>Female</td>\n      <td>0</td>\n      <td>Yes</td>\n      <td>Yes</td>\n      <td>9</td>\n      <td>Yes</td>\n      <td>No</td>\n      <td>Yes</td>\n      <td>No</td>\n      <td>65.6</td>\n      <td>593.30</td>\n      <td>No</td>\n      <td>One year</td>\n      <td>DSL</td>\n      <td>Mailed check</td>\n      <td>1</td>\n    </tr>\n    <tr>\n      <th>0003-MKNFE</th>\n      <td>Male</td>\n      <td>0</td>\n      <td>No</td>\n      <td>No</td>\n      <td>9</td>\n      <td>Yes</td>\n      <td>Yes</td>\n      <td>No</td>\n      <td>Yes</td>\n      <td>59.9</td>\n      <td>542.40</td>\n      <td>No</td>\n      <td>Month-to-month</td>\n      <td>DSL</td>\n      <td>Mailed check</td>\n      <td>0</td>\n    </tr>\n    <tr>\n      <th>0004-TLHLJ</th>\n      <td>Male</td>\n      <td>0</td>\n      <td>No</td>\n      <td>No</td>\n      <td>4</td>\n      <td>Yes</td>\n      <td>No</td>\n      <td>No</td>\n      <td>No</td>\n      <td>73.9</td>\n      <td>280.85</td>\n      <td>Yes</td>\n      <td>Month-to-month</td>\n      <td>Fiber optic</td>\n      <td>Electronic check</td>\n      <td>1</td>\n    </tr>\n    <tr>\n      <th>0011-IGKFF</th>\n      <td>Male</td>\n      <td>1</td>\n      <td>Yes</td>\n      <td>No</td>\n      <td>13</td>\n      <td>Yes</td>\n      <td>No</td>\n      <td>Yes</td>\n      <td>Yes</td>\n      <td>98.0</td>\n      <td>1237.85</td>\n      <td>Yes</td>\n      <td>Month-to-month</td>\n      <td>Fiber optic</td>\n      <td>Electronic check</td>\n      <td>1</td>\n    </tr>\n    <tr>\n      <th>0013-EXCHZ</th>\n      <td>Female</td>\n      <td>1</td>\n      <td>Yes</td>\n      <td>No</td>\n      <td>3</td>\n      <td>Yes</td>\n      <td>No</td>\n      <td>Yes</td>\n      <td>No</td>\n      <td>83.9</td>\n      <td>267.40</td>\n      <td>Yes</td>\n      <td>Month-to-month</td>\n      <td>Fiber optic</td>\n      <td>Mailed check</td>\n      <td>1</td>\n    </tr>\n  </tbody>\n</table>\n</div>"
     },
     "execution_count": 38,
     "metadata": {},
     "output_type": "execute_result"
    }
   ],
   "source": [
    "df.head()"
   ],
   "metadata": {
    "collapsed": false,
    "ExecuteTime": {
     "end_time": "2023-12-05T21:54:51.951119Z",
     "start_time": "2023-12-05T21:54:51.861235Z"
    }
   },
   "id": "7e19fec2f2b587ba"
  },
  {
   "cell_type": "code",
   "execution_count": 39,
   "outputs": [],
   "source": [
    "encoded_df = p.preprocess_data(df)"
   ],
   "metadata": {
    "collapsed": false,
    "ExecuteTime": {
     "end_time": "2023-12-05T21:54:53.813359Z",
     "start_time": "2023-12-05T21:54:53.678181Z"
    }
   },
   "id": "26d1df153cb2577"
  },
  {
   "cell_type": "code",
   "execution_count": 40,
   "outputs": [
    {
     "data": {
      "text/plain": "             senior_citizen  partner  dependents  tenure  phone_service  \\\ncustomer_id                                                               \n0002-ORFBO                0        1           1       9              1   \n0003-MKNFE                0        0           0       9              1   \n0004-TLHLJ                0        0           0       4              1   \n0011-IGKFF                1        1           0      13              1   \n0013-EXCHZ                1        1           0       3              1   \n\n             multiple_lines  streaming_tv  streaming_movies  monthly_charges  \\\ncustomer_id                                                                    \n0002-ORFBO                0             1                 0             65.6   \n0003-MKNFE                1             0                 1             59.9   \n0004-TLHLJ                0             0                 0             73.9   \n0011-IGKFF                0             1                 1             98.0   \n0013-EXCHZ                0             1                 0             83.9   \n\n             total_charges  churn  has_add_ons  has_internet  \\\ncustomer_id                                                    \n0002-ORFBO          593.30      0            1             1   \n0003-MKNFE          542.40      0            0             1   \n0004-TLHLJ          280.85      1            1             1   \n0011-IGKFF         1237.85      1            1             1   \n0013-EXCHZ          267.40      1            1             1   \n\n             monthly_contract  automatic_payment  is_male  \ncustomer_id                                                \n0002-ORFBO                  0                  0        0  \n0003-MKNFE                  1                  0        1  \n0004-TLHLJ                  1                  0        1  \n0011-IGKFF                  1                  0        1  \n0013-EXCHZ                  1                  0        0  ",
      "text/html": "<div>\n<style scoped>\n    .dataframe tbody tr th:only-of-type {\n        vertical-align: middle;\n    }\n\n    .dataframe tbody tr th {\n        vertical-align: top;\n    }\n\n    .dataframe thead th {\n        text-align: right;\n    }\n</style>\n<table border=\"1\" class=\"dataframe\">\n  <thead>\n    <tr style=\"text-align: right;\">\n      <th></th>\n      <th>senior_citizen</th>\n      <th>partner</th>\n      <th>dependents</th>\n      <th>tenure</th>\n      <th>phone_service</th>\n      <th>multiple_lines</th>\n      <th>streaming_tv</th>\n      <th>streaming_movies</th>\n      <th>monthly_charges</th>\n      <th>total_charges</th>\n      <th>churn</th>\n      <th>has_add_ons</th>\n      <th>has_internet</th>\n      <th>monthly_contract</th>\n      <th>automatic_payment</th>\n      <th>is_male</th>\n    </tr>\n    <tr>\n      <th>customer_id</th>\n      <th></th>\n      <th></th>\n      <th></th>\n      <th></th>\n      <th></th>\n      <th></th>\n      <th></th>\n      <th></th>\n      <th></th>\n      <th></th>\n      <th></th>\n      <th></th>\n      <th></th>\n      <th></th>\n      <th></th>\n      <th></th>\n    </tr>\n  </thead>\n  <tbody>\n    <tr>\n      <th>0002-ORFBO</th>\n      <td>0</td>\n      <td>1</td>\n      <td>1</td>\n      <td>9</td>\n      <td>1</td>\n      <td>0</td>\n      <td>1</td>\n      <td>0</td>\n      <td>65.6</td>\n      <td>593.30</td>\n      <td>0</td>\n      <td>1</td>\n      <td>1</td>\n      <td>0</td>\n      <td>0</td>\n      <td>0</td>\n    </tr>\n    <tr>\n      <th>0003-MKNFE</th>\n      <td>0</td>\n      <td>0</td>\n      <td>0</td>\n      <td>9</td>\n      <td>1</td>\n      <td>1</td>\n      <td>0</td>\n      <td>1</td>\n      <td>59.9</td>\n      <td>542.40</td>\n      <td>0</td>\n      <td>0</td>\n      <td>1</td>\n      <td>1</td>\n      <td>0</td>\n      <td>1</td>\n    </tr>\n    <tr>\n      <th>0004-TLHLJ</th>\n      <td>0</td>\n      <td>0</td>\n      <td>0</td>\n      <td>4</td>\n      <td>1</td>\n      <td>0</td>\n      <td>0</td>\n      <td>0</td>\n      <td>73.9</td>\n      <td>280.85</td>\n      <td>1</td>\n      <td>1</td>\n      <td>1</td>\n      <td>1</td>\n      <td>0</td>\n      <td>1</td>\n    </tr>\n    <tr>\n      <th>0011-IGKFF</th>\n      <td>1</td>\n      <td>1</td>\n      <td>0</td>\n      <td>13</td>\n      <td>1</td>\n      <td>0</td>\n      <td>1</td>\n      <td>1</td>\n      <td>98.0</td>\n      <td>1237.85</td>\n      <td>1</td>\n      <td>1</td>\n      <td>1</td>\n      <td>1</td>\n      <td>0</td>\n      <td>1</td>\n    </tr>\n    <tr>\n      <th>0013-EXCHZ</th>\n      <td>1</td>\n      <td>1</td>\n      <td>0</td>\n      <td>3</td>\n      <td>1</td>\n      <td>0</td>\n      <td>1</td>\n      <td>0</td>\n      <td>83.9</td>\n      <td>267.40</td>\n      <td>1</td>\n      <td>1</td>\n      <td>1</td>\n      <td>1</td>\n      <td>0</td>\n      <td>0</td>\n    </tr>\n  </tbody>\n</table>\n</div>"
     },
     "execution_count": 40,
     "metadata": {},
     "output_type": "execute_result"
    }
   ],
   "source": [
    "encoded_df.head()"
   ],
   "metadata": {
    "collapsed": false,
    "ExecuteTime": {
     "end_time": "2023-12-05T21:54:55.726787Z",
     "start_time": "2023-12-05T21:54:55.451750Z"
    }
   },
   "id": "44e323452f6e0c03"
  },
  {
   "cell_type": "code",
   "execution_count": 41,
   "outputs": [
    {
     "name": "stdout",
     "output_type": "stream",
     "text": [
      "'senior_citizen': [0 1]\n",
      "'partner': [1 0]\n",
      "'dependents': [1 0]\n",
      "'tenure': [ 9  4 13  3 71 63  7 65 54 72  5 56 34  1 45 50 23 55 26 69 37 49 66 67\n",
      " 20 43 59 12 27  2 25 29 14 35 64 39 40 11  6 30 70 57 58 16 32 33 10 21\n",
      " 61 15 44 22 24 19 47 62 46 52  8 60 48 28 41 53 68 31 36 17 18 51 38 42]\n",
      "'phone_service': [1 0]\n",
      "'multiple_lines': [0 1]\n",
      "'streaming_tv': [1 0]\n",
      "'streaming_movies': [0 1]\n",
      "'monthly_charges': [65.6  59.9  73.9  ... 91.75 68.8  67.85]\n",
      "'total_charges': [ 593.3   542.4   280.85 ...  742.9  4627.65 3707.6 ]\n",
      "'churn': [0 1]\n",
      "'has_add_ons': [1 0]\n",
      "'has_internet': [1]\n",
      "'monthly_contract': [0 1]\n",
      "'automatic_payment': [0 1]\n",
      "'is_male': [0 1]\n"
     ]
    }
   ],
   "source": [
    "cat_var, cont_var = p.categorize_columns(encoded_df)"
   ],
   "metadata": {
    "collapsed": false,
    "ExecuteTime": {
     "end_time": "2023-12-05T21:55:18.472378Z",
     "start_time": "2023-12-05T21:55:18.255372Z"
    }
   },
   "id": "78905c2883bc4802"
  },
  {
   "cell_type": "code",
   "execution_count": 42,
   "outputs": [],
   "source": [
    "# splitting the data\n",
    "train, validate, test = p.splitting_data(encoded_df, 'churn')"
   ],
   "metadata": {
    "collapsed": false,
    "ExecuteTime": {
     "end_time": "2023-12-05T21:55:19.971781Z",
     "start_time": "2023-12-05T21:55:19.856114Z"
    }
   },
   "id": "e7cd7d479b0ef2a2"
  },
  {
   "cell_type": "code",
   "execution_count": 43,
   "outputs": [
    {
     "data": {
      "text/plain": "             senior_citizen  partner  dependents  tenure  phone_service  \\\ncustomer_id                                                               \n7994-XIRTR                1        0           0      54              1   \n9717-QEBGU                0        0           0       2              1   \n3324-OIRTO                0        1           1      71              1   \n8950-MTZNV                0        0           0       1              1   \n4415-WNGVR                1        1           0      12              1   \n\n             multiple_lines  streaming_tv  streaming_movies  monthly_charges  \\\ncustomer_id                                                                    \n7994-XIRTR                0             0                 1            65.25   \n9717-QEBGU                0             0                 0            70.30   \n3324-OIRTO                0             1                 1           104.65   \n8950-MTZNV                0             0                 0            44.95   \n4415-WNGVR                0             1                 1            79.20   \n\n             total_charges  churn  has_add_ons  has_internet  \\\ncustomer_id                                                    \n7994-XIRTR         3529.95      0            1             1   \n9717-QEBGU          144.00      0            0             1   \n3324-OIRTO         7288.40      0            1             1   \n8950-MTZNV           44.95      0            0             1   \n4415-WNGVR          943.85      0            1             1   \n\n             monthly_contract  automatic_payment  is_male  \ncustomer_id                                                \n7994-XIRTR                  0                  1        1  \n9717-QEBGU                  1                  0        1  \n3324-OIRTO                  0                  1        1  \n8950-MTZNV                  1                  0        1  \n4415-WNGVR                  0                  0        0  ",
      "text/html": "<div>\n<style scoped>\n    .dataframe tbody tr th:only-of-type {\n        vertical-align: middle;\n    }\n\n    .dataframe tbody tr th {\n        vertical-align: top;\n    }\n\n    .dataframe thead th {\n        text-align: right;\n    }\n</style>\n<table border=\"1\" class=\"dataframe\">\n  <thead>\n    <tr style=\"text-align: right;\">\n      <th></th>\n      <th>senior_citizen</th>\n      <th>partner</th>\n      <th>dependents</th>\n      <th>tenure</th>\n      <th>phone_service</th>\n      <th>multiple_lines</th>\n      <th>streaming_tv</th>\n      <th>streaming_movies</th>\n      <th>monthly_charges</th>\n      <th>total_charges</th>\n      <th>churn</th>\n      <th>has_add_ons</th>\n      <th>has_internet</th>\n      <th>monthly_contract</th>\n      <th>automatic_payment</th>\n      <th>is_male</th>\n    </tr>\n    <tr>\n      <th>customer_id</th>\n      <th></th>\n      <th></th>\n      <th></th>\n      <th></th>\n      <th></th>\n      <th></th>\n      <th></th>\n      <th></th>\n      <th></th>\n      <th></th>\n      <th></th>\n      <th></th>\n      <th></th>\n      <th></th>\n      <th></th>\n      <th></th>\n    </tr>\n  </thead>\n  <tbody>\n    <tr>\n      <th>7994-XIRTR</th>\n      <td>1</td>\n      <td>0</td>\n      <td>0</td>\n      <td>54</td>\n      <td>1</td>\n      <td>0</td>\n      <td>0</td>\n      <td>1</td>\n      <td>65.25</td>\n      <td>3529.95</td>\n      <td>0</td>\n      <td>1</td>\n      <td>1</td>\n      <td>0</td>\n      <td>1</td>\n      <td>1</td>\n    </tr>\n    <tr>\n      <th>9717-QEBGU</th>\n      <td>0</td>\n      <td>0</td>\n      <td>0</td>\n      <td>2</td>\n      <td>1</td>\n      <td>0</td>\n      <td>0</td>\n      <td>0</td>\n      <td>70.30</td>\n      <td>144.00</td>\n      <td>0</td>\n      <td>0</td>\n      <td>1</td>\n      <td>1</td>\n      <td>0</td>\n      <td>1</td>\n    </tr>\n    <tr>\n      <th>3324-OIRTO</th>\n      <td>0</td>\n      <td>1</td>\n      <td>1</td>\n      <td>71</td>\n      <td>1</td>\n      <td>0</td>\n      <td>1</td>\n      <td>1</td>\n      <td>104.65</td>\n      <td>7288.40</td>\n      <td>0</td>\n      <td>1</td>\n      <td>1</td>\n      <td>0</td>\n      <td>1</td>\n      <td>1</td>\n    </tr>\n    <tr>\n      <th>8950-MTZNV</th>\n      <td>0</td>\n      <td>0</td>\n      <td>0</td>\n      <td>1</td>\n      <td>1</td>\n      <td>0</td>\n      <td>0</td>\n      <td>0</td>\n      <td>44.95</td>\n      <td>44.95</td>\n      <td>0</td>\n      <td>0</td>\n      <td>1</td>\n      <td>1</td>\n      <td>0</td>\n      <td>1</td>\n    </tr>\n    <tr>\n      <th>4415-WNGVR</th>\n      <td>1</td>\n      <td>1</td>\n      <td>0</td>\n      <td>12</td>\n      <td>1</td>\n      <td>0</td>\n      <td>1</td>\n      <td>1</td>\n      <td>79.20</td>\n      <td>943.85</td>\n      <td>0</td>\n      <td>1</td>\n      <td>1</td>\n      <td>0</td>\n      <td>0</td>\n      <td>0</td>\n    </tr>\n  </tbody>\n</table>\n</div>"
     },
     "execution_count": 43,
     "metadata": {},
     "output_type": "execute_result"
    }
   ],
   "source": [
    "train.head()"
   ],
   "metadata": {
    "collapsed": false,
    "ExecuteTime": {
     "end_time": "2023-12-05T21:55:28.231070Z",
     "start_time": "2023-12-05T21:55:27.965688Z"
    }
   },
   "id": "6f9071fc6e574075"
  },
  {
   "cell_type": "code",
   "execution_count": 12,
   "outputs": [],
   "source": [
    "X_train, y_train, y_pred_train, X_val, y_val, y_pred_val= m.create_fit_predict_model(train,validate,3,10)"
   ],
   "metadata": {
    "collapsed": false,
    "ExecuteTime": {
     "end_time": "2023-12-05T21:50:54.226534Z",
     "start_time": "2023-12-05T21:50:53.940965Z"
    }
   },
   "id": "3c89a889c4d9da21"
  },
  {
   "cell_type": "code",
   "execution_count": 13,
   "outputs": [],
   "source": [
    "X_train, y_train, y_pred_train, X_val, y_val, y_pred_val, X_test, y_test, y_pred_test =m.create_fit_predict_model(train,validate,5,10,best_model=True,test=test)"
   ],
   "metadata": {
    "collapsed": false,
    "ExecuteTime": {
     "end_time": "2023-12-05T21:50:54.778033Z",
     "start_time": "2023-12-05T21:50:54.359081Z"
    }
   },
   "id": "ad7066ebcc01800e"
  },
  {
   "cell_type": "code",
   "execution_count": 44,
   "outputs": [
    {
     "data": {
      "text/plain": "customer_id        7994-XIRTR  9717-QEBGU  3324-OIRTO  8950-MTZNV  4415-WNGVR\nsenior_citizen           1.00         0.0        0.00        0.00        1.00\npartner                  0.00         0.0        1.00        0.00        1.00\ndependents               0.00         0.0        1.00        0.00        0.00\ntenure                  54.00         2.0       71.00        1.00       12.00\nphone_service            1.00         1.0        1.00        1.00        1.00\nmultiple_lines           0.00         0.0        0.00        0.00        0.00\nstreaming_tv             0.00         0.0        1.00        0.00        1.00\nstreaming_movies         1.00         0.0        1.00        0.00        1.00\nmonthly_charges         65.25        70.3      104.65       44.95       79.20\ntotal_charges         3529.95       144.0     7288.40       44.95      943.85\nhas_add_ons              1.00         0.0        1.00        0.00        1.00\nhas_internet             1.00         1.0        1.00        1.00        1.00\nmonthly_contract         0.00         1.0        0.00        1.00        0.00\nautomatic_payment        1.00         0.0        1.00        0.00        0.00\nis_male                  1.00         1.0        1.00        1.00        0.00",
      "text/html": "<div>\n<style scoped>\n    .dataframe tbody tr th:only-of-type {\n        vertical-align: middle;\n    }\n\n    .dataframe tbody tr th {\n        vertical-align: top;\n    }\n\n    .dataframe thead th {\n        text-align: right;\n    }\n</style>\n<table border=\"1\" class=\"dataframe\">\n  <thead>\n    <tr style=\"text-align: right;\">\n      <th>customer_id</th>\n      <th>7994-XIRTR</th>\n      <th>9717-QEBGU</th>\n      <th>3324-OIRTO</th>\n      <th>8950-MTZNV</th>\n      <th>4415-WNGVR</th>\n    </tr>\n  </thead>\n  <tbody>\n    <tr>\n      <th>senior_citizen</th>\n      <td>1.00</td>\n      <td>0.0</td>\n      <td>0.00</td>\n      <td>0.00</td>\n      <td>1.00</td>\n    </tr>\n    <tr>\n      <th>partner</th>\n      <td>0.00</td>\n      <td>0.0</td>\n      <td>1.00</td>\n      <td>0.00</td>\n      <td>1.00</td>\n    </tr>\n    <tr>\n      <th>dependents</th>\n      <td>0.00</td>\n      <td>0.0</td>\n      <td>1.00</td>\n      <td>0.00</td>\n      <td>0.00</td>\n    </tr>\n    <tr>\n      <th>tenure</th>\n      <td>54.00</td>\n      <td>2.0</td>\n      <td>71.00</td>\n      <td>1.00</td>\n      <td>12.00</td>\n    </tr>\n    <tr>\n      <th>phone_service</th>\n      <td>1.00</td>\n      <td>1.0</td>\n      <td>1.00</td>\n      <td>1.00</td>\n      <td>1.00</td>\n    </tr>\n    <tr>\n      <th>multiple_lines</th>\n      <td>0.00</td>\n      <td>0.0</td>\n      <td>0.00</td>\n      <td>0.00</td>\n      <td>0.00</td>\n    </tr>\n    <tr>\n      <th>streaming_tv</th>\n      <td>0.00</td>\n      <td>0.0</td>\n      <td>1.00</td>\n      <td>0.00</td>\n      <td>1.00</td>\n    </tr>\n    <tr>\n      <th>streaming_movies</th>\n      <td>1.00</td>\n      <td>0.0</td>\n      <td>1.00</td>\n      <td>0.00</td>\n      <td>1.00</td>\n    </tr>\n    <tr>\n      <th>monthly_charges</th>\n      <td>65.25</td>\n      <td>70.3</td>\n      <td>104.65</td>\n      <td>44.95</td>\n      <td>79.20</td>\n    </tr>\n    <tr>\n      <th>total_charges</th>\n      <td>3529.95</td>\n      <td>144.0</td>\n      <td>7288.40</td>\n      <td>44.95</td>\n      <td>943.85</td>\n    </tr>\n    <tr>\n      <th>has_add_ons</th>\n      <td>1.00</td>\n      <td>0.0</td>\n      <td>1.00</td>\n      <td>0.00</td>\n      <td>1.00</td>\n    </tr>\n    <tr>\n      <th>has_internet</th>\n      <td>1.00</td>\n      <td>1.0</td>\n      <td>1.00</td>\n      <td>1.00</td>\n      <td>1.00</td>\n    </tr>\n    <tr>\n      <th>monthly_contract</th>\n      <td>0.00</td>\n      <td>1.0</td>\n      <td>0.00</td>\n      <td>1.00</td>\n      <td>0.00</td>\n    </tr>\n    <tr>\n      <th>automatic_payment</th>\n      <td>1.00</td>\n      <td>0.0</td>\n      <td>1.00</td>\n      <td>0.00</td>\n      <td>0.00</td>\n    </tr>\n    <tr>\n      <th>is_male</th>\n      <td>1.00</td>\n      <td>1.0</td>\n      <td>1.00</td>\n      <td>1.00</td>\n      <td>0.00</td>\n    </tr>\n  </tbody>\n</table>\n</div>"
     },
     "execution_count": 44,
     "metadata": {},
     "output_type": "execute_result"
    }
   ],
   "source": [
    "X_train.head().T"
   ],
   "metadata": {
    "collapsed": false,
    "ExecuteTime": {
     "end_time": "2023-12-05T21:57:49.458052Z",
     "start_time": "2023-12-05T21:57:48.891023Z"
    }
   },
   "id": "1658fa24577f20dd"
  },
  {
   "cell_type": "code",
   "execution_count": 47,
   "outputs": [
    {
     "data": {
      "text/plain": "Index(['senior_citizen', 'partner', 'dependents', 'tenure', 'phone_service',\n       'multiple_lines', 'streaming_tv', 'streaming_movies', 'monthly_charges',\n       'total_charges', 'churn', 'has_add_ons', 'has_internet',\n       'monthly_contract', 'automatic_payment', 'is_male'],\n      dtype='object')"
     },
     "execution_count": 47,
     "metadata": {},
     "output_type": "execute_result"
    }
   ],
   "source": [
    "train.columns"
   ],
   "metadata": {
    "collapsed": false,
    "ExecuteTime": {
     "end_time": "2023-12-06T03:49:05.454553Z",
     "start_time": "2023-12-06T03:49:05.201196Z"
    }
   },
   "id": "b942e465832e34ce"
  },
  {
   "cell_type": "code",
   "execution_count": 45,
   "outputs": [
    {
     "name": "stdout",
     "output_type": "stream",
     "text": [
      "max depth of 1, the accuracy train = 0.73, val = 0.73\n",
      "max depth of 2, the accuracy train = 0.76, val = 0.75\n",
      "max depth of 3, the accuracy train = 0.79, val = 0.79\n",
      "max depth of 4, the accuracy train = 0.79, val = 0.8\n",
      "max depth of 5, the accuracy train = 0.8, val = 0.8\n",
      "max depth of 6, the accuracy train = 0.81, val = 0.79\n",
      "max depth of 7, the accuracy train = 0.82, val = 0.79\n",
      "max depth of 8, the accuracy train = 0.83, val = 0.78\n",
      "max depth of 9, the accuracy train = 0.85, val = 0.76\n",
      "max depth of 10, the accuracy train = 0.87, val = 0.77\n",
      "max depth of 11, the accuracy train = 0.89, val = 0.75\n",
      "max depth of 12, the accuracy train = 0.91, val = 0.74\n",
      "max depth of 13, the accuracy train = 0.93, val = 0.74\n"
     ]
    }
   ],
   "source": [
    "# now trying out many different max depth to see which one gives best result on the train and validate\n",
    "for x in range(1,14):\n",
    "    #create the object\n",
    "    tree = DecisionTreeClassifier(max_depth=x)\n",
    "    \n",
    "    #fit the object\n",
    "    tree.fit(X_train, y_train) \n",
    "    \n",
    "    #calculate the accuracy for train\n",
    "    acc = tree.score(X_train, y_train)\n",
    "    \n",
    "    #calculate the accuracy for validate\n",
    "    acc_v = tree.score(X_val, y_val)\n",
    "    \n",
    "    print(f'max depth of {x}, the accuracy train = {round(acc,2)}, val = {round(acc_v,2)}')"
   ],
   "metadata": {
    "collapsed": false,
    "ExecuteTime": {
     "end_time": "2023-12-05T21:58:13.991771Z",
     "start_time": "2023-12-05T21:58:13.821281Z"
    }
   },
   "id": "85d91225e4dd951f"
  },
  {
   "cell_type": "code",
   "execution_count": 46,
   "outputs": [],
   "source": [
    "tree = DecisionTreeClassifier(max_depth=5)"
   ],
   "metadata": {
    "collapsed": false,
    "ExecuteTime": {
     "end_time": "2023-12-05T21:58:49.930982Z",
     "start_time": "2023-12-05T21:58:49.795929Z"
    }
   },
   "id": "a1f5bcd8dd90c68"
  },
  {
   "cell_type": "code",
   "execution_count": 15,
   "outputs": [],
   "source": [
    "acc_test = tree.score(X_test, y_test)"
   ],
   "metadata": {
    "collapsed": false,
    "ExecuteTime": {
     "end_time": "2023-12-05T21:50:57.314489Z",
     "start_time": "2023-12-05T21:50:57.160620Z"
    }
   },
   "id": "e3d297bfe4be055b"
  },
  {
   "cell_type": "code",
   "execution_count": 16,
   "outputs": [],
   "source": [
    "from sklearn.metrics import accuracy_score"
   ],
   "metadata": {
    "collapsed": false,
    "ExecuteTime": {
     "end_time": "2023-12-05T21:51:00.285688Z",
     "start_time": "2023-12-05T21:50:59.855992Z"
    }
   },
   "id": "27bb5cce33f966b5"
  },
  {
   "cell_type": "code",
   "execution_count": 25,
   "outputs": [
    {
     "data": {
      "text/plain": "0.7697228144989339"
     },
     "execution_count": 25,
     "metadata": {},
     "output_type": "execute_result"
    }
   ],
   "source": [
    "accuracy_score(y_test, csv.churn_predict)"
   ],
   "metadata": {
    "collapsed": false,
    "ExecuteTime": {
     "end_time": "2023-12-05T21:51:17.115426Z",
     "start_time": "2023-12-05T21:51:17.014424Z"
    }
   },
   "id": "c767addb40cdd09a"
  },
  {
   "cell_type": "code",
   "execution_count": 20,
   "outputs": [],
   "source": [
    "csv =pd.DataFrame(tree.predict_proba(X_test))"
   ],
   "metadata": {
    "collapsed": false,
    "ExecuteTime": {
     "end_time": "2023-12-05T21:51:11.855263Z",
     "start_time": "2023-12-05T21:51:11.627114Z"
    }
   },
   "id": "7f286eb864939d52"
  },
  {
   "cell_type": "code",
   "execution_count": 21,
   "outputs": [
    {
     "data": {
      "text/plain": "             0         1\n0     1.000000  0.000000\n1     1.000000  0.000000\n2     1.000000  0.000000\n3     1.000000  0.000000\n4     0.829787  0.170213\n...        ...       ...\n1402  0.000000  1.000000\n1403  1.000000  0.000000\n1404  0.677966  0.322034\n1405  1.000000  0.000000\n1406  1.000000  0.000000\n\n[1407 rows x 2 columns]",
      "text/html": "<div>\n<style scoped>\n    .dataframe tbody tr th:only-of-type {\n        vertical-align: middle;\n    }\n\n    .dataframe tbody tr th {\n        vertical-align: top;\n    }\n\n    .dataframe thead th {\n        text-align: right;\n    }\n</style>\n<table border=\"1\" class=\"dataframe\">\n  <thead>\n    <tr style=\"text-align: right;\">\n      <th></th>\n      <th>0</th>\n      <th>1</th>\n    </tr>\n  </thead>\n  <tbody>\n    <tr>\n      <th>0</th>\n      <td>1.000000</td>\n      <td>0.000000</td>\n    </tr>\n    <tr>\n      <th>1</th>\n      <td>1.000000</td>\n      <td>0.000000</td>\n    </tr>\n    <tr>\n      <th>2</th>\n      <td>1.000000</td>\n      <td>0.000000</td>\n    </tr>\n    <tr>\n      <th>3</th>\n      <td>1.000000</td>\n      <td>0.000000</td>\n    </tr>\n    <tr>\n      <th>4</th>\n      <td>0.829787</td>\n      <td>0.170213</td>\n    </tr>\n    <tr>\n      <th>...</th>\n      <td>...</td>\n      <td>...</td>\n    </tr>\n    <tr>\n      <th>1402</th>\n      <td>0.000000</td>\n      <td>1.000000</td>\n    </tr>\n    <tr>\n      <th>1403</th>\n      <td>1.000000</td>\n      <td>0.000000</td>\n    </tr>\n    <tr>\n      <th>1404</th>\n      <td>0.677966</td>\n      <td>0.322034</td>\n    </tr>\n    <tr>\n      <th>1405</th>\n      <td>1.000000</td>\n      <td>0.000000</td>\n    </tr>\n    <tr>\n      <th>1406</th>\n      <td>1.000000</td>\n      <td>0.000000</td>\n    </tr>\n  </tbody>\n</table>\n<p>1407 rows × 2 columns</p>\n</div>"
     },
     "execution_count": 21,
     "metadata": {},
     "output_type": "execute_result"
    }
   ],
   "source": [
    "csv"
   ],
   "metadata": {
    "collapsed": false,
    "ExecuteTime": {
     "end_time": "2023-12-05T21:51:12.004325Z",
     "start_time": "2023-12-05T21:51:11.694019Z"
    }
   },
   "id": "d3e20fc967a1cb00"
  },
  {
   "cell_type": "code",
   "execution_count": 22,
   "outputs": [],
   "source": [
    "csv['customer_id'] = test.index"
   ],
   "metadata": {
    "collapsed": false,
    "ExecuteTime": {
     "end_time": "2023-12-05T21:51:12.279184Z",
     "start_time": "2023-12-05T21:51:11.919108Z"
    }
   },
   "id": "63092402a479bd56"
  },
  {
   "cell_type": "code",
   "execution_count": 23,
   "outputs": [],
   "source": [
    "csv['churn_predict'] = y_pred_test"
   ],
   "metadata": {
    "collapsed": false,
    "ExecuteTime": {
     "end_time": "2023-12-05T21:51:12.563621Z",
     "start_time": "2023-12-05T21:51:12.218033Z"
    }
   },
   "id": "622e55e46195ca56"
  },
  {
   "cell_type": "code",
   "execution_count": 24,
   "outputs": [
    {
     "data": {
      "text/plain": "          0         1 customer_id  churn_predict\n0  1.000000  0.000000  2706-QZIHY              0\n1  1.000000  0.000000  5324-KTGCG              0\n2  1.000000  0.000000  6637-KYRCV              0\n3  1.000000  0.000000  7207-RMRDB              0\n4  0.829787  0.170213  7217-JYHOQ              0",
      "text/html": "<div>\n<style scoped>\n    .dataframe tbody tr th:only-of-type {\n        vertical-align: middle;\n    }\n\n    .dataframe tbody tr th {\n        vertical-align: top;\n    }\n\n    .dataframe thead th {\n        text-align: right;\n    }\n</style>\n<table border=\"1\" class=\"dataframe\">\n  <thead>\n    <tr style=\"text-align: right;\">\n      <th></th>\n      <th>0</th>\n      <th>1</th>\n      <th>customer_id</th>\n      <th>churn_predict</th>\n    </tr>\n  </thead>\n  <tbody>\n    <tr>\n      <th>0</th>\n      <td>1.000000</td>\n      <td>0.000000</td>\n      <td>2706-QZIHY</td>\n      <td>0</td>\n    </tr>\n    <tr>\n      <th>1</th>\n      <td>1.000000</td>\n      <td>0.000000</td>\n      <td>5324-KTGCG</td>\n      <td>0</td>\n    </tr>\n    <tr>\n      <th>2</th>\n      <td>1.000000</td>\n      <td>0.000000</td>\n      <td>6637-KYRCV</td>\n      <td>0</td>\n    </tr>\n    <tr>\n      <th>3</th>\n      <td>1.000000</td>\n      <td>0.000000</td>\n      <td>7207-RMRDB</td>\n      <td>0</td>\n    </tr>\n    <tr>\n      <th>4</th>\n      <td>0.829787</td>\n      <td>0.170213</td>\n      <td>7217-JYHOQ</td>\n      <td>0</td>\n    </tr>\n  </tbody>\n</table>\n</div>"
     },
     "execution_count": 24,
     "metadata": {},
     "output_type": "execute_result"
    }
   ],
   "source": [
    "csv.head()"
   ],
   "metadata": {
    "collapsed": false,
    "ExecuteTime": {
     "end_time": "2023-12-05T21:51:13.131752Z",
     "start_time": "2023-12-05T21:51:13.077198Z"
    }
   },
   "id": "39cde230eaeb8619"
  },
  {
   "cell_type": "code",
   "execution_count": null,
   "outputs": [],
   "source": [],
   "metadata": {
    "collapsed": false
   },
   "id": "2a0a4f048607fc35"
  }
 ],
 "metadata": {
  "kernelspec": {
   "display_name": "Python 3",
   "language": "python",
   "name": "python3"
  },
  "language_info": {
   "codemirror_mode": {
    "name": "ipython",
    "version": 2
   },
   "file_extension": ".py",
   "mimetype": "text/x-python",
   "name": "python",
   "nbconvert_exporter": "python",
   "pygments_lexer": "ipython2",
   "version": "2.7.6"
  }
 },
 "nbformat": 4,
 "nbformat_minor": 5
}
