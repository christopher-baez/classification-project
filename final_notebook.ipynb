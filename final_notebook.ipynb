{
 "cells": [
  {
   "cell_type": "markdown",
   "source": [
    "# IMPORTS"
   ],
   "metadata": {
    "collapsed": false
   },
   "id": "5eb06c0e8e052bab"
  },
  {
   "cell_type": "code",
   "execution_count": 15,
   "id": "initial_id",
   "metadata": {
    "collapsed": true,
    "ExecuteTime": {
     "end_time": "2023-12-01T20:50:59.739919Z",
     "start_time": "2023-12-01T20:50:59.586693Z"
    }
   },
   "outputs": [],
   "source": [
    "# importing all the imports needed for this phase\n",
    "# data manipulation\n",
    "import pandas as pd\n",
    "import numpy as np\n",
    "\n",
    "# visuals\n",
    "import matplotlib.pyplot as plt\n",
    "import seaborn as sns\n",
    "\n",
    "# personal import\n",
    "import created_functions as cf\n",
    "import env\n",
    "\n",
    "# sk imports\n",
    "from sklearn.model_selection import train_test_split"
   ]
  },
  {
   "cell_type": "markdown",
   "source": [
    "# ACQUIRE"
   ],
   "metadata": {
    "collapsed": false
   },
   "id": "a55eaa36c32df36"
  },
  {
   "cell_type": "code",
   "execution_count": 16,
   "outputs": [
    {
     "name": "stdout",
     "output_type": "stream",
     "text": [
      "this file exists, reading csv\n"
     ]
    }
   ],
   "source": [
    "# getting data from SQL\n",
    "df =cf.get_telco_data()"
   ],
   "metadata": {
    "collapsed": false,
    "ExecuteTime": {
     "end_time": "2023-12-01T20:50:59.800121Z",
     "start_time": "2023-12-01T20:50:59.593329Z"
    }
   },
   "id": "f4ba7b831c2e7976"
  },
  {
   "cell_type": "code",
   "execution_count": 17,
   "outputs": [
    {
     "data": {
      "text/plain": "            payment_type_id  internet_service_type_id  contract_type_id  \\\nUnnamed: 0                                                                \n0                         2                         1                 2   \n1                         2                         1                 1   \n2                         1                         2                 1   \n3                         1                         2                 1   \n4                         2                         2                 1   \n\n           customer_id  gender  senior_citizen partner dependents  tenure  \\\nUnnamed: 0                                                                  \n0           0002-ORFBO  Female               0     Yes        Yes       9   \n1           0003-MKNFE    Male               0      No         No       9   \n2           0004-TLHLJ    Male               0      No         No       4   \n3           0011-IGKFF    Male               1     Yes         No      13   \n4           0013-EXCHZ  Female               1     Yes         No       3   \n\n           phone_service  ... tech_support streaming_tv streaming_movies  \\\nUnnamed: 0                ...                                              \n0                    Yes  ...          Yes          Yes               No   \n1                    Yes  ...           No           No              Yes   \n2                    Yes  ...           No           No               No   \n3                    Yes  ...           No          Yes              Yes   \n4                    Yes  ...          Yes          Yes               No   \n\n           paperless_billing monthly_charges total_charges churn  \\\nUnnamed: 0                                                         \n0                        Yes            65.6         593.3    No   \n1                         No            59.9         542.4    No   \n2                        Yes            73.9        280.85   Yes   \n3                        Yes            98.0       1237.85   Yes   \n4                        Yes            83.9         267.4   Yes   \n\n             contract_type  internet_service_type      payment_type  \nUnnamed: 0                                                           \n0                 One year                    DSL      Mailed check  \n1           Month-to-month                    DSL      Mailed check  \n2           Month-to-month            Fiber optic  Electronic check  \n3           Month-to-month            Fiber optic  Electronic check  \n4           Month-to-month            Fiber optic      Mailed check  \n\n[5 rows x 24 columns]",
      "text/html": "<div>\n<style scoped>\n    .dataframe tbody tr th:only-of-type {\n        vertical-align: middle;\n    }\n\n    .dataframe tbody tr th {\n        vertical-align: top;\n    }\n\n    .dataframe thead th {\n        text-align: right;\n    }\n</style>\n<table border=\"1\" class=\"dataframe\">\n  <thead>\n    <tr style=\"text-align: right;\">\n      <th></th>\n      <th>payment_type_id</th>\n      <th>internet_service_type_id</th>\n      <th>contract_type_id</th>\n      <th>customer_id</th>\n      <th>gender</th>\n      <th>senior_citizen</th>\n      <th>partner</th>\n      <th>dependents</th>\n      <th>tenure</th>\n      <th>phone_service</th>\n      <th>...</th>\n      <th>tech_support</th>\n      <th>streaming_tv</th>\n      <th>streaming_movies</th>\n      <th>paperless_billing</th>\n      <th>monthly_charges</th>\n      <th>total_charges</th>\n      <th>churn</th>\n      <th>contract_type</th>\n      <th>internet_service_type</th>\n      <th>payment_type</th>\n    </tr>\n    <tr>\n      <th>Unnamed: 0</th>\n      <th></th>\n      <th></th>\n      <th></th>\n      <th></th>\n      <th></th>\n      <th></th>\n      <th></th>\n      <th></th>\n      <th></th>\n      <th></th>\n      <th></th>\n      <th></th>\n      <th></th>\n      <th></th>\n      <th></th>\n      <th></th>\n      <th></th>\n      <th></th>\n      <th></th>\n      <th></th>\n      <th></th>\n    </tr>\n  </thead>\n  <tbody>\n    <tr>\n      <th>0</th>\n      <td>2</td>\n      <td>1</td>\n      <td>2</td>\n      <td>0002-ORFBO</td>\n      <td>Female</td>\n      <td>0</td>\n      <td>Yes</td>\n      <td>Yes</td>\n      <td>9</td>\n      <td>Yes</td>\n      <td>...</td>\n      <td>Yes</td>\n      <td>Yes</td>\n      <td>No</td>\n      <td>Yes</td>\n      <td>65.6</td>\n      <td>593.3</td>\n      <td>No</td>\n      <td>One year</td>\n      <td>DSL</td>\n      <td>Mailed check</td>\n    </tr>\n    <tr>\n      <th>1</th>\n      <td>2</td>\n      <td>1</td>\n      <td>1</td>\n      <td>0003-MKNFE</td>\n      <td>Male</td>\n      <td>0</td>\n      <td>No</td>\n      <td>No</td>\n      <td>9</td>\n      <td>Yes</td>\n      <td>...</td>\n      <td>No</td>\n      <td>No</td>\n      <td>Yes</td>\n      <td>No</td>\n      <td>59.9</td>\n      <td>542.4</td>\n      <td>No</td>\n      <td>Month-to-month</td>\n      <td>DSL</td>\n      <td>Mailed check</td>\n    </tr>\n    <tr>\n      <th>2</th>\n      <td>1</td>\n      <td>2</td>\n      <td>1</td>\n      <td>0004-TLHLJ</td>\n      <td>Male</td>\n      <td>0</td>\n      <td>No</td>\n      <td>No</td>\n      <td>4</td>\n      <td>Yes</td>\n      <td>...</td>\n      <td>No</td>\n      <td>No</td>\n      <td>No</td>\n      <td>Yes</td>\n      <td>73.9</td>\n      <td>280.85</td>\n      <td>Yes</td>\n      <td>Month-to-month</td>\n      <td>Fiber optic</td>\n      <td>Electronic check</td>\n    </tr>\n    <tr>\n      <th>3</th>\n      <td>1</td>\n      <td>2</td>\n      <td>1</td>\n      <td>0011-IGKFF</td>\n      <td>Male</td>\n      <td>1</td>\n      <td>Yes</td>\n      <td>No</td>\n      <td>13</td>\n      <td>Yes</td>\n      <td>...</td>\n      <td>No</td>\n      <td>Yes</td>\n      <td>Yes</td>\n      <td>Yes</td>\n      <td>98.0</td>\n      <td>1237.85</td>\n      <td>Yes</td>\n      <td>Month-to-month</td>\n      <td>Fiber optic</td>\n      <td>Electronic check</td>\n    </tr>\n    <tr>\n      <th>4</th>\n      <td>2</td>\n      <td>2</td>\n      <td>1</td>\n      <td>0013-EXCHZ</td>\n      <td>Female</td>\n      <td>1</td>\n      <td>Yes</td>\n      <td>No</td>\n      <td>3</td>\n      <td>Yes</td>\n      <td>...</td>\n      <td>Yes</td>\n      <td>Yes</td>\n      <td>No</td>\n      <td>Yes</td>\n      <td>83.9</td>\n      <td>267.4</td>\n      <td>Yes</td>\n      <td>Month-to-month</td>\n      <td>Fiber optic</td>\n      <td>Mailed check</td>\n    </tr>\n  </tbody>\n</table>\n<p>5 rows × 24 columns</p>\n</div>"
     },
     "execution_count": 17,
     "metadata": {},
     "output_type": "execute_result"
    }
   ],
   "source": [
    "df.head()"
   ],
   "metadata": {
    "collapsed": false,
    "ExecuteTime": {
     "end_time": "2023-12-01T20:50:59.814728Z",
     "start_time": "2023-12-01T20:50:59.688958Z"
    }
   },
   "id": "c97e1c2e8cf5f27b"
  },
  {
   "cell_type": "code",
   "execution_count": 18,
   "outputs": [
    {
     "data": {
      "text/plain": "(7043, 24)"
     },
     "execution_count": 18,
     "metadata": {},
     "output_type": "execute_result"
    }
   ],
   "source": [
    "df.shape"
   ],
   "metadata": {
    "collapsed": false,
    "ExecuteTime": {
     "end_time": "2023-12-01T20:50:59.815291Z",
     "start_time": "2023-12-01T20:50:59.703354Z"
    }
   },
   "id": "eda1b9e748d214cc"
  },
  {
   "cell_type": "markdown",
   "source": [
    ">there are 7043 rows and 24 columns"
   ],
   "metadata": {
    "collapsed": false
   },
   "id": "f95c1da2ec22b638"
  },
  {
   "cell_type": "markdown",
   "source": [
    "important\n",
    "> gender\n",
    "> tenure\n",
    "> senior\n",
    "> monthly"
   ],
   "metadata": {
    "collapsed": false
   },
   "id": "9e4e6077049d0a1d"
  },
  {
   "cell_type": "markdown",
   "source": [
    "unimportant\n",
    "> payment_type_id\n",
    "> internet_service_type\n",
    "> contract_type_id\n",
    "> customer_id ( theres already an index)  "
   ],
   "metadata": {
    "collapsed": false
   },
   "id": "66086cbb62964fe4"
  },
  {
   "cell_type": "markdown",
   "source": [
    "# PREPARE"
   ],
   "metadata": {
    "collapsed": false
   },
   "id": "e6ad3ac142a258b8"
  },
  {
   "cell_type": "code",
   "execution_count": 19,
   "outputs": [],
   "source": [
    "df = cf.prep_telco(df)"
   ],
   "metadata": {
    "collapsed": false,
    "ExecuteTime": {
     "end_time": "2023-12-01T20:50:59.815392Z",
     "start_time": "2023-12-01T20:50:59.710271Z"
    }
   },
   "id": "5b95316aee78df0d"
  },
  {
   "cell_type": "code",
   "execution_count": 20,
   "outputs": [
    {
     "data": {
      "text/plain": "            gender  senior_citizen partner dependents  tenure phone_service  \\\nUnnamed: 0                                                                    \n0           Female               0     Yes        Yes       9           Yes   \n1             Male               0      No         No       9           Yes   \n2             Male               0      No         No       4           Yes   \n3             Male               1     Yes         No      13           Yes   \n4           Female               1     Yes         No       3           Yes   \n\n           multiple_lines online_security online_backup device_protection  \\\nUnnamed: 0                                                                  \n0                      No              No           Yes                No   \n1                     Yes              No            No                No   \n2                      No              No            No               Yes   \n3                      No              No           Yes               Yes   \n4                      No              No            No                No   \n\n           tech_support streaming_tv streaming_movies paperless_billing  \\\nUnnamed: 0                                                                \n0                   Yes          Yes               No               Yes   \n1                    No           No              Yes                No   \n2                    No           No               No               Yes   \n3                    No          Yes              Yes               Yes   \n4                   Yes          Yes               No               Yes   \n\n            monthly_charges total_charges churn   contract_type  \\\nUnnamed: 0                                                        \n0                      65.6         593.3    No        One year   \n1                      59.9         542.4    No  Month-to-month   \n2                      73.9        280.85   Yes  Month-to-month   \n3                      98.0       1237.85   Yes  Month-to-month   \n4                      83.9         267.4   Yes  Month-to-month   \n\n           internet_service_type      payment_type  \nUnnamed: 0                                          \n0                            DSL      Mailed check  \n1                            DSL      Mailed check  \n2                    Fiber optic  Electronic check  \n3                    Fiber optic  Electronic check  \n4                    Fiber optic      Mailed check  ",
      "text/html": "<div>\n<style scoped>\n    .dataframe tbody tr th:only-of-type {\n        vertical-align: middle;\n    }\n\n    .dataframe tbody tr th {\n        vertical-align: top;\n    }\n\n    .dataframe thead th {\n        text-align: right;\n    }\n</style>\n<table border=\"1\" class=\"dataframe\">\n  <thead>\n    <tr style=\"text-align: right;\">\n      <th></th>\n      <th>gender</th>\n      <th>senior_citizen</th>\n      <th>partner</th>\n      <th>dependents</th>\n      <th>tenure</th>\n      <th>phone_service</th>\n      <th>multiple_lines</th>\n      <th>online_security</th>\n      <th>online_backup</th>\n      <th>device_protection</th>\n      <th>tech_support</th>\n      <th>streaming_tv</th>\n      <th>streaming_movies</th>\n      <th>paperless_billing</th>\n      <th>monthly_charges</th>\n      <th>total_charges</th>\n      <th>churn</th>\n      <th>contract_type</th>\n      <th>internet_service_type</th>\n      <th>payment_type</th>\n    </tr>\n    <tr>\n      <th>Unnamed: 0</th>\n      <th></th>\n      <th></th>\n      <th></th>\n      <th></th>\n      <th></th>\n      <th></th>\n      <th></th>\n      <th></th>\n      <th></th>\n      <th></th>\n      <th></th>\n      <th></th>\n      <th></th>\n      <th></th>\n      <th></th>\n      <th></th>\n      <th></th>\n      <th></th>\n      <th></th>\n      <th></th>\n    </tr>\n  </thead>\n  <tbody>\n    <tr>\n      <th>0</th>\n      <td>Female</td>\n      <td>0</td>\n      <td>Yes</td>\n      <td>Yes</td>\n      <td>9</td>\n      <td>Yes</td>\n      <td>No</td>\n      <td>No</td>\n      <td>Yes</td>\n      <td>No</td>\n      <td>Yes</td>\n      <td>Yes</td>\n      <td>No</td>\n      <td>Yes</td>\n      <td>65.6</td>\n      <td>593.3</td>\n      <td>No</td>\n      <td>One year</td>\n      <td>DSL</td>\n      <td>Mailed check</td>\n    </tr>\n    <tr>\n      <th>1</th>\n      <td>Male</td>\n      <td>0</td>\n      <td>No</td>\n      <td>No</td>\n      <td>9</td>\n      <td>Yes</td>\n      <td>Yes</td>\n      <td>No</td>\n      <td>No</td>\n      <td>No</td>\n      <td>No</td>\n      <td>No</td>\n      <td>Yes</td>\n      <td>No</td>\n      <td>59.9</td>\n      <td>542.4</td>\n      <td>No</td>\n      <td>Month-to-month</td>\n      <td>DSL</td>\n      <td>Mailed check</td>\n    </tr>\n    <tr>\n      <th>2</th>\n      <td>Male</td>\n      <td>0</td>\n      <td>No</td>\n      <td>No</td>\n      <td>4</td>\n      <td>Yes</td>\n      <td>No</td>\n      <td>No</td>\n      <td>No</td>\n      <td>Yes</td>\n      <td>No</td>\n      <td>No</td>\n      <td>No</td>\n      <td>Yes</td>\n      <td>73.9</td>\n      <td>280.85</td>\n      <td>Yes</td>\n      <td>Month-to-month</td>\n      <td>Fiber optic</td>\n      <td>Electronic check</td>\n    </tr>\n    <tr>\n      <th>3</th>\n      <td>Male</td>\n      <td>1</td>\n      <td>Yes</td>\n      <td>No</td>\n      <td>13</td>\n      <td>Yes</td>\n      <td>No</td>\n      <td>No</td>\n      <td>Yes</td>\n      <td>Yes</td>\n      <td>No</td>\n      <td>Yes</td>\n      <td>Yes</td>\n      <td>Yes</td>\n      <td>98.0</td>\n      <td>1237.85</td>\n      <td>Yes</td>\n      <td>Month-to-month</td>\n      <td>Fiber optic</td>\n      <td>Electronic check</td>\n    </tr>\n    <tr>\n      <th>4</th>\n      <td>Female</td>\n      <td>1</td>\n      <td>Yes</td>\n      <td>No</td>\n      <td>3</td>\n      <td>Yes</td>\n      <td>No</td>\n      <td>No</td>\n      <td>No</td>\n      <td>No</td>\n      <td>Yes</td>\n      <td>Yes</td>\n      <td>No</td>\n      <td>Yes</td>\n      <td>83.9</td>\n      <td>267.4</td>\n      <td>Yes</td>\n      <td>Month-to-month</td>\n      <td>Fiber optic</td>\n      <td>Mailed check</td>\n    </tr>\n  </tbody>\n</table>\n</div>"
     },
     "execution_count": 20,
     "metadata": {},
     "output_type": "execute_result"
    }
   ],
   "source": [
    "df.head()"
   ],
   "metadata": {
    "collapsed": false,
    "ExecuteTime": {
     "end_time": "2023-12-01T20:50:59.816072Z",
     "start_time": "2023-12-01T20:50:59.728066Z"
    }
   },
   "id": "64aa62b99c840937"
  },
  {
   "cell_type": "markdown",
   "source": [
    "### changes to data\n",
    "this  function takes in the telco database and cleans it\n",
    "#### deletes\n",
    "    payment type id\n",
    "    internet service id\n",
    "    contract type id\n",
    "    customer id\n",
    "turns total charges into a float by deleting empty spaces"
   ],
   "metadata": {
    "collapsed": false
   },
   "id": "7da982652bc1d275"
  },
  {
   "cell_type": "code",
   "execution_count": 26,
   "outputs": [],
   "source": [
    "#combining the add on columns into 1\n",
    "#adding 1 for addons and 0 for no addons\n",
    "df['has_add_ons'] = df[['online_security'\n",
    "    , 'online_backup', 'device_protection', 'tech_support']].apply(\n",
    "    lambda row: 1 if any(x == 'Yes' for x in row) else 0, \n",
    "    axis=1\n",
    ")"
   ],
   "metadata": {
    "collapsed": false,
    "ExecuteTime": {
     "end_time": "2023-12-01T21:19:46.401649Z",
     "start_time": "2023-12-01T21:19:46.340470Z"
    }
   },
   "id": "76b7d52a09d31c4c"
  },
  {
   "cell_type": "markdown",
   "source": [
    "### data splitting"
   ],
   "metadata": {
    "collapsed": false
   },
   "id": "75de7ea676dfe8bb"
  },
  {
   "cell_type": "code",
   "execution_count": 27,
   "outputs": [],
   "source": [
    "# splitting the data\n",
    "train, validate, test = cf.splitting_data(df, 'churn')"
   ],
   "metadata": {
    "collapsed": false,
    "ExecuteTime": {
     "end_time": "2023-12-01T21:19:47.910482Z",
     "start_time": "2023-12-01T21:19:47.891031Z"
    }
   },
   "id": "b3e017c27dfaa64f"
  },
  {
   "cell_type": "code",
   "execution_count": 28,
   "outputs": [
    {
     "data": {
      "text/plain": "((4219, 21), (1406, 21), (1407, 21))"
     },
     "execution_count": 28,
     "metadata": {},
     "output_type": "execute_result"
    }
   ],
   "source": [
    "# checking out new variable\n",
    "train.shape, validate.shape, test.shape"
   ],
   "metadata": {
    "collapsed": false,
    "ExecuteTime": {
     "end_time": "2023-12-01T21:19:50.015124Z",
     "start_time": "2023-12-01T21:19:49.971017Z"
    }
   },
   "id": "e5711e8fccb2954d"
  },
  {
   "cell_type": "markdown",
   "source": [
    "## PREPROCESS\n"
   ],
   "metadata": {
    "collapsed": false
   },
   "id": "2078abae085c6597"
  },
  {
   "cell_type": "code",
   "execution_count": 23,
   "outputs": [],
   "source": [],
   "metadata": {
    "collapsed": false,
    "ExecuteTime": {
     "end_time": "2023-12-01T20:50:59.953215Z",
     "start_time": "2023-12-01T20:50:59.800930Z"
    }
   },
   "id": "4ce1f7c7abde61f9"
  },
  {
   "cell_type": "code",
   "execution_count": 23,
   "outputs": [],
   "source": [],
   "metadata": {
    "collapsed": false,
    "ExecuteTime": {
     "end_time": "2023-12-01T20:50:59.953282Z",
     "start_time": "2023-12-01T20:50:59.803046Z"
    }
   },
   "id": "9df622435369a673"
  }
 ],
 "metadata": {
  "kernelspec": {
   "display_name": "Python 3",
   "language": "python",
   "name": "python3"
  },
  "language_info": {
   "codemirror_mode": {
    "name": "ipython",
    "version": 2
   },
   "file_extension": ".py",
   "mimetype": "text/x-python",
   "name": "python",
   "nbconvert_exporter": "python",
   "pygments_lexer": "ipython2",
   "version": "2.7.6"
  }
 },
 "nbformat": 4,
 "nbformat_minor": 5
}
