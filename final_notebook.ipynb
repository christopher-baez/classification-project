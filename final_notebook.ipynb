{
 "cells": [
  {
   "cell_type": "markdown",
   "id": "5eb06c0e8e052bab",
   "metadata": {},
   "source": [
    "# IMPORTS"
   ]
  },
  {
   "cell_type": "code",
   "execution_count": 2,
   "id": "initial_id",
   "metadata": {
    "collapsed": true,
    "ExecuteTime": {
     "end_time": "2023-12-11T19:44:04.879353Z",
     "start_time": "2023-12-11T19:44:04.871819Z"
    }
   },
   "outputs": [],
   "source": [
    "# importing all the imports needed for this phase\n",
    "# data manipulation\n",
    "import pandas as pd\n",
    "import numpy as np\n",
    "\n",
    "# visuals\n",
    "import matplotlib.pyplot as plt\n",
    "import seaborn as sns\n",
    "\n",
    "# personal import\n",
    "import acquire as a\n",
    "import prepare as p\n",
    "import explore as e\n",
    "import env\n",
    "import MODEL as m\n",
    "\n",
    "\n",
    "#stats import\n",
    "from scipy import stats\n",
    "\n",
    "# ML stuff:\n",
    "from sklearn.metrics import accuracy_score, classification_report\n",
    "from sklearn.tree import DecisionTreeClassifier, \\\n",
    "export_text, plot_tree\n",
    "from sklearn.model_selection import train_test_split\n",
    "from sklearn.ensemble import RandomForestClassifier"
   ]
  },
  {
   "cell_type": "code",
   "execution_count": null,
   "outputs": [],
   "source": [],
   "metadata": {
    "collapsed": false
   },
   "id": "7fc7d2660b5c7489"
  },
  {
   "cell_type": "markdown",
   "id": "79c92a029b248674",
   "metadata": {},
   "source": []
  },
  {
   "cell_type": "markdown",
   "id": "3f8c561ff24ba54",
   "metadata": {},
   "source": [
    "# goal"
   ]
  },
  {
   "cell_type": "markdown",
   "id": "41a094fa4fc4cced",
   "metadata": {},
   "source": [
    "figure out what is driving customers to leave the company and create a model to indentify high risk clients and prevent future clients from churning"
   ]
  },
  {
   "cell_type": "markdown",
   "id": "a55eaa36c32df36",
   "metadata": {},
   "source": [
    "# ACQUIRE"
   ]
  },
  {
   "cell_type": "code",
   "execution_count": 2,
   "id": "f4ba7b831c2e7976",
   "metadata": {
    "ExecuteTime": {
     "end_time": "2023-12-10T22:47:44.254090Z",
     "start_time": "2023-12-10T22:47:44.222418Z"
    }
   },
   "outputs": [
    {
     "name": "stdout",
     "output_type": "stream",
     "text": [
      "this file exists, reading csv\n"
     ]
    }
   ],
   "source": [
    "# getting data from SQL\n",
    "df =a.get_telco_data()"
   ]
  },
  {
   "cell_type": "code",
   "execution_count": 3,
   "id": "c97e1c2e8cf5f27b",
   "metadata": {
    "ExecuteTime": {
     "end_time": "2023-12-10T22:47:44.262716Z",
     "start_time": "2023-12-10T22:47:44.253844Z"
    }
   },
   "outputs": [
    {
     "data": {
      "text/plain": "             Unnamed: 0  payment_type_id  internet_service_type_id  \\\ncustomer_id                                                          \n0002-ORFBO            0                2                         1   \n0003-MKNFE            1                2                         1   \n0004-TLHLJ            2                1                         2   \n0011-IGKFF            3                1                         2   \n0013-EXCHZ            4                2                         2   \n\n             contract_type_id  gender  senior_citizen partner dependents  \\\ncustomer_id                                                                \n0002-ORFBO                  2  Female               0     Yes        Yes   \n0003-MKNFE                  1    Male               0      No         No   \n0004-TLHLJ                  1    Male               0      No         No   \n0011-IGKFF                  1    Male               1     Yes         No   \n0013-EXCHZ                  1  Female               1     Yes         No   \n\n             tenure phone_service  ... tech_support streaming_tv  \\\ncustomer_id                        ...                             \n0002-ORFBO        9           Yes  ...          Yes          Yes   \n0003-MKNFE        9           Yes  ...           No           No   \n0004-TLHLJ        4           Yes  ...           No           No   \n0011-IGKFF       13           Yes  ...           No          Yes   \n0013-EXCHZ        3           Yes  ...          Yes          Yes   \n\n            streaming_movies paperless_billing monthly_charges total_charges  \\\ncustomer_id                                                                    \n0002-ORFBO                No               Yes            65.6         593.3   \n0003-MKNFE               Yes                No            59.9         542.4   \n0004-TLHLJ                No               Yes            73.9        280.85   \n0011-IGKFF               Yes               Yes            98.0       1237.85   \n0013-EXCHZ                No               Yes            83.9         267.4   \n\n            churn   contract_type  internet_service_type      payment_type  \ncustomer_id                                                                 \n0002-ORFBO     No        One year                    DSL      Mailed check  \n0003-MKNFE     No  Month-to-month                    DSL      Mailed check  \n0004-TLHLJ    Yes  Month-to-month            Fiber optic  Electronic check  \n0011-IGKFF    Yes  Month-to-month            Fiber optic  Electronic check  \n0013-EXCHZ    Yes  Month-to-month            Fiber optic      Mailed check  \n\n[5 rows x 24 columns]",
      "text/html": "<div>\n<style scoped>\n    .dataframe tbody tr th:only-of-type {\n        vertical-align: middle;\n    }\n\n    .dataframe tbody tr th {\n        vertical-align: top;\n    }\n\n    .dataframe thead th {\n        text-align: right;\n    }\n</style>\n<table border=\"1\" class=\"dataframe\">\n  <thead>\n    <tr style=\"text-align: right;\">\n      <th></th>\n      <th>Unnamed: 0</th>\n      <th>payment_type_id</th>\n      <th>internet_service_type_id</th>\n      <th>contract_type_id</th>\n      <th>gender</th>\n      <th>senior_citizen</th>\n      <th>partner</th>\n      <th>dependents</th>\n      <th>tenure</th>\n      <th>phone_service</th>\n      <th>...</th>\n      <th>tech_support</th>\n      <th>streaming_tv</th>\n      <th>streaming_movies</th>\n      <th>paperless_billing</th>\n      <th>monthly_charges</th>\n      <th>total_charges</th>\n      <th>churn</th>\n      <th>contract_type</th>\n      <th>internet_service_type</th>\n      <th>payment_type</th>\n    </tr>\n    <tr>\n      <th>customer_id</th>\n      <th></th>\n      <th></th>\n      <th></th>\n      <th></th>\n      <th></th>\n      <th></th>\n      <th></th>\n      <th></th>\n      <th></th>\n      <th></th>\n      <th></th>\n      <th></th>\n      <th></th>\n      <th></th>\n      <th></th>\n      <th></th>\n      <th></th>\n      <th></th>\n      <th></th>\n      <th></th>\n      <th></th>\n    </tr>\n  </thead>\n  <tbody>\n    <tr>\n      <th>0002-ORFBO</th>\n      <td>0</td>\n      <td>2</td>\n      <td>1</td>\n      <td>2</td>\n      <td>Female</td>\n      <td>0</td>\n      <td>Yes</td>\n      <td>Yes</td>\n      <td>9</td>\n      <td>Yes</td>\n      <td>...</td>\n      <td>Yes</td>\n      <td>Yes</td>\n      <td>No</td>\n      <td>Yes</td>\n      <td>65.6</td>\n      <td>593.3</td>\n      <td>No</td>\n      <td>One year</td>\n      <td>DSL</td>\n      <td>Mailed check</td>\n    </tr>\n    <tr>\n      <th>0003-MKNFE</th>\n      <td>1</td>\n      <td>2</td>\n      <td>1</td>\n      <td>1</td>\n      <td>Male</td>\n      <td>0</td>\n      <td>No</td>\n      <td>No</td>\n      <td>9</td>\n      <td>Yes</td>\n      <td>...</td>\n      <td>No</td>\n      <td>No</td>\n      <td>Yes</td>\n      <td>No</td>\n      <td>59.9</td>\n      <td>542.4</td>\n      <td>No</td>\n      <td>Month-to-month</td>\n      <td>DSL</td>\n      <td>Mailed check</td>\n    </tr>\n    <tr>\n      <th>0004-TLHLJ</th>\n      <td>2</td>\n      <td>1</td>\n      <td>2</td>\n      <td>1</td>\n      <td>Male</td>\n      <td>0</td>\n      <td>No</td>\n      <td>No</td>\n      <td>4</td>\n      <td>Yes</td>\n      <td>...</td>\n      <td>No</td>\n      <td>No</td>\n      <td>No</td>\n      <td>Yes</td>\n      <td>73.9</td>\n      <td>280.85</td>\n      <td>Yes</td>\n      <td>Month-to-month</td>\n      <td>Fiber optic</td>\n      <td>Electronic check</td>\n    </tr>\n    <tr>\n      <th>0011-IGKFF</th>\n      <td>3</td>\n      <td>1</td>\n      <td>2</td>\n      <td>1</td>\n      <td>Male</td>\n      <td>1</td>\n      <td>Yes</td>\n      <td>No</td>\n      <td>13</td>\n      <td>Yes</td>\n      <td>...</td>\n      <td>No</td>\n      <td>Yes</td>\n      <td>Yes</td>\n      <td>Yes</td>\n      <td>98.0</td>\n      <td>1237.85</td>\n      <td>Yes</td>\n      <td>Month-to-month</td>\n      <td>Fiber optic</td>\n      <td>Electronic check</td>\n    </tr>\n    <tr>\n      <th>0013-EXCHZ</th>\n      <td>4</td>\n      <td>2</td>\n      <td>2</td>\n      <td>1</td>\n      <td>Female</td>\n      <td>1</td>\n      <td>Yes</td>\n      <td>No</td>\n      <td>3</td>\n      <td>Yes</td>\n      <td>...</td>\n      <td>Yes</td>\n      <td>Yes</td>\n      <td>No</td>\n      <td>Yes</td>\n      <td>83.9</td>\n      <td>267.4</td>\n      <td>Yes</td>\n      <td>Month-to-month</td>\n      <td>Fiber optic</td>\n      <td>Mailed check</td>\n    </tr>\n  </tbody>\n</table>\n<p>5 rows × 24 columns</p>\n</div>"
     },
     "execution_count": 3,
     "metadata": {},
     "output_type": "execute_result"
    }
   ],
   "source": [
    "df.head()"
   ]
  },
  {
   "cell_type": "code",
   "execution_count": 4,
   "id": "eda1b9e748d214cc",
   "metadata": {
    "ExecuteTime": {
     "end_time": "2023-12-10T22:47:44.264540Z",
     "start_time": "2023-12-10T22:47:44.262262Z"
    }
   },
   "outputs": [
    {
     "data": {
      "text/plain": "(7043, 24)"
     },
     "execution_count": 4,
     "metadata": {},
     "output_type": "execute_result"
    }
   ],
   "source": [
    "df.shape"
   ]
  },
  {
   "cell_type": "markdown",
   "id": "f95c1da2ec22b638",
   "metadata": {},
   "source": [
    ">there are 7043 rows and 24 columns"
   ]
  },
  {
   "cell_type": "markdown",
   "id": "17fd269e497a2d19",
   "metadata": {},
   "source": [
    "### peronsal opinion on data"
   ]
  },
  {
   "cell_type": "markdown",
   "id": "9e4e6077049d0a1d",
   "metadata": {},
   "source": [
    "important\n",
    "> gender\n",
    "> tenure\n",
    "> senior\n",
    "> monthly"
   ]
  },
  {
   "cell_type": "markdown",
   "id": "66086cbb62964fe4",
   "metadata": {},
   "source": [
    "unimportant\n",
    "> payment_type_id\n",
    "> internet_service_type\n",
    "> Unanmed: 0\n",
    "> contract type id  "
   ]
  },
  {
   "cell_type": "markdown",
   "id": "e6ad3ac142a258b8",
   "metadata": {},
   "source": [
    "# PREPARE"
   ]
  },
  {
   "cell_type": "code",
   "execution_count": 5,
   "id": "5b95316aee78df0d",
   "metadata": {
    "ExecuteTime": {
     "end_time": "2023-12-10T22:47:44.303282Z",
     "start_time": "2023-12-10T22:47:44.265258Z"
    }
   },
   "outputs": [],
   "source": [
    "# function created to prepare the data\n",
    "df = p.prep_telco(df)"
   ]
  },
  {
   "cell_type": "markdown",
   "id": "7da982652bc1d275",
   "metadata": {},
   "source": [
    "### changes to data\n",
    ">turns total charges into a float\n",
    ">combined 'online_security', 'online_backup', 'device_protection', 'tech_support' into 1 column called add ons\n",
    ">transformed contract type to either monthly or yearly\n",
    "#### deleted\n",
    ">payment type id\n",
    ">internet service id\n",
    ">contract type id\n",
    ">customer id\n"
   ]
  },
  {
   "cell_type": "markdown",
   "id": "14ba07176037ad68",
   "metadata": {},
   "source": [
    "# PREPROCESS"
   ]
  },
  {
   "cell_type": "code",
   "execution_count": 6,
   "id": "fd43d6c8ae67b7fe",
   "metadata": {
    "ExecuteTime": {
     "end_time": "2023-12-10T22:47:44.324435Z",
     "start_time": "2023-12-10T22:47:44.287813Z"
    }
   },
   "outputs": [],
   "source": [
    "# function created to preprocess the data\n",
    "encoded_df = p.preprocess_data(df)"
   ]
  },
  {
   "cell_type": "markdown",
   "id": "c660e5d476929820",
   "metadata": {},
   "source": [
    "#### function description\n",
    ">Preprocesses the data by encoding various features into binary format and removing the original columns.\n",
    "#### changes\n",
    ">Internet Service Encoding\n",
    ">Binary Conversion for Specific Services\n",
    ">Contract Type Encoding\n",
    ">Automatic Payment Encoding\n",
    ">Yes/No Features Conversion\n",
    ">Gender Encoding\n",
    ">Churn Encoding\n",
    ">Dropping Original Columns"
   ]
  },
  {
   "cell_type": "code",
   "execution_count": 7,
   "id": "fd0eb670e902820e",
   "metadata": {
    "ExecuteTime": {
     "end_time": "2023-12-10T22:47:44.325408Z",
     "start_time": "2023-12-10T22:47:44.300552Z"
    }
   },
   "outputs": [
    {
     "name": "stdout",
     "output_type": "stream",
     "text": [
      "'senior_citizen': [0 1]\n",
      "'partner': [1 0]\n",
      "'dependents': [1 0]\n",
      "'tenure': [ 9  4 13  3 71 63  7 65 54 72  5 56 34  1 45 50 23 55 26 69 37 49 66 67\n",
      " 20 43 59 12 27  2 25 29 14 35 64 39 40 11  6 30 70 57 58 16 32 33 10 21\n",
      " 61 15 44 22 24 19 47 62 46 52  8 60 48 28 41 53 68 31 36 17 18 51 38 42]\n",
      "'phone_service': [1 0]\n",
      "'multiple_lines': [0 1]\n",
      "'streaming_tv': [1 0]\n",
      "'streaming_movies': [0 1]\n",
      "'monthly_charges': [65.6  59.9  73.9  ... 91.75 68.8  67.85]\n",
      "'total_charges': [ 593.3   542.4   280.85 ...  742.9  4627.65 3707.6 ]\n",
      "'churn': [0 1]\n",
      "'has_add_ons': [1 0]\n",
      "'has_internet': [1]\n",
      "'monthly_contract': [0 1]\n",
      "'automatic_payment': [0 1]\n",
      "'is_male': [0 1]\n"
     ]
    }
   ],
   "source": [
    "# creating 2 variables (continous and categorical) and printing columns with function\n",
    "cat_var, cont_var = p.categorize_columns(encoded_df)"
   ]
  },
  {
   "cell_type": "markdown",
   "id": "75de7ea676dfe8bb",
   "metadata": {},
   "source": [
    "### data splitting"
   ]
  },
  {
   "cell_type": "code",
   "execution_count": 8,
   "id": "b3e017c27dfaa64f",
   "metadata": {
    "ExecuteTime": {
     "end_time": "2023-12-10T22:47:44.422565Z",
     "start_time": "2023-12-10T22:47:44.306891Z"
    }
   },
   "outputs": [],
   "source": [
    "# splitting the data\n",
    "train, validate, test = p.splitting_data(encoded_df, 'churn')"
   ]
  },
  {
   "cell_type": "code",
   "execution_count": 9,
   "id": "e5711e8fccb2954d",
   "metadata": {
    "ExecuteTime": {
     "end_time": "2023-12-10T22:47:44.423508Z",
     "start_time": "2023-12-10T22:47:44.314280Z"
    }
   },
   "outputs": [
    {
     "data": {
      "text/plain": "((4219, 16), (1406, 16), (1407, 16))"
     },
     "execution_count": 9,
     "metadata": {},
     "output_type": "execute_result"
    }
   ],
   "source": [
    "# checking out new variable\n",
    "train.shape, validate.shape, test.shape"
   ]
  },
  {
   "cell_type": "markdown",
   "id": "2078abae085c6597",
   "metadata": {},
   "source": [
    "# EXPLORE / HYPOTHESISE\n"
   ]
  },
  {
   "cell_type": "markdown",
   "id": "44e746f73272f8e7",
   "metadata": {},
   "source": [
    "### does monthly charges affect the the if people churn or not?"
   ]
  },
  {
   "cell_type": "code",
   "execution_count": 10,
   "id": "5ba3939ac6cb9704",
   "metadata": {
    "ExecuteTime": {
     "end_time": "2023-12-10T22:47:44.537873Z",
     "start_time": "2023-12-10T22:47:44.319513Z"
    }
   },
   "outputs": [
    {
     "data": {
      "text/plain": "<Figure size 640x480 with 1 Axes>",
      "image/png": "[encoded data removed]"
     },
     "metadata": {},
     "output_type": "display_data"
    },
    {
     "name": "stdout",
     "output_type": "stream",
     "text": [
      "Performing T-test:\n",
      "\n",
      "H0: There is NO difference in means of monthly_charges across different categories of churn\n",
      "Ha: There IS a difference in means of monthly_charges across different categories of churn\n",
      "\n",
      "Reject the null hypothesis. The p-value is 1.0911669104936564e-37, which is less than alpha 0.05.\n",
      "There is a statistically significant difference in monthly_charges across different categories of churn.\n"
     ]
    }
   ],
   "source": [
    "# using created function to get hypothesis, graph and test P for categorical and continous variables\n",
    "e.continuous_categorical_relationship(train, 'monthly_charges', 'churn')"
   ]
  },
  {
   "cell_type": "markdown",
   "id": "9ba371657de837b9",
   "metadata": {},
   "source": [
    "### Does the customer column “senior_citizen” affect whether or not someone churn?"
   ]
  },
  {
   "cell_type": "code",
   "execution_count": 11,
   "id": "338804d830d60469",
   "metadata": {
    "ExecuteTime": {
     "end_time": "2023-12-10T22:47:44.642746Z",
     "start_time": "2023-12-10T22:47:44.539426Z"
    }
   },
   "outputs": [
    {
     "data": {
      "text/plain": "<Figure size 640x480 with 1 Axes>",
      "image/png": "[encoded data removed]"
     },
     "metadata": {},
     "output_type": "display_data"
    },
    {
     "name": "stdout",
     "output_type": "stream",
     "text": [
      "Crosstab between senior_citizen and churn:\n",
      "churn              0    1\n",
      "senior_citizen           \n",
      "0               2708  835\n",
      "1                390  286\n",
      "\n",
      "H0: There is NO relationship between senior_citizen and churn\n",
      "Ha: There IS a relationship between senior_citizen and churn\n",
      "\n",
      "Reject the null hypothesis. My p-value is 8.206605132251275e-24, which is less than alpha 0.05.\n",
      "We can conclude that there is a relationship between senior_citizen and churn.\n"
     ]
    }
   ],
   "source": [
    "# using created function to get hypothesis, graph and test P for categorical variables\n",
    "e.categorical_relationship(train, 'senior_citizen', 'churn')"
   ]
  },
  {
   "cell_type": "markdown",
   "id": "3bad2b9afb6fc7d6",
   "metadata": {},
   "source": [
    "### Does the customer column \"automatic_payment\" affect whether or not someone churn?"
   ]
  },
  {
   "cell_type": "code",
   "execution_count": 12,
   "id": "a36d82237d4e562f",
   "metadata": {
    "ExecuteTime": {
     "end_time": "2023-12-10T22:47:44.728920Z",
     "start_time": "2023-12-10T22:47:44.630646Z"
    }
   },
   "outputs": [
    {
     "data": {
      "text/plain": "<Figure size 640x480 with 1 Axes>",
      "image/png": "[encoded data removed]"
     },
     "metadata": {},
     "output_type": "display_data"
    },
    {
     "name": "stdout",
     "output_type": "stream",
     "text": [
      "Crosstab between automatic_payment and churn:\n",
      "churn                 0    1\n",
      "automatic_payment           \n",
      "0                  1543  826\n",
      "1                  1555  295\n",
      "\n",
      "H0: There is NO relationship between automatic_payment and churn\n",
      "Ha: There IS a relationship between automatic_payment and churn\n",
      "\n",
      "Reject the null hypothesis. My p-value is 3.802293916720818e-43, which is less than alpha 0.05.\n",
      "We can conclude that there is a relationship between automatic_payment and churn.\n"
     ]
    }
   ],
   "source": [
    "# using created function to get hypothesis, graph and test P for categorical variables\n",
    "e.categorical_relationship(train, 'automatic_payment','churn')"
   ]
  },
  {
   "cell_type": "markdown",
   "id": "7111d7710419715e",
   "metadata": {},
   "source": [
    "### Does the customer column “monthly_payment” affect whether or not someone churn?"
   ]
  },
  {
   "cell_type": "code",
   "execution_count": 13,
   "id": "baad0574d04544f1",
   "metadata": {
    "ExecuteTime": {
     "end_time": "2023-12-10T22:47:44.828624Z",
     "start_time": "2023-12-10T22:47:44.719997Z"
    }
   },
   "outputs": [
    {
     "data": {
      "text/plain": "<Figure size 640x480 with 1 Axes>",
      "image/png": "[encoded data removed]"
     },
     "metadata": {},
     "output_type": "display_data"
    },
    {
     "name": "stdout",
     "output_type": "stream",
     "text": [
      "Crosstab between monthly_contract and churn:\n",
      "churn                0    1\n",
      "monthly_contract           \n",
      "0                 1755  124\n",
      "1                 1343  997\n",
      "\n",
      "H0: There is NO relationship between monthly_contract and churn\n",
      "Ha: There IS a relationship between monthly_contract and churn\n",
      "\n",
      "Reject the null hypothesis. My p-value is 3.1344622282037087e-152, which is less than alpha 0.05.\n",
      "We can conclude that there is a relationship between monthly_contract and churn.\n"
     ]
    }
   ],
   "source": [
    "# using created function to get hypothesis, graph and test P for categorical variables\n",
    "e.categorical_relationship(train, 'monthly_contract', 'churn')"
   ]
  },
  {
   "cell_type": "markdown",
   "id": "eec0f97359a42dee",
   "metadata": {},
   "source": [
    "My p-value is less than alpha, therefore, we reject the null hypothesis.\n",
    "we can conclude that there is a relationship between monthly_contract and churn."
   ]
  },
  {
   "cell_type": "markdown",
   "id": "1d67b37bd19a10a1",
   "metadata": {},
   "source": [
    "## CONCLUSION"
   ]
  },
  {
   "cell_type": "markdown",
   "id": "a9ea12436c17b5d3",
   "metadata": {},
   "source": [
    "We saw there was a relationship between passenger senior_citizen, monthly_contract, automatic_payment, monthly_charges and whether or not they churned.\n"
   ]
  },
  {
   "cell_type": "markdown",
   "id": "684f3bf4e32d4a49",
   "metadata": {},
   "source": [
    "# MODEL "
   ]
  },
  {
   "cell_type": "markdown",
   "id": "b020eff6002a07ff",
   "metadata": {},
   "source": [
    "#### BASELINE"
   ]
  },
  {
   "cell_type": "code",
   "execution_count": 14,
   "id": "4f1725ada3b44654",
   "metadata": {
    "ExecuteTime": {
     "end_time": "2023-12-10T22:47:44.829536Z",
     "start_time": "2023-12-10T22:47:44.813097Z"
    }
   },
   "outputs": [
    {
     "data": {
      "text/plain": "0.7342972268310026"
     },
     "execution_count": 14,
     "metadata": {},
     "output_type": "execute_result"
    }
   ],
   "source": [
    "# creating baseline prediction\n",
    "1 - train['churn'].mean() "
   ]
  },
  {
   "cell_type": "markdown",
   "id": "f534ae786b9ddadd",
   "metadata": {},
   "source": [
    "for baseline prediction i said the every customer would not churn which gave me a 73%"
   ]
  },
  {
   "cell_type": "markdown",
   "id": "d7a23c5757ac4656",
   "metadata": {},
   "source": [
    "for my model after trying out different models i decided my best model for the problem at hand would be a decision tree and with that i decided to try out many \n",
    "different hyperparameters to amke sure my tree is working the best\n"
   ]
  },
  {
   "cell_type": "code",
   "execution_count": 15,
   "id": "9ac64f37af324a28",
   "metadata": {
    "ExecuteTime": {
     "end_time": "2023-12-10T22:47:44.924811Z",
     "start_time": "2023-12-10T22:47:44.819406Z"
    }
   },
   "outputs": [],
   "source": [
    "# creating and fitting the models\n",
    "tree, X_train, y_train, y_pred_train =m.create_fit_predict_model(train,3,10)\n",
    "tree, X_val, y_val, y_pred_val = m.create_fit_predict_model(validate,3,10)"
   ]
  },
  {
   "cell_type": "code",
   "execution_count": 16,
   "id": "77b0f922902df9bb",
   "metadata": {
    "ExecuteTime": {
     "end_time": "2023-12-10T22:47:44.978815Z",
     "start_time": "2023-12-10T22:47:44.841773Z"
    }
   },
   "outputs": [
    {
     "name": "stdout",
     "output_type": "stream",
     "text": [
      "max depth of 1, the accuracy train = 0.73, val = 0.73\n",
      "max depth of 2, the accuracy train = 0.76, val = 0.75\n",
      "max depth of 3, the accuracy train = 0.79, val = 0.79\n",
      "max depth of 4, the accuracy train = 0.79, val = 0.8\n",
      "max depth of 5, the accuracy train = 0.8, val = 0.8\n",
      "max depth of 6, the accuracy train = 0.8, val = 0.8\n",
      "max depth of 7, the accuracy train = 0.81, val = 0.79\n",
      "max depth of 8, the accuracy train = 0.82, val = 0.78\n",
      "max depth of 9, the accuracy train = 0.83, val = 0.78\n",
      "max depth of 10, the accuracy train = 0.83, val = 0.77\n",
      "max depth of 11, the accuracy train = 0.84, val = 0.78\n",
      "max depth of 12, the accuracy train = 0.84, val = 0.77\n",
      "max depth of 13, the accuracy train = 0.84, val = 0.77\n"
     ]
    }
   ],
   "source": [
    "# now trying out many different max depth to see which one gives best result on the train and validate\n",
    "for x in range(1,14):\n",
    "    #create the object\n",
    "    tree = DecisionTreeClassifier(max_depth=x,min_samples_leaf=10)\n",
    "    \n",
    "    #fit the object\n",
    "    tree.fit(X_train, y_train) \n",
    "    \n",
    "    #calculate the accuracy for train\n",
    "    acc = tree.score(X_train, y_train)\n",
    "    \n",
    "    #calculate the accuracy for validate\n",
    "    acc_v = tree.score(X_val, y_val)\n",
    "    \n",
    "    print(f'max depth of {x}, the accuracy train = {round(acc,2)}, val = {round(acc_v,2)}')"
   ]
  },
  {
   "cell_type": "markdown",
   "id": "74b571f0260e57e6",
   "metadata": {},
   "source": [
    "max depth 5 turned out to be the best model"
   ]
  },
  {
   "cell_type": "markdown",
   "id": "1fd04b743eed9fee",
   "metadata": {},
   "source": [
    "# max depth 5 and sample leaf 10"
   ]
  },
  {
   "cell_type": "code",
   "execution_count": 17,
   "id": "31a47c656e8631cf",
   "metadata": {
    "ExecuteTime": {
     "end_time": "2023-12-10T22:47:44.979297Z",
     "start_time": "2023-12-10T22:47:44.968030Z"
    }
   },
   "outputs": [],
   "source": [
    "tree, X_test, y_test, y_pred_test = m.create_fit_predict_model(test,5,10)"
   ]
  },
  {
   "cell_type": "code",
   "execution_count": 18,
   "id": "427f635276fb560e",
   "metadata": {
    "ExecuteTime": {
     "end_time": "2023-12-10T22:47:44.979788Z",
     "start_time": "2023-12-10T22:47:44.974592Z"
    }
   },
   "outputs": [],
   "source": [
    "# creating the accuracy score for test\n",
    "acc_test = tree.score(X_test, y_test)"
   ]
  },
  {
   "cell_type": "code",
   "execution_count": 19,
   "id": "e6a32e1ad09dda49",
   "metadata": {
    "ExecuteTime": {
     "end_time": "2023-12-10T22:47:44.981970Z",
     "start_time": "2023-12-10T22:47:44.979679Z"
    }
   },
   "outputs": [
    {
     "data": {
      "text/plain": "0.81"
     },
     "execution_count": 19,
     "metadata": {},
     "output_type": "execute_result"
    }
   ],
   "source": [
    "round(acc_test, 2)"
   ]
  },
  {
   "cell_type": "markdown",
   "id": "232cecaf6efed82e",
   "metadata": {},
   "source": [
    "I got an 81% on the test which is higher than the baseline accuracy of 73%"
   ]
  },
  {
   "cell_type": "markdown",
   "id": "e9913d83cf55c385",
   "metadata": {},
   "source": [
    "# CONCLUSION"
   ]
  },
  {
   "cell_type": "markdown",
   "id": "ec0f515ca2f01a00",
   "metadata": {},
   "source": [
    "here are some ideas to possibly lower the churn rate. \n",
    "\n",
    "Senior Citizens:\n",
    ">Tailored Communication: Customize communication and support for senior citizens. This could include clearer, larger print on bills and correspondence, or a dedicated support line.\n",
    "    \n",
    "Monthly Contracts:\n",
    ">Incentivize Longer Contracts: Offer incentives for customers to switch from monthly to longer-term contracts, such as annual plans. These could be discounts, additional features, or loyalty rewards.\n",
    "    \n",
    "Automatic Payment Methods:\n",
    ">Promote Automatic Payments: Encourage customers to use automatic payment methods by offering discounts or additional benefits. Make sure the process of setting up automatic payments is simple and secure."
   ]
  },
  {
   "cell_type": "markdown",
   "id": "aba376e8a67dcebf",
   "metadata": {},
   "source": [
    "with more time i would...\n",
    ">look at more variables for more possible correlations \n",
    ">create different models ( knn, logistic regression)\n",
    ">look up more possible solutions to fix the cause of the problems"
   ]
  },
  {
   "cell_type": "markdown",
   "id": "81e7fb2d84a36b50",
   "metadata": {},
   "source": [
    "with the model created right now we can identify high risk customers now and for the future and send special offers depending on the category they fall in"
   ]
  },
  {
   "cell_type": "markdown",
   "id": "7479e7d9b02eda71",
   "metadata": {},
   "source": [
    "Why did the data scientist break up with the algorithm?"
   ]
  },
  {
   "cell_type": "code",
   "execution_count": 19,
   "id": "e059e6c2d5a54f2b",
   "metadata": {
    "ExecuteTime": {
     "end_time": "2023-12-10T22:47:44.990412Z",
     "start_time": "2023-12-10T22:47:44.981968Z"
    }
   },
   "outputs": [],
   "source": []
  }
 ],
 "metadata": {
  "kernelspec": {
   "display_name": "Python 3 (ipykernel)",
   "language": "python",
   "name": "python3"
  },
  "language_info": {
   "codemirror_mode": {
    "name": "ipython",
    "version": 3
   },
   "file_extension": ".py",
   "mimetype": "text/x-python",
   "name": "python",
   "nbconvert_exporter": "python",
   "pygments_lexer": "ipython3",
   "version": "3.11.5"
  }
 },
 "nbformat": 4,
 "nbformat_minor": 5
}
