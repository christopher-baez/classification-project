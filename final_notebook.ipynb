{
 "cells": [
  {
   "cell_type": "markdown",
   "source": [
    "# IMPORTS"
   ],
   "metadata": {
    "collapsed": false
   },
   "id": "5eb06c0e8e052bab"
  },
  {
   "cell_type": "code",
   "execution_count": 1,
   "id": "initial_id",
   "metadata": {
    "collapsed": true,
    "ExecuteTime": {
     "end_time": "2023-12-05T22:36:54.309246Z",
     "start_time": "2023-12-05T22:36:53.971269Z"
    }
   },
   "outputs": [],
   "source": [
    "# importing all the imports needed for this phase\n",
    "# data manipulation\n",
    "import pandas as pd\n",
    "import numpy as np\n",
    "\n",
    "# visuals\n",
    "import matplotlib.pyplot as plt\n",
    "import seaborn as sns\n",
    "\n",
    "# personal import\n",
    "import acquire as a\n",
    "import prepare as p\n",
    "import explore as e\n",
    "import env\n",
    "import MODEL as m\n",
    "\n",
    "\n",
    "#stats import\n",
    "from scipy import stats\n",
    "\n",
    "# ML stuff:\n",
    "from sklearn.metrics import accuracy_score, classification_report\n",
    "from sklearn.tree import DecisionTreeClassifier, \\\n",
    "export_text, plot_tree\n",
    "from sklearn.model_selection import train_test_split\n",
    "from sklearn.ensemble import RandomForestClassifier"
   ]
  },
  {
   "cell_type": "markdown",
   "source": [
    "# ACQUIRE"
   ],
   "metadata": {
    "collapsed": false
   },
   "id": "a55eaa36c32df36"
  },
  {
   "cell_type": "code",
   "execution_count": 2,
   "outputs": [
    {
     "name": "stdout",
     "output_type": "stream",
     "text": [
      "this file exists, reading csv\n"
     ]
    }
   ],
   "source": [
    "# getting data from SQL\n",
    "df =a.get_telco_data()"
   ],
   "metadata": {
    "collapsed": false,
    "ExecuteTime": {
     "end_time": "2023-12-05T22:36:54.366651Z",
     "start_time": "2023-12-05T22:36:54.305963Z"
    }
   },
   "id": "f4ba7b831c2e7976"
  },
  {
   "cell_type": "code",
   "execution_count": 3,
   "outputs": [
    {
     "data": {
      "text/plain": "             Unnamed: 0  payment_type_id  internet_service_type_id  \\\ncustomer_id                                                          \n0002-ORFBO            0                2                         1   \n0003-MKNFE            1                2                         1   \n0004-TLHLJ            2                1                         2   \n0011-IGKFF            3                1                         2   \n0013-EXCHZ            4                2                         2   \n\n             contract_type_id  gender  senior_citizen partner dependents  \\\ncustomer_id                                                                \n0002-ORFBO                  2  Female               0     Yes        Yes   \n0003-MKNFE                  1    Male               0      No         No   \n0004-TLHLJ                  1    Male               0      No         No   \n0011-IGKFF                  1    Male               1     Yes         No   \n0013-EXCHZ                  1  Female               1     Yes         No   \n\n             tenure phone_service  ... tech_support streaming_tv  \\\ncustomer_id                        ...                             \n0002-ORFBO        9           Yes  ...          Yes          Yes   \n0003-MKNFE        9           Yes  ...           No           No   \n0004-TLHLJ        4           Yes  ...           No           No   \n0011-IGKFF       13           Yes  ...           No          Yes   \n0013-EXCHZ        3           Yes  ...          Yes          Yes   \n\n            streaming_movies paperless_billing monthly_charges total_charges  \\\ncustomer_id                                                                    \n0002-ORFBO                No               Yes            65.6         593.3   \n0003-MKNFE               Yes                No            59.9         542.4   \n0004-TLHLJ                No               Yes            73.9        280.85   \n0011-IGKFF               Yes               Yes            98.0       1237.85   \n0013-EXCHZ                No               Yes            83.9         267.4   \n\n            churn   contract_type  internet_service_type      payment_type  \ncustomer_id                                                                 \n0002-ORFBO     No        One year                    DSL      Mailed check  \n0003-MKNFE     No  Month-to-month                    DSL      Mailed check  \n0004-TLHLJ    Yes  Month-to-month            Fiber optic  Electronic check  \n0011-IGKFF    Yes  Month-to-month            Fiber optic  Electronic check  \n0013-EXCHZ    Yes  Month-to-month            Fiber optic      Mailed check  \n\n[5 rows x 24 columns]",
      "text/html": "<div>\n<style scoped>\n    .dataframe tbody tr th:only-of-type {\n        vertical-align: middle;\n    }\n\n    .dataframe tbody tr th {\n        vertical-align: top;\n    }\n\n    .dataframe thead th {\n        text-align: right;\n    }\n</style>\n<table border=\"1\" class=\"dataframe\">\n  <thead>\n    <tr style=\"text-align: right;\">\n      <th></th>\n      <th>Unnamed: 0</th>\n      <th>payment_type_id</th>\n      <th>internet_service_type_id</th>\n      <th>contract_type_id</th>\n      <th>gender</th>\n      <th>senior_citizen</th>\n      <th>partner</th>\n      <th>dependents</th>\n      <th>tenure</th>\n      <th>phone_service</th>\n      <th>...</th>\n      <th>tech_support</th>\n      <th>streaming_tv</th>\n      <th>streaming_movies</th>\n      <th>paperless_billing</th>\n      <th>monthly_charges</th>\n      <th>total_charges</th>\n      <th>churn</th>\n      <th>contract_type</th>\n      <th>internet_service_type</th>\n      <th>payment_type</th>\n    </tr>\n    <tr>\n      <th>customer_id</th>\n      <th></th>\n      <th></th>\n      <th></th>\n      <th></th>\n      <th></th>\n      <th></th>\n      <th></th>\n      <th></th>\n      <th></th>\n      <th></th>\n      <th></th>\n      <th></th>\n      <th></th>\n      <th></th>\n      <th></th>\n      <th></th>\n      <th></th>\n      <th></th>\n      <th></th>\n      <th></th>\n      <th></th>\n    </tr>\n  </thead>\n  <tbody>\n    <tr>\n      <th>0002-ORFBO</th>\n      <td>0</td>\n      <td>2</td>\n      <td>1</td>\n      <td>2</td>\n      <td>Female</td>\n      <td>0</td>\n      <td>Yes</td>\n      <td>Yes</td>\n      <td>9</td>\n      <td>Yes</td>\n      <td>...</td>\n      <td>Yes</td>\n      <td>Yes</td>\n      <td>No</td>\n      <td>Yes</td>\n      <td>65.6</td>\n      <td>593.3</td>\n      <td>No</td>\n      <td>One year</td>\n      <td>DSL</td>\n      <td>Mailed check</td>\n    </tr>\n    <tr>\n      <th>0003-MKNFE</th>\n      <td>1</td>\n      <td>2</td>\n      <td>1</td>\n      <td>1</td>\n      <td>Male</td>\n      <td>0</td>\n      <td>No</td>\n      <td>No</td>\n      <td>9</td>\n      <td>Yes</td>\n      <td>...</td>\n      <td>No</td>\n      <td>No</td>\n      <td>Yes</td>\n      <td>No</td>\n      <td>59.9</td>\n      <td>542.4</td>\n      <td>No</td>\n      <td>Month-to-month</td>\n      <td>DSL</td>\n      <td>Mailed check</td>\n    </tr>\n    <tr>\n      <th>0004-TLHLJ</th>\n      <td>2</td>\n      <td>1</td>\n      <td>2</td>\n      <td>1</td>\n      <td>Male</td>\n      <td>0</td>\n      <td>No</td>\n      <td>No</td>\n      <td>4</td>\n      <td>Yes</td>\n      <td>...</td>\n      <td>No</td>\n      <td>No</td>\n      <td>No</td>\n      <td>Yes</td>\n      <td>73.9</td>\n      <td>280.85</td>\n      <td>Yes</td>\n      <td>Month-to-month</td>\n      <td>Fiber optic</td>\n      <td>Electronic check</td>\n    </tr>\n    <tr>\n      <th>0011-IGKFF</th>\n      <td>3</td>\n      <td>1</td>\n      <td>2</td>\n      <td>1</td>\n      <td>Male</td>\n      <td>1</td>\n      <td>Yes</td>\n      <td>No</td>\n      <td>13</td>\n      <td>Yes</td>\n      <td>...</td>\n      <td>No</td>\n      <td>Yes</td>\n      <td>Yes</td>\n      <td>Yes</td>\n      <td>98.0</td>\n      <td>1237.85</td>\n      <td>Yes</td>\n      <td>Month-to-month</td>\n      <td>Fiber optic</td>\n      <td>Electronic check</td>\n    </tr>\n    <tr>\n      <th>0013-EXCHZ</th>\n      <td>4</td>\n      <td>2</td>\n      <td>2</td>\n      <td>1</td>\n      <td>Female</td>\n      <td>1</td>\n      <td>Yes</td>\n      <td>No</td>\n      <td>3</td>\n      <td>Yes</td>\n      <td>...</td>\n      <td>Yes</td>\n      <td>Yes</td>\n      <td>No</td>\n      <td>Yes</td>\n      <td>83.9</td>\n      <td>267.4</td>\n      <td>Yes</td>\n      <td>Month-to-month</td>\n      <td>Fiber optic</td>\n      <td>Mailed check</td>\n    </tr>\n  </tbody>\n</table>\n<p>5 rows × 24 columns</p>\n</div>"
     },
     "execution_count": 3,
     "metadata": {},
     "output_type": "execute_result"
    }
   ],
   "source": [
    "df.head()"
   ],
   "metadata": {
    "collapsed": false,
    "ExecuteTime": {
     "end_time": "2023-12-05T22:36:54.381803Z",
     "start_time": "2023-12-05T22:36:54.346386Z"
    }
   },
   "id": "c97e1c2e8cf5f27b"
  },
  {
   "cell_type": "code",
   "execution_count": 4,
   "outputs": [
    {
     "data": {
      "text/plain": "(7043, 24)"
     },
     "execution_count": 4,
     "metadata": {},
     "output_type": "execute_result"
    }
   ],
   "source": [
    "df.shape"
   ],
   "metadata": {
    "collapsed": false,
    "ExecuteTime": {
     "end_time": "2023-12-05T22:36:54.387756Z",
     "start_time": "2023-12-05T22:36:54.367834Z"
    }
   },
   "id": "eda1b9e748d214cc"
  },
  {
   "cell_type": "markdown",
   "source": [
    ">there are 7043 rows and 24 columns"
   ],
   "metadata": {
    "collapsed": false
   },
   "id": "f95c1da2ec22b638"
  },
  {
   "cell_type": "markdown",
   "source": [
    "### peronsal opinion on data"
   ],
   "metadata": {
    "collapsed": false
   },
   "id": "17fd269e497a2d19"
  },
  {
   "cell_type": "markdown",
   "source": [
    "important\n",
    "> gender\n",
    "> tenure\n",
    "> senior\n",
    "> monthly"
   ],
   "metadata": {
    "collapsed": false
   },
   "id": "9e4e6077049d0a1d"
  },
  {
   "cell_type": "markdown",
   "source": [
    "unimportant\n",
    "> payment_type_id\n",
    "> internet_service_type\n",
    "> Unamed: 0\n",
    "> customer_id ( theres already an index)  "
   ],
   "metadata": {
    "collapsed": false
   },
   "id": "66086cbb62964fe4"
  },
  {
   "cell_type": "markdown",
   "source": [
    "# PREPARE"
   ],
   "metadata": {
    "collapsed": false
   },
   "id": "e6ad3ac142a258b8"
  },
  {
   "cell_type": "code",
   "execution_count": 5,
   "outputs": [],
   "source": [
    "df = p.prep_telco(df)"
   ],
   "metadata": {
    "collapsed": false,
    "ExecuteTime": {
     "end_time": "2023-12-05T22:36:54.536486Z",
     "start_time": "2023-12-05T22:36:54.372689Z"
    }
   },
   "id": "5b95316aee78df0d"
  },
  {
   "cell_type": "code",
   "execution_count": 6,
   "outputs": [
    {
     "data": {
      "text/plain": "             gender  senior_citizen partner dependents  tenure phone_service  \\\ncustomer_id                                                                    \n0002-ORFBO   Female               0     Yes        Yes       9           Yes   \n0003-MKNFE     Male               0      No         No       9           Yes   \n0004-TLHLJ     Male               0      No         No       4           Yes   \n0011-IGKFF     Male               1     Yes         No      13           Yes   \n0013-EXCHZ   Female               1     Yes         No       3           Yes   \n\n            multiple_lines streaming_tv streaming_movies  monthly_charges  \\\ncustomer_id                                                                 \n0002-ORFBO              No          Yes               No             65.6   \n0003-MKNFE             Yes           No              Yes             59.9   \n0004-TLHLJ              No           No               No             73.9   \n0011-IGKFF              No          Yes              Yes             98.0   \n0013-EXCHZ              No          Yes               No             83.9   \n\n             total_charges churn   contract_type internet_service_type  \\\ncustomer_id                                                              \n0002-ORFBO          593.30    No        One year                   DSL   \n0003-MKNFE          542.40    No  Month-to-month                   DSL   \n0004-TLHLJ          280.85   Yes  Month-to-month           Fiber optic   \n0011-IGKFF         1237.85   Yes  Month-to-month           Fiber optic   \n0013-EXCHZ          267.40   Yes  Month-to-month           Fiber optic   \n\n                 payment_type  has_add_ons  \ncustomer_id                                 \n0002-ORFBO       Mailed check            1  \n0003-MKNFE       Mailed check            0  \n0004-TLHLJ   Electronic check            1  \n0011-IGKFF   Electronic check            1  \n0013-EXCHZ       Mailed check            1  ",
      "text/html": "<div>\n<style scoped>\n    .dataframe tbody tr th:only-of-type {\n        vertical-align: middle;\n    }\n\n    .dataframe tbody tr th {\n        vertical-align: top;\n    }\n\n    .dataframe thead th {\n        text-align: right;\n    }\n</style>\n<table border=\"1\" class=\"dataframe\">\n  <thead>\n    <tr style=\"text-align: right;\">\n      <th></th>\n      <th>gender</th>\n      <th>senior_citizen</th>\n      <th>partner</th>\n      <th>dependents</th>\n      <th>tenure</th>\n      <th>phone_service</th>\n      <th>multiple_lines</th>\n      <th>streaming_tv</th>\n      <th>streaming_movies</th>\n      <th>monthly_charges</th>\n      <th>total_charges</th>\n      <th>churn</th>\n      <th>contract_type</th>\n      <th>internet_service_type</th>\n      <th>payment_type</th>\n      <th>has_add_ons</th>\n    </tr>\n    <tr>\n      <th>customer_id</th>\n      <th></th>\n      <th></th>\n      <th></th>\n      <th></th>\n      <th></th>\n      <th></th>\n      <th></th>\n      <th></th>\n      <th></th>\n      <th></th>\n      <th></th>\n      <th></th>\n      <th></th>\n      <th></th>\n      <th></th>\n      <th></th>\n    </tr>\n  </thead>\n  <tbody>\n    <tr>\n      <th>0002-ORFBO</th>\n      <td>Female</td>\n      <td>0</td>\n      <td>Yes</td>\n      <td>Yes</td>\n      <td>9</td>\n      <td>Yes</td>\n      <td>No</td>\n      <td>Yes</td>\n      <td>No</td>\n      <td>65.6</td>\n      <td>593.30</td>\n      <td>No</td>\n      <td>One year</td>\n      <td>DSL</td>\n      <td>Mailed check</td>\n      <td>1</td>\n    </tr>\n    <tr>\n      <th>0003-MKNFE</th>\n      <td>Male</td>\n      <td>0</td>\n      <td>No</td>\n      <td>No</td>\n      <td>9</td>\n      <td>Yes</td>\n      <td>Yes</td>\n      <td>No</td>\n      <td>Yes</td>\n      <td>59.9</td>\n      <td>542.40</td>\n      <td>No</td>\n      <td>Month-to-month</td>\n      <td>DSL</td>\n      <td>Mailed check</td>\n      <td>0</td>\n    </tr>\n    <tr>\n      <th>0004-TLHLJ</th>\n      <td>Male</td>\n      <td>0</td>\n      <td>No</td>\n      <td>No</td>\n      <td>4</td>\n      <td>Yes</td>\n      <td>No</td>\n      <td>No</td>\n      <td>No</td>\n      <td>73.9</td>\n      <td>280.85</td>\n      <td>Yes</td>\n      <td>Month-to-month</td>\n      <td>Fiber optic</td>\n      <td>Electronic check</td>\n      <td>1</td>\n    </tr>\n    <tr>\n      <th>0011-IGKFF</th>\n      <td>Male</td>\n      <td>1</td>\n      <td>Yes</td>\n      <td>No</td>\n      <td>13</td>\n      <td>Yes</td>\n      <td>No</td>\n      <td>Yes</td>\n      <td>Yes</td>\n      <td>98.0</td>\n      <td>1237.85</td>\n      <td>Yes</td>\n      <td>Month-to-month</td>\n      <td>Fiber optic</td>\n      <td>Electronic check</td>\n      <td>1</td>\n    </tr>\n    <tr>\n      <th>0013-EXCHZ</th>\n      <td>Female</td>\n      <td>1</td>\n      <td>Yes</td>\n      <td>No</td>\n      <td>3</td>\n      <td>Yes</td>\n      <td>No</td>\n      <td>Yes</td>\n      <td>No</td>\n      <td>83.9</td>\n      <td>267.40</td>\n      <td>Yes</td>\n      <td>Month-to-month</td>\n      <td>Fiber optic</td>\n      <td>Mailed check</td>\n      <td>1</td>\n    </tr>\n  </tbody>\n</table>\n</div>"
     },
     "execution_count": 6,
     "metadata": {},
     "output_type": "execute_result"
    }
   ],
   "source": [
    "df.head()"
   ],
   "metadata": {
    "collapsed": false,
    "ExecuteTime": {
     "end_time": "2023-12-05T22:36:54.541495Z",
     "start_time": "2023-12-05T22:36:54.408308Z"
    }
   },
   "id": "64aa62b99c840937"
  },
  {
   "cell_type": "markdown",
   "source": [
    "### changes to data\n",
    ">this  function takes in the telco database and cleans it\n",
    ">turns total charges into a float\n",
    ">combined 'online_security', 'online_backup', 'device_protection', 'tech_support' into 1 column called add ons\n",
    "#### deletes\n",
    ">payment type id\n",
    ">internet service id\n",
    ">contract type id\n",
    ">customer id\n"
   ],
   "metadata": {
    "collapsed": false
   },
   "id": "7da982652bc1d275"
  },
  {
   "cell_type": "markdown",
   "source": [
    "# PREPROCESS"
   ],
   "metadata": {
    "collapsed": false
   },
   "id": "14ba07176037ad68"
  },
  {
   "cell_type": "code",
   "execution_count": 7,
   "outputs": [],
   "source": [
    "encoded_df = p.preprocess_data(df)"
   ],
   "metadata": {
    "collapsed": false,
    "ExecuteTime": {
     "end_time": "2023-12-05T22:36:54.541722Z",
     "start_time": "2023-12-05T22:36:54.421200Z"
    }
   },
   "id": "fd43d6c8ae67b7fe"
  },
  {
   "cell_type": "markdown",
   "source": [
    "#### function description\n",
    ">Preprocesses the data by encoding various features into binary format and removing the original columns.\n",
    "#### changes\n",
    ">Internet Service Encoding\n",
    ">Binary Conversion for Specific Services\n",
    ">Contract Type Encoding\n",
    ">Automatic Payment Encoding\n",
    ">Yes/No Features Conversion\n",
    ">Gender Encoding\n",
    ">Churn Encoding\n",
    ">Dropping Original Columns"
   ],
   "metadata": {
    "collapsed": false
   },
   "id": "c660e5d476929820"
  },
  {
   "cell_type": "code",
   "execution_count": 8,
   "outputs": [
    {
     "name": "stdout",
     "output_type": "stream",
     "text": [
      "'senior_citizen': [0 1]\n",
      "'partner': [1 0]\n",
      "'dependents': [1 0]\n",
      "'tenure': [ 9  4 13  3 71 63  7 65 54 72  5 56 34  1 45 50 23 55 26 69 37 49 66 67\n",
      " 20 43 59 12 27  2 25 29 14 35 64 39 40 11  6 30 70 57 58 16 32 33 10 21\n",
      " 61 15 44 22 24 19 47 62 46 52  8 60 48 28 41 53 68 31 36 17 18 51 38 42]\n",
      "'phone_service': [1 0]\n",
      "'multiple_lines': [0 1]\n",
      "'streaming_tv': [1 0]\n",
      "'streaming_movies': [0 1]\n",
      "'monthly_charges': [65.6  59.9  73.9  ... 91.75 68.8  67.85]\n",
      "'total_charges': [ 593.3   542.4   280.85 ...  742.9  4627.65 3707.6 ]\n",
      "'churn': [0 1]\n",
      "'has_add_ons': [1 0]\n",
      "'has_internet': [1]\n",
      "'monthly_contract': [0 1]\n",
      "'automatic_payment': [0 1]\n",
      "'is_male': [0 1]\n"
     ]
    }
   ],
   "source": [
    "# creating 2 variables and printing columns with function\n",
    "cat_var, cont_var = p.categorize_columns(encoded_df)"
   ],
   "metadata": {
    "collapsed": false,
    "ExecuteTime": {
     "end_time": "2023-12-05T22:36:54.543491Z",
     "start_time": "2023-12-05T22:36:54.437106Z"
    }
   },
   "id": "fd0eb670e902820e"
  },
  {
   "cell_type": "markdown",
   "source": [
    "### data splitting"
   ],
   "metadata": {
    "collapsed": false
   },
   "id": "75de7ea676dfe8bb"
  },
  {
   "cell_type": "code",
   "execution_count": 9,
   "outputs": [],
   "source": [
    "# splitting the data\n",
    "train, validate, test = p.splitting_data(encoded_df, 'churn')"
   ],
   "metadata": {
    "collapsed": false,
    "ExecuteTime": {
     "end_time": "2023-12-05T22:36:54.587576Z",
     "start_time": "2023-12-05T22:36:54.446025Z"
    }
   },
   "id": "b3e017c27dfaa64f"
  },
  {
   "cell_type": "code",
   "execution_count": 10,
   "outputs": [
    {
     "data": {
      "text/plain": "((4219, 16), (1406, 16), (1407, 16))"
     },
     "execution_count": 10,
     "metadata": {},
     "output_type": "execute_result"
    }
   ],
   "source": [
    "# checking out new variable\n",
    "train.shape, validate.shape, test.shape"
   ],
   "metadata": {
    "collapsed": false,
    "ExecuteTime": {
     "end_time": "2023-12-05T22:36:54.599458Z",
     "start_time": "2023-12-05T22:36:54.457587Z"
    }
   },
   "id": "e5711e8fccb2954d"
  },
  {
   "cell_type": "markdown",
   "source": [
    "# EXPLORE / HYPOTHESISE\n"
   ],
   "metadata": {
    "collapsed": false
   },
   "id": "2078abae085c6597"
  },
  {
   "cell_type": "markdown",
   "source": [
    "### does monthly charges affect the the if people churn or not?"
   ],
   "metadata": {
    "collapsed": false
   },
   "id": "44e746f73272f8e7"
  },
  {
   "cell_type": "code",
   "execution_count": 11,
   "outputs": [
    {
     "data": {
      "text/plain": "<Figure size 640x480 with 1 Axes>",
      "image/png": "[encoded data removed]"
     },
     "metadata": {},
     "output_type": "display_data"
    },
    {
     "name": "stdout",
     "output_type": "stream",
     "text": [
      "Performing T-test:\n",
      "\n",
      "H0: There is NO difference in means of monthly_charges across different categories of churn\n",
      "Ha: There IS a difference in means of monthly_charges across different categories of churn\n",
      "\n",
      "Reject the null hypothesis. The p-value is 1.0911669104936564e-37, which is less than alpha 0.05.\n",
      "There is a statistically significant difference in monthly_charges across different categories of churn.\n"
     ]
    }
   ],
   "source": [
    "# using created function to get hypothesis, graph and test P for categorical and continous variables\n",
    "e.continuous_categorical_relationship(train, 'monthly_charges', 'churn')"
   ],
   "metadata": {
    "collapsed": false,
    "ExecuteTime": {
     "end_time": "2023-12-05T22:36:55.779231Z",
     "start_time": "2023-12-05T22:36:54.464799Z"
    }
   },
   "id": "5ba3939ac6cb9704"
  },
  {
   "cell_type": "markdown",
   "source": [
    "### Does the customer column “senior_citizen” affect whether or not someone churn?"
   ],
   "metadata": {
    "collapsed": false
   },
   "id": "9ba371657de837b9"
  },
  {
   "cell_type": "code",
   "execution_count": 12,
   "outputs": [
    {
     "data": {
      "text/plain": "<Figure size 640x480 with 1 Axes>",
      "image/png": "[encoded data removed]"
     },
     "metadata": {},
     "output_type": "display_data"
    },
    {
     "name": "stdout",
     "output_type": "stream",
     "text": [
      "Crosstab between senior_citizen and churn:\n",
      "churn              0    1\n",
      "senior_citizen           \n",
      "0               2708  835\n",
      "1                390  286\n",
      "\n",
      "H0: There is NO relationship between senior_citizen and churn\n",
      "Ha: There IS a relationship between senior_citizen and churn\n",
      "\n",
      "Reject the null hypothesis. My p-value is 8.206605132251275e-24, which is less than alpha 0.05.\n",
      "We can conclude that there is a relationship between senior_citizen and churn.\n"
     ]
    }
   ],
   "source": [
    "# using created function to get hypothesis, graph and test P for categorical variables\n",
    "e.categorical_relationship(train, 'senior_citizen', 'churn')"
   ],
   "metadata": {
    "collapsed": false,
    "ExecuteTime": {
     "end_time": "2023-12-05T22:36:55.936055Z",
     "start_time": "2023-12-05T22:36:54.654900Z"
    }
   },
   "id": "338804d830d60469"
  },
  {
   "cell_type": "markdown",
   "source": [
    "### Does the customer column \"automatic_payment\" affect whether or not someone churn?"
   ],
   "metadata": {
    "collapsed": false
   },
   "id": "3bad2b9afb6fc7d6"
  },
  {
   "cell_type": "code",
   "execution_count": 13,
   "outputs": [
    {
     "data": {
      "text/plain": "<Figure size 640x480 with 1 Axes>",
      "image/png": "[encoded data removed]"
     },
     "metadata": {},
     "output_type": "display_data"
    },
    {
     "name": "stdout",
     "output_type": "stream",
     "text": [
      "Crosstab between automatic_payment and churn:\n",
      "churn                 0    1\n",
      "automatic_payment           \n",
      "0                  1543  826\n",
      "1                  1555  295\n",
      "\n",
      "H0: There is NO relationship between automatic_payment and churn\n",
      "Ha: There IS a relationship between automatic_payment and churn\n",
      "\n",
      "Reject the null hypothesis. My p-value is 3.802293916720818e-43, which is less than alpha 0.05.\n",
      "We can conclude that there is a relationship between automatic_payment and churn.\n"
     ]
    }
   ],
   "source": [
    "# using created function to get hypothesis, graph and test P for categorical variables\n",
    "e.categorical_relationship(train, 'automatic_payment','churn')"
   ],
   "metadata": {
    "collapsed": false,
    "ExecuteTime": {
     "end_time": "2023-12-05T22:36:55.958736Z",
     "start_time": "2023-12-05T22:36:54.876279Z"
    }
   },
   "id": "a36d82237d4e562f"
  },
  {
   "cell_type": "markdown",
   "source": [
    "### Does the customer column “monthly_payment” affect whether or not someone churn?"
   ],
   "metadata": {
    "collapsed": false
   },
   "id": "7111d7710419715e"
  },
  {
   "cell_type": "code",
   "execution_count": 14,
   "outputs": [
    {
     "data": {
      "text/plain": "<Figure size 640x480 with 1 Axes>",
      "image/png": "[encoded data removed]"
     },
     "metadata": {},
     "output_type": "display_data"
    },
    {
     "name": "stdout",
     "output_type": "stream",
     "text": [
      "Crosstab between monthly_contract and churn:\n",
      "churn                0    1\n",
      "monthly_contract           \n",
      "0                 1755  124\n",
      "1                 1343  997\n",
      "\n",
      "H0: There is NO relationship between monthly_contract and churn\n",
      "Ha: There IS a relationship between monthly_contract and churn\n",
      "\n",
      "Reject the null hypothesis. My p-value is 3.1344622282037087e-152, which is less than alpha 0.05.\n",
      "We can conclude that there is a relationship between monthly_contract and churn.\n"
     ]
    }
   ],
   "source": [
    "# using created function to get hypothesis, graph and test P for categorical variables\n",
    "e.categorical_relationship(train, 'monthly_contract', 'churn')"
   ],
   "metadata": {
    "collapsed": false,
    "ExecuteTime": {
     "end_time": "2023-12-05T22:36:55.959200Z",
     "start_time": "2023-12-05T22:36:55.300903Z"
    }
   },
   "id": "baad0574d04544f1"
  },
  {
   "cell_type": "markdown",
   "source": [
    "My p-value is less than alpha, therefore, we reject the null hypothesis.\n",
    "we can conclude that there is a relationship between monthly_contract and churn."
   ],
   "metadata": {
    "collapsed": false
   },
   "id": "eec0f97359a42dee"
  },
  {
   "cell_type": "markdown",
   "source": [
    "## CONCLUSION"
   ],
   "metadata": {
    "collapsed": false
   },
   "id": "1d67b37bd19a10a1"
  },
  {
   "cell_type": "markdown",
   "source": [
    "We saw there was a relationship between passenger senior_citizen, monthly_contract, automatic_payment, monthly_charges and whether or not they churned.\n"
   ],
   "metadata": {
    "collapsed": false
   },
   "id": "a9ea12436c17b5d3"
  },
  {
   "cell_type": "markdown",
   "source": [
    "# MODEL "
   ],
   "metadata": {
    "collapsed": false
   },
   "id": "684f3bf4e32d4a49"
  },
  {
   "cell_type": "markdown",
   "source": [
    "#### BASELINE"
   ],
   "metadata": {
    "collapsed": false
   },
   "id": "b020eff6002a07ff"
  },
  {
   "cell_type": "code",
   "execution_count": 15,
   "outputs": [
    {
     "data": {
      "text/plain": "0.7342972268310026"
     },
     "execution_count": 15,
     "metadata": {},
     "output_type": "execute_result"
    }
   ],
   "source": [
    "# creating baseline prediction\n",
    "1 - train['churn'].mean() "
   ],
   "metadata": {
    "collapsed": false,
    "ExecuteTime": {
     "end_time": "2023-12-05T22:36:55.959533Z",
     "start_time": "2023-12-05T22:36:55.614105Z"
    }
   },
   "id": "4f1725ada3b44654"
  },
  {
   "cell_type": "markdown",
   "source": [
    "for baseline prediction i said the every customer would not churn which gave me a 73%"
   ],
   "metadata": {
    "collapsed": false
   },
   "id": "f534ae786b9ddadd"
  },
  {
   "cell_type": "markdown",
   "source": [
    "for my model after trying out different models i decided my best model for the problem at hand would be a decision tree \n"
   ],
   "metadata": {
    "collapsed": false
   },
   "id": "d7a23c5757ac4656"
  },
  {
   "cell_type": "code",
   "execution_count": 19,
   "outputs": [],
   "source": [
    "# creating and fitting the models\n",
    "tree, X_train, y_train, y_pred_train =m.create_fit_predict_model(train,3,10)\n",
    "tree, X_val, y_val, y_pred_val = m.create_fit_predict_model(validate,3,10)"
   ],
   "metadata": {
    "collapsed": false,
    "ExecuteTime": {
     "end_time": "2023-12-05T22:37:03.263238Z",
     "start_time": "2023-12-05T22:37:03.194142Z"
    }
   },
   "id": "9ac64f37af324a28"
  },
  {
   "cell_type": "code",
   "execution_count": 20,
   "outputs": [
    {
     "name": "stdout",
     "output_type": "stream",
     "text": [
      "max depth of 1, the accuracy train = 0.73, val = 0.73\n",
      "max depth of 2, the accuracy train = 0.76, val = 0.75\n",
      "max depth of 3, the accuracy train = 0.79, val = 0.79\n",
      "max depth of 4, the accuracy train = 0.79, val = 0.8\n",
      "max depth of 5, the accuracy train = 0.8, val = 0.8\n",
      "max depth of 6, the accuracy train = 0.8, val = 0.8\n",
      "max depth of 7, the accuracy train = 0.81, val = 0.79\n",
      "max depth of 8, the accuracy train = 0.82, val = 0.78\n",
      "max depth of 9, the accuracy train = 0.83, val = 0.78\n",
      "max depth of 10, the accuracy train = 0.83, val = 0.77\n",
      "max depth of 11, the accuracy train = 0.84, val = 0.78\n",
      "max depth of 12, the accuracy train = 0.84, val = 0.77\n",
      "max depth of 13, the accuracy train = 0.84, val = 0.77\n"
     ]
    }
   ],
   "source": [
    "# now trying out many different max depth to see which one gives best result on the train and validate\n",
    "for x in range(1,14):\n",
    "    #create the object\n",
    "    tree = DecisionTreeClassifier(max_depth=x,min_samples_leaf=10)\n",
    "    \n",
    "    #fit the object\n",
    "    tree.fit(X_train, y_train) \n",
    "    \n",
    "    #calculate the accuracy for train\n",
    "    acc = tree.score(X_train, y_train)\n",
    "    \n",
    "    #calculate the accuracy for validate\n",
    "    acc_v = tree.score(X_val, y_val)\n",
    "    \n",
    "    print(f'max depth of {x}, the accuracy train = {round(acc,2)}, val = {round(acc_v,2)}')"
   ],
   "metadata": {
    "collapsed": false,
    "ExecuteTime": {
     "end_time": "2023-12-05T22:37:12.216041Z",
     "start_time": "2023-12-05T22:37:12.076567Z"
    }
   },
   "id": "77b0f922902df9bb"
  },
  {
   "cell_type": "markdown",
   "source": [
    "max depth 5 turned out to be the best model"
   ],
   "metadata": {
    "collapsed": false
   },
   "id": "74b571f0260e57e6"
  },
  {
   "cell_type": "markdown",
   "source": [
    "# max depth 5 and sample leaf 10"
   ],
   "metadata": {
    "collapsed": false
   },
   "id": "1fd04b743eed9fee"
  },
  {
   "cell_type": "code",
   "execution_count": 26,
   "outputs": [],
   "source": [
    "tree, X_test, y_test, y_pred_test = m.create_fit_predict_model(test,5,10)"
   ],
   "metadata": {
    "collapsed": false,
    "ExecuteTime": {
     "end_time": "2023-12-05T22:40:45.736795Z",
     "start_time": "2023-12-05T22:40:45.714520Z"
    }
   },
   "id": "31a47c656e8631cf"
  },
  {
   "cell_type": "code",
   "execution_count": 27,
   "outputs": [],
   "source": [
    "# creating the accuracy score for test\n",
    "acc_test = tree.score(X_test, y_test)"
   ],
   "metadata": {
    "collapsed": false,
    "ExecuteTime": {
     "end_time": "2023-12-05T22:40:48.557584Z",
     "start_time": "2023-12-05T22:40:48.417125Z"
    }
   },
   "id": "427f635276fb560e"
  },
  {
   "cell_type": "code",
   "execution_count": 29,
   "outputs": [
    {
     "data": {
      "text/plain": "0.81"
     },
     "execution_count": 29,
     "metadata": {},
     "output_type": "execute_result"
    }
   ],
   "source": [
    "round(acc_test, 2)"
   ],
   "metadata": {
    "collapsed": false,
    "ExecuteTime": {
     "end_time": "2023-12-05T22:41:13.592415Z",
     "start_time": "2023-12-05T22:41:13.552644Z"
    }
   },
   "id": "e6a32e1ad09dda49"
  },
  {
   "cell_type": "markdown",
   "source": [
    "i got a 81% on the test which is higher then the basline accuracy of 73%"
   ],
   "metadata": {
    "collapsed": false
   },
   "id": "232cecaf6efed82e"
  },
  {
   "cell_type": "markdown",
   "source": [
    "# CONCLUSION"
   ],
   "metadata": {
    "collapsed": false
   },
   "id": "e9913d83cf55c385"
  },
  {
   "cell_type": "markdown",
   "source": [
    "here are some ideas to possibly lower the churn rate. \n",
    "\n",
    "Senior Citizens:\n",
    ">Tailored Communication: Customize communication and support for senior citizens. This could include clearer, larger print on bills and correspondence, or a dedicated support line.\n",
    "    \n",
    "Monthly Contracts:\n",
    ">Incentivize Longer Contracts: Offer incentives for customers to switch from monthly to longer-term contracts, such as annual plans. These could be discounts, additional features, or loyalty rewards.\n",
    "    \n",
    "Automatic Payment Methods:\n",
    ">Promote Automatic Payments: Encourage customers to use automatic payment methods by offering discounts or additional benefits. Make sure the process of setting up automatic payments is simple and secure."
   ],
   "metadata": {
    "collapsed": false
   },
   "id": "ec0f515ca2f01a00"
  },
  {
   "cell_type": "markdown",
   "source": [
    "with more time i would...\n",
    ">look at more variables\n",
    ">create different models \n",
    ">look up more possible way to fix the cause of the problems"
   ],
   "metadata": {
    "collapsed": false
   },
   "id": "aba376e8a67dcebf"
  },
  {
   "cell_type": "markdown",
   "source": [
    "with the model created right now we can identify high risk customers now and for the future and send special offers depending on the category they fall in"
   ],
   "metadata": {
    "collapsed": false
   },
   "id": "81e7fb2d84a36b50"
  }
 ],
 "metadata": {
  "kernelspec": {
   "display_name": "Python 3",
   "language": "python",
   "name": "python3"
  },
  "language_info": {
   "codemirror_mode": {
    "name": "ipython",
    "version": 2
   },
   "file_extension": ".py",
   "mimetype": "text/x-python",
   "name": "python",
   "nbconvert_exporter": "python",
   "pygments_lexer": "ipython2",
   "version": "2.7.6"
  }
 },
 "nbformat": 4,
 "nbformat_minor": 5
}
