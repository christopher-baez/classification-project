{
 "cells": [
  {
   "cell_type": "code",
   "execution_count": 2,
   "id": "initial_id",
   "metadata": {
    "collapsed": true,
    "ExecuteTime": {
     "end_time": "2023-12-01T16:49:00.015679Z",
     "start_time": "2023-12-01T16:48:59.808234Z"
    }
   },
   "outputs": [],
   "source": [
    "# importing all the imports needed for this phase\n",
    "import pandas as pd\n",
    "import numpy as np\n",
    "\n",
    "import matplotlib.pyplot as plt\n",
    "import seaborn as sns\n",
    "\n",
    "import env"
   ]
  },
  {
   "cell_type": "markdown",
   "source": [
    "> ACQUIRE"
   ],
   "metadata": {
    "collapsed": false
   },
   "id": "84fc1162f184c315"
  },
  {
   "cell_type": "code",
   "execution_count": 6,
   "outputs": [],
   "source": [
    "# creating the url and creating SQL query to pull data\n",
    "url = env.get_db_url('telco_churn')\n",
    "query = \"select * from customers join contract_types using(contract_type_id) join internet_service_types using(internet_service_type_id) join payment_types using(payment_type_id)\""
   ],
   "metadata": {
    "collapsed": false,
    "ExecuteTime": {
     "end_time": "2023-12-01T16:51:32.597146Z",
     "start_time": "2023-12-01T16:51:32.559044Z"
    }
   },
   "id": "5521654dd4ed55d7"
  },
  {
   "cell_type": "code",
   "execution_count": 7,
   "outputs": [],
   "source": [
    "# pulling database using read sql function\n",
    "df = pd.read_sql(query, url)"
   ],
   "metadata": {
    "collapsed": false,
    "ExecuteTime": {
     "end_time": "2023-12-01T16:53:05.905065Z",
     "start_time": "2023-12-01T16:53:04.175681Z"
    }
   },
   "id": "22c13e0435ae9ad7"
  },
  {
   "cell_type": "code",
   "execution_count": 8,
   "outputs": [
    {
     "data": {
      "text/plain": "   payment_type_id  internet_service_type_id  contract_type_id customer_id  \\\n0                2                         1                 2  0002-ORFBO   \n1                2                         1                 1  0003-MKNFE   \n2                1                         2                 1  0004-TLHLJ   \n3                1                         2                 1  0011-IGKFF   \n4                2                         2                 1  0013-EXCHZ   \n\n   gender  senior_citizen partner dependents  tenure phone_service  ...  \\\n0  Female               0     Yes        Yes       9           Yes  ...   \n1    Male               0      No         No       9           Yes  ...   \n2    Male               0      No         No       4           Yes  ...   \n3    Male               1     Yes         No      13           Yes  ...   \n4  Female               1     Yes         No       3           Yes  ...   \n\n  tech_support streaming_tv streaming_movies paperless_billing  \\\n0          Yes          Yes               No               Yes   \n1           No           No              Yes                No   \n2           No           No               No               Yes   \n3           No          Yes              Yes               Yes   \n4          Yes          Yes               No               Yes   \n\n  monthly_charges total_charges churn   contract_type  internet_service_type  \\\n0            65.6         593.3    No        One year                    DSL   \n1            59.9         542.4    No  Month-to-month                    DSL   \n2            73.9        280.85   Yes  Month-to-month            Fiber optic   \n3            98.0       1237.85   Yes  Month-to-month            Fiber optic   \n4            83.9         267.4   Yes  Month-to-month            Fiber optic   \n\n       payment_type  \n0      Mailed check  \n1      Mailed check  \n2  Electronic check  \n3  Electronic check  \n4      Mailed check  \n\n[5 rows x 24 columns]",
      "text/html": "<div>\n<style scoped>\n    .dataframe tbody tr th:only-of-type {\n        vertical-align: middle;\n    }\n\n    .dataframe tbody tr th {\n        vertical-align: top;\n    }\n\n    .dataframe thead th {\n        text-align: right;\n    }\n</style>\n<table border=\"1\" class=\"dataframe\">\n  <thead>\n    <tr style=\"text-align: right;\">\n      <th></th>\n      <th>payment_type_id</th>\n      <th>internet_service_type_id</th>\n      <th>contract_type_id</th>\n      <th>customer_id</th>\n      <th>gender</th>\n      <th>senior_citizen</th>\n      <th>partner</th>\n      <th>dependents</th>\n      <th>tenure</th>\n      <th>phone_service</th>\n      <th>...</th>\n      <th>tech_support</th>\n      <th>streaming_tv</th>\n      <th>streaming_movies</th>\n      <th>paperless_billing</th>\n      <th>monthly_charges</th>\n      <th>total_charges</th>\n      <th>churn</th>\n      <th>contract_type</th>\n      <th>internet_service_type</th>\n      <th>payment_type</th>\n    </tr>\n  </thead>\n  <tbody>\n    <tr>\n      <th>0</th>\n      <td>2</td>\n      <td>1</td>\n      <td>2</td>\n      <td>0002-ORFBO</td>\n      <td>Female</td>\n      <td>0</td>\n      <td>Yes</td>\n      <td>Yes</td>\n      <td>9</td>\n      <td>Yes</td>\n      <td>...</td>\n      <td>Yes</td>\n      <td>Yes</td>\n      <td>No</td>\n      <td>Yes</td>\n      <td>65.6</td>\n      <td>593.3</td>\n      <td>No</td>\n      <td>One year</td>\n      <td>DSL</td>\n      <td>Mailed check</td>\n    </tr>\n    <tr>\n      <th>1</th>\n      <td>2</td>\n      <td>1</td>\n      <td>1</td>\n      <td>0003-MKNFE</td>\n      <td>Male</td>\n      <td>0</td>\n      <td>No</td>\n      <td>No</td>\n      <td>9</td>\n      <td>Yes</td>\n      <td>...</td>\n      <td>No</td>\n      <td>No</td>\n      <td>Yes</td>\n      <td>No</td>\n      <td>59.9</td>\n      <td>542.4</td>\n      <td>No</td>\n      <td>Month-to-month</td>\n      <td>DSL</td>\n      <td>Mailed check</td>\n    </tr>\n    <tr>\n      <th>2</th>\n      <td>1</td>\n      <td>2</td>\n      <td>1</td>\n      <td>0004-TLHLJ</td>\n      <td>Male</td>\n      <td>0</td>\n      <td>No</td>\n      <td>No</td>\n      <td>4</td>\n      <td>Yes</td>\n      <td>...</td>\n      <td>No</td>\n      <td>No</td>\n      <td>No</td>\n      <td>Yes</td>\n      <td>73.9</td>\n      <td>280.85</td>\n      <td>Yes</td>\n      <td>Month-to-month</td>\n      <td>Fiber optic</td>\n      <td>Electronic check</td>\n    </tr>\n    <tr>\n      <th>3</th>\n      <td>1</td>\n      <td>2</td>\n      <td>1</td>\n      <td>0011-IGKFF</td>\n      <td>Male</td>\n      <td>1</td>\n      <td>Yes</td>\n      <td>No</td>\n      <td>13</td>\n      <td>Yes</td>\n      <td>...</td>\n      <td>No</td>\n      <td>Yes</td>\n      <td>Yes</td>\n      <td>Yes</td>\n      <td>98.0</td>\n      <td>1237.85</td>\n      <td>Yes</td>\n      <td>Month-to-month</td>\n      <td>Fiber optic</td>\n      <td>Electronic check</td>\n    </tr>\n    <tr>\n      <th>4</th>\n      <td>2</td>\n      <td>2</td>\n      <td>1</td>\n      <td>0013-EXCHZ</td>\n      <td>Female</td>\n      <td>1</td>\n      <td>Yes</td>\n      <td>No</td>\n      <td>3</td>\n      <td>Yes</td>\n      <td>...</td>\n      <td>Yes</td>\n      <td>Yes</td>\n      <td>No</td>\n      <td>Yes</td>\n      <td>83.9</td>\n      <td>267.4</td>\n      <td>Yes</td>\n      <td>Month-to-month</td>\n      <td>Fiber optic</td>\n      <td>Mailed check</td>\n    </tr>\n  </tbody>\n</table>\n<p>5 rows × 24 columns</p>\n</div>"
     },
     "execution_count": 8,
     "metadata": {},
     "output_type": "execute_result"
    }
   ],
   "source": [
    "# checking top 5 rows in data\n",
    "df.head()in"
   ],
   "metadata": {
    "collapsed": false,
    "ExecuteTime": {
     "end_time": "2023-12-01T16:53:10.401604Z",
     "start_time": "2023-12-01T16:53:10.286975Z"
    }
   },
   "id": "90ec710a0c3a472f"
  },
  {
   "cell_type": "code",
   "execution_count": 10,
   "outputs": [
    {
     "data": {
      "text/plain": "(7043, 24)"
     },
     "execution_count": 10,
     "metadata": {},
     "output_type": "execute_result"
    }
   ],
   "source": [
    "# checking the size of the data\n",
    "df.shape"
   ],
   "metadata": {
    "collapsed": false,
    "ExecuteTime": {
     "end_time": "2023-12-01T16:55:11.473855Z",
     "start_time": "2023-12-01T16:55:11.343024Z"
    }
   },
   "id": "3977ee524aef35cb"
  },
  {
   "cell_type": "markdown",
   "source": [
    ">there are 7043 rows and 24 columns"
   ],
   "metadata": {
    "collapsed": false
   },
   "id": "bc7ceb82b7a88388"
  },
  {
   "cell_type": "markdown",
   "source": [
    "from this data i can initially see what are some columns that can be important and some that are not"
   ],
   "metadata": {
    "collapsed": false
   },
   "id": "9279c06dbd2a1773"
  },
  {
   "cell_type": "markdown",
   "source": [
    "important\n",
    "> gender\n",
    "> tenure\n",
    "> senior\n",
    "> monthly"
   ],
   "metadata": {
    "collapsed": false
   },
   "id": "af8705b4180b34a7"
  },
  {
   "cell_type": "markdown",
   "source": [
    "unimportant\n",
    "> payment_type_id\n",
    "> internet_service_type\n",
    "> contract_type_id\n",
    "> customer_id ( theres already an index)  "
   ],
   "metadata": {
    "collapsed": false
   },
   "id": "ad4f9411a1abedd6"
  },
  {
   "cell_type": "code",
   "execution_count": null,
   "outputs": [],
   "source": [],
   "metadata": {
    "collapsed": false
   },
   "id": "c41f0acda3ce4215"
  }
 ],
 "metadata": {
  "kernelspec": {
   "display_name": "Python 3",
   "language": "python",
   "name": "python3"
  },
  "language_info": {
   "codemirror_mode": {
    "name": "ipython",
    "version": 2
   },
   "file_extension": ".py",
   "mimetype": "text/x-python",
   "name": "python",
   "nbconvert_exporter": "python",
   "pygments_lexer": "ipython2",
   "version": "2.7.6"
  }
 },
 "nbformat": 4,
 "nbformat_minor": 5
}
